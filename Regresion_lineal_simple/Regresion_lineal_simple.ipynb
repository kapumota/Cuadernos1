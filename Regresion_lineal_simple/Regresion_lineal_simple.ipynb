{
 "cells": [
  {
   "cell_type": "markdown",
   "metadata": {},
   "source": [
    "## Regresión lineal simple\n",
    "\n",
    "### Objetivos\n",
    "\n",
    "Después de completar este cuaderno, podrá:\n",
    "\n",
    "* Usar scikit-learn para implementar una regresión lineal simple\n",
    "* Crear un modelo, entrenarlo, probarlo y utilizarlo.\n"
   ]
  },
  {
   "cell_type": "markdown",
   "metadata": {},
   "source": [
    "### Importando los paquete necesarios\n"
   ]
  },
  {
   "cell_type": "code",
   "execution_count": null,
   "metadata": {},
   "outputs": [],
   "source": [
    "!pip install scikit-learn\n",
    "!pip install matplotlib\n",
    "!pip install pandas \n",
    "!pip install numpy \n",
    "%matplotlib inline"
   ]
  },
  {
   "cell_type": "code",
   "execution_count": null,
   "metadata": {},
   "outputs": [],
   "source": [
    "import matplotlib.pyplot as plt\n",
    "import pandas as pd\n",
    "import numpy as np"
   ]
  },
  {
   "cell_type": "markdown",
   "metadata": {},
   "source": [
    "### Descarga de datos\n",
    "Para descargar los datos, utilizaremos !curl para descargar el conjunto de datos.\n",
    "\n"
   ]
  },
  {
   "cell_type": "code",
   "execution_count": null,
   "metadata": {},
   "outputs": [],
   "source": [
    "!curl https://cf-courses-data.s3.us.cloud-object-storage.appdomain.cloud/IBMDeveloperSkillsNetwork-ML0101EN-SkillsNetwork/labs/Module%202/data/FuelConsumptionCo2.csv -o FuelConsumptionCo2.csv"
   ]
  },
  {
   "cell_type": "markdown",
   "metadata": {},
   "source": [
    "### Entendiendo los Datos\n",
    "\n",
    "#### `FuelConsumptionCo2.csv`:\n",
    "\n",
    "Hemos descargado un conjunto de datos sobre el consumo de combustible, **`FuelConsumptionCo2.csv`**, que contiene calificaciones específicas de consumo de combustible y estimaciones de emisiones de dióxido de carbono para vehículos nuevos de servicio ligero destinados a la venta minorista en Canadá. [Fuente del conjunto de datos](http://open.canada.ca/data/en/dataset/98f1a129-f628-4ce4-b24d-6f16bf24dd64)\n",
    "\n",
    "- **MODELYEAR** (Año del modelo) ej. 2014  \n",
    "- **MAKE** (Marca) ej. Acura  \n",
    "- **MODEL** (Modelo) ej. ILX  \n",
    "- **VEHICLE CLASS** (Clase de vehículo) ej. SUV  \n",
    "- **ENGINE SIZE** (Tamaño del motor) ej. 4.7  \n",
    "- **CYLINDERS** (Cilindros) ej. 6  \n",
    "- **TRANSMISSION** (Transmisión) ej. A6  \n",
    "- **FUEL CONSUMPTION in CITY (L/100 km)** (Consumo de combustible en ciudad) ej. 9.9  \n",
    "- **FUEL CONSUMPTION in HWY (L/100 km)** (Consumo de combustible en carretera) ej. 8.9  \n",
    "- **FUEL CONSUMPTION COMB (L/100 km)** (Consumo de combustible combinado) ej. 9.2  \n",
    "- **CO2 EMISSIONS (g/km)** (Emisiones de CO₂) ej. 182 → bajo → 0  \n"
   ]
  },
  {
   "cell_type": "markdown",
   "metadata": {},
   "source": [
    "### Leyendo la data\n"
   ]
  },
  {
   "cell_type": "code",
   "execution_count": null,
   "metadata": {},
   "outputs": [],
   "source": [
    "df = pd.read_csv(\"FuelConsumptionCo2.csv\")\n",
    "\n",
    "# tomando una mirada al conjunto de datos\n",
    "df.head()\n",
    "\n"
   ]
  },
  {
   "cell_type": "markdown",
   "metadata": {},
   "source": [
    "### Exploracion de datos\n"
   ]
  },
  {
   "cell_type": "code",
   "execution_count": null,
   "metadata": {},
   "outputs": [],
   "source": [
    "# Resumen de la data\n",
    "df.describe()"
   ]
  },
  {
   "cell_type": "markdown",
   "metadata": {},
   "source": [
    "Selecciona algunas características para explorar más.\n"
   ]
  },
  {
   "cell_type": "code",
   "execution_count": null,
   "metadata": {},
   "outputs": [],
   "source": [
    "cdf = df[['ENGINESIZE','CYLINDERS','FUELCONSUMPTION_COMB','CO2EMISSIONS']]\n",
    "cdf.head(9)"
   ]
  },
  {
   "cell_type": "markdown",
   "metadata": {},
   "source": [
    "Podemos dibujar cada una de esas características:\n"
   ]
  },
  {
   "cell_type": "code",
   "execution_count": null,
   "metadata": {},
   "outputs": [],
   "source": [
    "viz = cdf[['CYLINDERS','ENGINESIZE','CO2EMISSIONS','FUELCONSUMPTION_COMB']]\n",
    "viz.hist()\n",
    "plt.show()"
   ]
  },
  {
   "cell_type": "markdown",
   "metadata": {},
   "source": [
    "Ahora, graficaremos cada una de estas características contra Emission, para ver cuán lineal es su relación:"
   ]
  },
  {
   "cell_type": "code",
   "execution_count": null,
   "metadata": {},
   "outputs": [],
   "source": [
    "plt.scatter(cdf.FUELCONSUMPTION_COMB, cdf.CO2EMISSIONS,  color='blue')\n",
    "plt.xlabel(\"FUELCONSUMPTION_COMB\")\n",
    "plt.ylabel(\"Emission\")\n",
    "plt.show()"
   ]
  },
  {
   "cell_type": "code",
   "execution_count": null,
   "metadata": {},
   "outputs": [],
   "source": [
    "plt.scatter(cdf.ENGINESIZE, cdf.CO2EMISSIONS,  color='blue')\n",
    "plt.xlabel(\"Engine size\")\n",
    "plt.ylabel(\"Emission\")\n",
    "plt.show()"
   ]
  },
  {
   "cell_type": "markdown",
   "metadata": {},
   "source": [
    "### Práctica\n",
    "Gráfica __CYLINDER__ vs Emission para ver qué tan lineal es su relación:\n"
   ]
  },
  {
   "cell_type": "code",
   "execution_count": null,
   "metadata": {},
   "outputs": [],
   "source": [
    "# Escribe tu codigo aqui\n"
   ]
  },
  {
   "cell_type": "markdown",
   "metadata": {},
   "source": [
    "<details><summary>Click para la solución</summary>\n",
    "\n",
    "```python    \n",
    "plt.scatter(cdf.CYLINDERS, cdf.CO2EMISSIONS, color='blue')\n",
    "plt.xlabel(\"Cylinders\")\n",
    "plt.ylabel(\"Emission\")\n",
    "plt.show()\n",
    "\n",
    "```\n",
    "\n",
    "</details>\n"
   ]
  },
  {
   "cell_type": "markdown",
   "metadata": {},
   "source": [
    " #### Creación del conjunto de datos de entrenamiento y prueba  \n",
    "\n",
    "La división en entrenamiento y prueba (**Train/Test Split**) consiste en dividir el conjunto de datos en dos subconjuntos: uno para entrenamiento y otro para prueba, los cuales son mutuamente excluyentes. Primero, se entrena el modelo con el conjunto de entrenamiento y luego se evalúa con el conjunto de prueba.  \n",
    "\n",
    "Esto proporciona una evaluación más precisa de la precisión en datos no vistos (**out-of-sample accuracy**) porque el conjunto de prueba no forma parte de los datos utilizados para entrenar el modelo. Por lo tanto, nos permite comprender mejor qué tan bien se generaliza el modelo a nuevos datos.  \n",
    "\n",
    "Esto significa que conocemos el resultado de cada punto de datos en el conjunto de prueba, lo que lo convierte en una excelente opción para la evaluación. Dado que estos datos no se han utilizado en el entrenamiento del modelo, el modelo no tiene conocimiento previo de sus resultados. En esencia, esto representa una verdadera prueba con datos no vistos.  \n",
    "\n",
    "Dividamos nuestro conjunto de datos en conjuntos de entrenamiento y prueba. Usaremos el **80%** de los datos para el entrenamiento y el **20%** para la prueba. Para seleccionar filas aleatorias, creamos una máscara utilizando la función **`np.random.rand()`**:  \n",
    "\n",
    "\n"
   ]
  },
  {
   "cell_type": "code",
   "execution_count": null,
   "metadata": {},
   "outputs": [],
   "source": [
    "msk = np.random.rand(len(df)) < 0.8\n",
    "train = cdf[msk]\n",
    "test = cdf[~msk]"
   ]
  },
  {
   "cell_type": "markdown",
   "metadata": {},
   "source": [
    "### Modelo de regresión simple  \n",
    "\n",
    "La **Regresión Lineal** ajusta un modelo lineal con coeficientes **B = (B1, ..., Bn)** para minimizar la **\"suma de los residuos al cuadrado\"** entre el valor real **y** en el conjunto de datos y el valor predicho **ŷ** utilizando una aproximación lineal.\n"
   ]
  },
  {
   "cell_type": "markdown",
   "metadata": {},
   "source": [
    "#### Distribución de los datos de entrenamiento\n"
   ]
  },
  {
   "cell_type": "code",
   "execution_count": null,
   "metadata": {},
   "outputs": [],
   "source": [
    "plt.scatter(train.ENGINESIZE, train.CO2EMISSIONS,  color='blue')\n",
    "plt.xlabel(\"Engine size\")\n",
    "plt.ylabel(\"Emission\")\n",
    "plt.show()"
   ]
  },
  {
   "cell_type": "markdown",
   "metadata": {},
   "source": [
    "#### Modelado  \n",
    "\n",
    "Usando el paquete **sklearn** para modelar los datos.\n"
   ]
  },
  {
   "cell_type": "code",
   "execution_count": null,
   "metadata": {},
   "outputs": [],
   "source": [
    "from sklearn import linear_model\n",
    "regr = linear_model.LinearRegression()\n",
    "train_x = np.asanyarray(train[['ENGINESIZE']])\n",
    "train_y = np.asanyarray(train[['CO2EMISSIONS']])\n",
    "regr.fit(train_x, train_y)\n",
    "# The coefficients\n",
    "print ('Coeficientes: ', regr.coef_)\n",
    "print ('Intercepto: ',regr.intercept_)"
   ]
  },
  {
   "cell_type": "markdown",
   "metadata": {},
   "source": [
    "Como se mencionó anteriormente, el **coeficiente** y la **intersección** en la regresión lineal simple son los parámetros de la línea ajustada.  \n",
    "\n",
    "Dado que es una regresión lineal simple con solo **2 parámetros**, y sabiendo que estos representan la intersección y la pendiente de la línea, **sklearn** puede estimarlos directamente a partir de nuestros datos.  \n",
    "\n",
    "Es importante notar que **todos los datos deben estar disponibles** para recorrerlos y calcular los parámetros.\n"
   ]
  },
  {
   "cell_type": "markdown",
   "metadata": {},
   "source": [
    "#### Gráfico de los resultados\n"
   ]
  },
  {
   "cell_type": "markdown",
   "metadata": {},
   "source": [
    "Podemos graficar la línea de ajuste sobre los datos:"
   ]
  },
  {
   "cell_type": "code",
   "execution_count": null,
   "metadata": {},
   "outputs": [],
   "source": [
    "plt.scatter(train.ENGINESIZE, train.CO2EMISSIONS,  color='blue')\n",
    "plt.plot(train_x, regr.coef_[0][0]*train_x + regr.intercept_[0], '-r')\n",
    "plt.xlabel(\"Engine size\")\n",
    "plt.ylabel(\"Emission\")"
   ]
  },
  {
   "cell_type": "markdown",
   "metadata": {},
   "source": [
    "#### Evaluación  \n",
    "\n",
    "Comparamos los valores reales con los valores predichos para calcular la precisión de un modelo de regresión. Las métricas de evaluación juegan un papel clave en el desarrollo de un modelo, ya que proporcionan información sobre las áreas que requieren mejora.  \n",
    "\n",
    "Existen diferentes métricas de evaluación de modelos, pero aquí utilizaremos **MSE** para calcular la precisión de nuestro modelo en función del conjunto de prueba:  \n",
    "\n",
    "- **Error absoluto medio (Mean Absolute Error - MAE):** Es el promedio del valor absoluto de los errores. Es la métrica más fácil de entender, ya que representa simplemente el error promedio.  \n",
    "\n",
    "- **Error cuadrático medio (Mean Squared Error - MSE):** Es el promedio del error al cuadrado. Es más popular que el **Error Absoluto Medio**, ya que se enfoca más en los errores grandes. Esto se debe a que el término cuadrático amplifica los errores más grandes en comparación con los más pequeños.  \n",
    "\n",
    "- **Raíz del error cuadrático medio (Root Mean Squared Error - RMSE):** Es la raíz cuadrada del MSE y proporciona una medida más interpretable de los errores en las mismas unidades que los datos originales.  \n",
    "\n",
    "- **R-cuadrado (R²):** No es un error, sino una métrica popular para medir el rendimiento de un modelo de regresión. Representa qué tan cerca están los puntos de datos de la línea de regresión ajustada. Un valor de **R²** más alto indica un mejor ajuste del modelo a los datos. El mejor valor posible es **1.0**, y puede ser negativo si el modelo es arbitrariamente peor que un modelo base simple.\n"
   ]
  },
  {
   "cell_type": "code",
   "execution_count": null,
   "metadata": {},
   "outputs": [],
   "source": [
    "from sklearn.metrics import r2_score\n",
    "\n",
    "test_x = np.asanyarray(test[['ENGINESIZE']])\n",
    "test_y = np.asanyarray(test[['CO2EMISSIONS']])\n",
    "test_y_ = regr.predict(test_x)\n",
    "\n",
    "print(\"Error abosluto medio: %.2f\" % np.mean(np.absolute(test_y_ - test_y)))\n",
    "print(\"Suma de los residuos al cuadrado (MSE): %.2f\" % np.mean((test_y_ - test_y) ** 2))\n",
    "print(\"R2-score: %.2f\" % r2_score(test_y , test_y_) )"
   ]
  },
  {
   "cell_type": "markdown",
   "metadata": {},
   "source": [
    "### Ejercicios\n"
   ]
  },
  {
   "cell_type": "markdown",
   "metadata": {},
   "source": [
    "\n",
    "Veamos cuáles son las métricas de evaluación si entrenamos un modelo de regresión utilizando la característica **`FUELCONSUMPTION_COMB`**.  \n",
    "\n",
    "Comencemos seleccionando **`FUELCONSUMPTION_COMB`** como los datos de **`train_x`** del **dataframe `train`**, y luego seleccionemos **`FUELCONSUMPTION_COMB`** como los datos de **`test_x`** del **dataframe `test`**.\n"
   ]
  },
  {
   "cell_type": "code",
   "execution_count": null,
   "metadata": {},
   "outputs": [],
   "source": [
    "train_x = #Agregar codigo\n",
    "\n",
    "test_x = #Agregar codigo"
   ]
  },
  {
   "cell_type": "markdown",
   "metadata": {},
   "source": [
    "<details><summary>Click para la solución</summary>\n",
    "\n",
    "```python    \n",
    "train_x = train[[\"FUELCONSUMPTION_COMB\"]]\n",
    "\n",
    "test_x = test[[\"FUELCONSUMPTION_COMB\"]]\n",
    "\n",
    "```\n",
    "\n",
    "</details>\n"
   ]
  },
  {
   "cell_type": "markdown",
   "metadata": {},
   "source": [
    "Ahora, entrena un modelo de **Regresión Lineal** utilizando los datos de **`train_x`** que creaste y los datos de **`train_y`** que seleccionaste previamente.\n"
   ]
  },
  {
   "cell_type": "code",
   "execution_count": null,
   "metadata": {},
   "outputs": [],
   "source": [
    "regr = linear_model.LinearRegression()\n",
    "\n",
    "#Agrega codigo"
   ]
  },
  {
   "cell_type": "markdown",
   "metadata": {},
   "source": [
    "<details><summary>Click para la solución</summary>\n",
    "\n",
    "```python    \n",
    "regr = linear_model.LinearRegression()\n",
    "\n",
    "regr.fit(train_x, train_y)\n",
    "\n",
    "```\n",
    "\n",
    "</details>\n"
   ]
  },
  {
   "cell_type": "markdown",
   "metadata": {},
   "source": [
    "\n",
    "Encuentra las predicciones utilizando la función **`predict`** del modelo y los datos de **`test_x`**.\n"
   ]
  },
  {
   "cell_type": "code",
   "execution_count": null,
   "metadata": {},
   "outputs": [],
   "source": [
    "#Click para la solución\n",
    "predictions = #Agrega codigo"
   ]
  },
  {
   "cell_type": "markdown",
   "metadata": {},
   "source": [
    "<details><summary>Click para la solución</summary>\n",
    "\n",
    "```python    \n",
    "predictions = regr.predict(test_x)\n",
    "\n",
    "```\n",
    "\n",
    "</details>\n"
   ]
  },
  {
   "cell_type": "markdown",
   "metadata": {},
   "source": [
    "Finalmente, utiliza las **predicciones** y los datos de **`test_y`** para calcular el **Error Absoluto Medio (Mean Absolute Error - MAE)** utilizando las funciones **`np.absolute`** y **`np.mean`**, como se hizo anteriormente:\n",
    "\n"
   ]
  },
  {
   "cell_type": "code",
   "execution_count": null,
   "metadata": {},
   "outputs": [],
   "source": [
    "#Agrega codigo\n"
   ]
  },
  {
   "cell_type": "markdown",
   "metadata": {},
   "source": [
    "<details><summary>Click para la solución</summary>\n",
    "\n",
    "```python    \n",
    "print(\"Mean Absolute Error: %.2f\" % np.mean(np.absolute(predictions - test_y)))\n",
    "\n",
    "```\n",
    "\n",
    "</details>\n"
   ]
  },
  {
   "cell_type": "markdown",
   "metadata": {},
   "source": [
    "Podemos ver que el **MAE** es mucho peor cuando entrenamos usando **`ENGINESIZE`** que cuando usamos **`FUELCONSUMPTION_COMB`**.\n"
   ]
  }
 ],
 "metadata": {
  "kernelspec": {
   "display_name": "Python 3 (ipykernel)",
   "language": "python",
   "name": "python3"
  },
  "language_info": {
   "codemirror_mode": {
    "name": "ipython",
    "version": 3
   },
   "file_extension": ".py",
   "mimetype": "text/x-python",
   "name": "python",
   "nbconvert_exporter": "python",
   "pygments_lexer": "ipython3",
   "version": "3.12.4"
  },
  "prev_pub_hash": "5f8ee644077e5ba28b20600867d61e73936a56137e2e15fd3581128dfa2d3cc6"
 },
 "nbformat": 4,
 "nbformat_minor": 4
}

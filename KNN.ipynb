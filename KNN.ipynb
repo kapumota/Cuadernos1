{
 "cells": [
  {
   "cell_type": "markdown",
   "metadata": {},
   "source": [
    "## K-Nearest Neighbors  \n",
    "\n",
    "### Objetivos  \n",
    "\n",
    "Después de completar este cuaderno, serás capaz de:  \n",
    "\n",
    "* Utilizar **K-Nearest Neighbors** para clasificar datos  \n"
   ]
  },
  {
   "cell_type": "markdown",
   "metadata": {},
   "source": [
    "En este cuaderno, cargarás un conjunto de datos de clientes, ajustarás los datos y utilizarás **K-Nearest Neighbors** para predecir un punto de datos. Pero, ¿qué es **K-Nearest Neighbors**?  \n"
   ]
  },
  {
   "cell_type": "markdown",
   "metadata": {},
   "source": [
    "**K-Nearest Neighbors** es un algoritmo de aprendizaje supervisado donde los datos se \"entrenan\" con puntos de datos correspondientes a su clasificación. Para predecir la clase de un punto de datos dado, el algoritmo toma en cuenta las clases de los **K** puntos de datos más cercanos y elige la clase a la que pertenece la mayoría de los **K** vecinos más cercanos como la clase predicha. \n"
   ]
  },
  {
   "cell_type": "markdown",
   "metadata": {},
   "source": [
    "### Aquí hay una visualización del algoritmo K-Nearest Neighbors.  \n",
    "\n",
    "<img src=\"https://cf-courses-data.s3.us.cloud-object-storage.appdomain.cloud/IBMDeveloperSkillsNetwork-ML0101EN-SkillsNetwork/labs/Module%203/images/KNN_Diagram.png\">  \n"
   ]
  },
  {
   "cell_type": "markdown",
   "metadata": {},
   "source": [
    "En este caso, tenemos puntos de datos de la Clase A y B. Queremos predecir a qué clase pertenece la estrella (punto de prueba). Si consideramos un valor de **K=3** (3 puntos de datos más cercanos), obtendremos una predicción de la **Clase B**. Sin embargo, si consideramos un valor de **K=6**, obtendremos una predicción de la **Clase A**.  \n"
   ]
  },
  {
   "cell_type": "markdown",
   "metadata": {},
   "source": [
    "En este sentido, es importante considerar el valor de **K**. A partir de este diagrama, deberías tener una idea de cómo funciona el algoritmo **K-Nearest Neighbors**. Este considera los **K** vecinos más cercanos (puntos de datos) al predecir la clasificación del punto de prueba.  \n"
   ]
  },
  {
   "cell_type": "markdown",
   "metadata": {},
   "source": [
    "<h1>Tabla de contenido</h1>\n",
    "\n",
    "<div class=\"alert alert-block alert-info\" style=\"margin-top: 20px\">\n",
    "    <ol>\n",
    "        <li><a href=\"#About-the-dataset\">Sobre el conjunto de datos</a></li>\n",
    "        <li><a href=\"#Data-Visualization-and-Analysis\">Visualización y análisis de datos</a></li>\n",
    "        <li><a href=\"#classification\">Clasificación</a></li>\n",
    "    </ol>\n",
    "</div>\n",
    "<br>\n",
    "<hr>\n",
    "\n"
   ]
  },
  {
   "cell_type": "markdown",
   "metadata": {},
   "source": [
    "### Cargar las librerías necesarias  \n"
   ]
  },
  {
   "cell_type": "code",
   "execution_count": null,
   "metadata": {},
   "outputs": [],
   "source": [
    "!pip install scikit-learn\n",
    "!pip install matplotlib\n",
    "!pip install pandas \n",
    "!pip install numpy \n",
    "%matplotlib inline"
   ]
  },
  {
   "cell_type": "code",
   "execution_count": null,
   "metadata": {},
   "outputs": [],
   "source": [
    "import matplotlib.pyplot as plt\n",
    "from sklearn import preprocessing\n",
    "import pandas as pd\n",
    "import numpy as np"
   ]
  },
  {
   "cell_type": "markdown",
   "metadata": {},
   "source": [
    "<div id=\"about_dataset\">\n",
    "    <h2>Sobre el conjunto de datos</h2>\n",
    "</div>\n"
   ]
  },
  {
   "cell_type": "markdown",
   "metadata": {},
   "source": [
    "Imagina que un proveedor de telecomunicaciones ha segmentado su base de clientes según patrones de uso del servicio, categorizando a los clientes en cuatro grupos. Si los datos demográficos pueden usarse para predecir la pertenencia a un grupo, la empresa puede personalizar ofertas para clientes potenciales individuales. Este es un problema de clasificación. Es decir, dado el conjunto de datos con etiquetas predefinidas, necesitamos construir un modelo para predecir la clase de un caso nuevo o desconocido.  \n",
    "\n",
    "El ejemplo se enfoca en utilizar datos demográficos, como región, edad y estado civil, para predecir patrones de uso.  \n",
    "\n",
    "El campo objetivo, llamado **custcat**, tiene cuatro posibles valores que corresponden a los cuatro grupos de clientes:  \n",
    "1- Basic Service  \n",
    "2- E-Service  \n",
    "3- Plus Service  \n",
    "4- Total Service  \n",
    "\n",
    "Nuestro objetivo es construir un clasificador para predecir la clase de casos desconocidos. Usaremos un tipo específico de clasificación llamado **K-Nearest Neighbors**.  \n"
   ]
  },
  {
   "cell_type": "markdown",
   "metadata": {},
   "source": [
    "### Cargar los datos\n"
   ]
  },
  {
   "cell_type": "markdown",
   "metadata": {},
   "source": [
    "Leamos los datos usando la biblioteca **pandas** e imprimamos las primeras cinco filas. \n"
   ]
  },
  {
   "cell_type": "code",
   "execution_count": null,
   "metadata": {},
   "outputs": [],
   "source": [
    "df = pd.read_csv('https://cf-courses-data.s3.us.cloud-object-storage.appdomain.cloud/IBMDeveloperSkillsNetwork-ML0101EN-SkillsNetwork/labs/Module%203/data/teleCust1000t.csv')\n",
    "df.head()"
   ]
  },
  {
   "cell_type": "markdown",
   "metadata": {},
   "source": [
    "<div id=\"visualization_analysis\">\n",
    "    <h2>Visualización y análisis de datos</h2> \n",
    "</div>\n"
   ]
  },
  {
   "cell_type": "markdown",
   "metadata": {},
   "source": [
    "#### Veamos cuántos clientes pertenecen a cada clase en nuestro conjunto de datos  \n"
   ]
  },
  {
   "cell_type": "code",
   "execution_count": null,
   "metadata": {},
   "outputs": [],
   "source": [
    "df['custcat'].value_counts()"
   ]
  },
  {
   "cell_type": "markdown",
   "metadata": {},
   "source": [
    "#### 281 Plus Service, 266 Basic-service, 236 Total Service, 17 E-Service customers\n"
   ]
  },
  {
   "cell_type": "markdown",
   "metadata": {},
   "source": [
    "Podemos explorar nuestros datos utilizando técnicas de visualización:  \n"
   ]
  },
  {
   "cell_type": "code",
   "execution_count": null,
   "metadata": {},
   "outputs": [],
   "source": [
    "df.hist(column='income', bins=50)"
   ]
  },
  {
   "cell_type": "markdown",
   "metadata": {},
   "source": [
    "### Definir el conjunto de características  \n"
   ]
  },
  {
   "cell_type": "markdown",
   "metadata": {},
   "source": [
    "Definamos el conjunto de características, **X**:  "
   ]
  },
  {
   "cell_type": "code",
   "execution_count": null,
   "metadata": {},
   "outputs": [],
   "source": [
    "df.columns"
   ]
  },
  {
   "cell_type": "markdown",
   "metadata": {},
   "source": [
    "\n",
    "Para utilizar la biblioteca **scikit-learn**, debemos convertir el **DataFrame de Pandas** en un **array de Numpy**:  "
   ]
  },
  {
   "cell_type": "code",
   "execution_count": null,
   "metadata": {},
   "outputs": [],
   "source": [
    "X = df[['region', 'tenure','age', 'marital', 'address', 'income', 'ed', 'employ','retire', 'gender', 'reside']] .values  #.astype(float)\n",
    "X[0:5]\n"
   ]
  },
  {
   "cell_type": "markdown",
   "metadata": {},
   "source": [
    "¿Cuáles son nuestras etiquetas?  \n"
   ]
  },
  {
   "cell_type": "code",
   "execution_count": null,
   "metadata": {},
   "outputs": [],
   "source": [
    "y = df['custcat'].values\n",
    "y[0:5]"
   ]
  },
  {
   "cell_type": "markdown",
   "metadata": {},
   "source": [
    "### Normalizando de datos"
   ]
  },
  {
   "cell_type": "markdown",
   "metadata": {},
   "source": [
    "La **estandarización de datos** ajusta los valores para que tengan **media cero y varianza unitaria**. Esto es una buena práctica, especialmente para algoritmos como **KNN**, que se basan en la distancia entre puntos de datos:  \n"
   ]
  },
  {
   "cell_type": "code",
   "execution_count": null,
   "metadata": {},
   "outputs": [],
   "source": [
    "X = preprocessing.StandardScaler().fit(X).transform(X.astype(float))\n",
    "X[0:5]"
   ]
  },
  {
   "cell_type": "markdown",
   "metadata": {},
   "source": [
    "### División en entrenamiento y prueba (Train/Test Split)  \n",
    "\n",
    "La **precisión fuera de muestra** (**Out of Sample Accuracy**) es el porcentaje de predicciones correctas que el modelo realiza sobre datos con los que **NO ha sido entrenado**. Si realizamos el entrenamiento y la prueba en el mismo conjunto de datos, es probable que la precisión fuera de muestra sea baja, debido a la posibilidad de **sobreajuste** (**overfitting**) del modelo.  \n",
    "\n",
    "Es fundamental que nuestros modelos tengan una alta **precisión fuera de muestra**, ya que el objetivo de cualquier modelo es hacer predicciones correctas sobre datos desconocidos. ¿Cómo podemos mejorar la precisión fuera de muestra? Una forma es utilizar un enfoque de evaluación llamado **Train/Test Split**.  \n",
    "\n",
    "La **división en entrenamiento y prueba** consiste en dividir el conjunto de datos en **dos subconjuntos**:  \n",
    "- **Conjunto de entrenamiento** (**Training set**)  \n",
    "- **Conjunto de prueba** (**Testing set**)  \n",
    "\n",
    "Estos conjuntos son **mutuamente excluyentes**. Primero, el modelo se **entrena** con el conjunto de entrenamiento y luego se **evalúa** con el conjunto de prueba.  \n",
    "\n",
    "Este método proporciona una evaluación más precisa de la **precisión fuera de muestra**, ya que el conjunto de prueba no forma parte de los datos utilizados para entrenar el modelo. Esto lo hace **más realista para problemas del mundo real**.\n"
   ]
  },
  {
   "cell_type": "code",
   "execution_count": null,
   "metadata": {},
   "outputs": [],
   "source": [
    "from sklearn.model_selection import train_test_split\n",
    "X_train, X_test, y_train, y_test = train_test_split( X, y, test_size=0.2, random_state=4)\n",
    "print ('Train set:', X_train.shape,  y_train.shape)\n",
    "print ('Test set:', X_test.shape,  y_test.shape)"
   ]
  },
  {
   "cell_type": "markdown",
   "metadata": {},
   "source": [
    "<div id=\"classification\">\n",
    "    <h2>Clasificación</h2>\n",
    "</div>\n"
   ]
  },
  {
   "cell_type": "markdown",
   "metadata": {},
   "source": [
    "<h3>K nearest neighbor (KNN)</h3>\n"
   ]
  },
  {
   "cell_type": "markdown",
   "metadata": {},
   "source": [
    "#### Importar la librería\n"
   ]
  },
  {
   "cell_type": "markdown",
   "metadata": {},
   "source": [
    "El clasificador implementa el método de votación de los **K vecinos más cercanos**.  \n"
   ]
  },
  {
   "cell_type": "code",
   "execution_count": null,
   "metadata": {},
   "outputs": [],
   "source": [
    "from sklearn.neighbors import KNeighborsClassifier"
   ]
  },
  {
   "cell_type": "markdown",
   "metadata": {},
   "source": [
    "### Entrenamiento\n",
    "\n",
    "Empezamos el algoritmo con k=4:\n"
   ]
  },
  {
   "cell_type": "code",
   "execution_count": null,
   "metadata": {},
   "outputs": [],
   "source": [
    "k = 4  \n",
    "neigh = KNeighborsClassifier(n_neighbors = k).fit(X_train,y_train)\n",
    "neigh"
   ]
  },
  {
   "cell_type": "markdown",
   "metadata": {},
   "source": [
    "### Predicción\n",
    "\n",
    "Podemos usar el modelo para hacer predicciones en el conjunto de prueba:  \n"
   ]
  },
  {
   "cell_type": "code",
   "execution_count": null,
   "metadata": {},
   "outputs": [],
   "source": [
    "yhat = neigh.predict(X_test)\n",
    "yhat[0:5]"
   ]
  },
  {
   "cell_type": "markdown",
   "metadata": {},
   "source": [
    "### Evaluación de exactitud\n",
    "\n",
    "En la clasificación multietiqueta, el puntaje de exactitud de clasificación (accuracy classification score) es una función que calcula la exactitud por subconjunto. Esta función es equivalente a la función `jaccard_score`. En esencia, mide qué tan bien coinciden las etiquetas reales y las etiquetas predichas en el conjunto de prueba.\n"
   ]
  },
  {
   "cell_type": "code",
   "execution_count": null,
   "metadata": {},
   "outputs": [],
   "source": [
    "from sklearn import metrics\n",
    "print(\"Exactitud del conjunto de entrenamiento: \", metrics.accuracy_score(y_train, neigh.predict(X_train)))\n",
    "print(\"Exactitud del conjunto de prueba: \", metrics.accuracy_score(y_test, yhat))"
   ]
  },
  {
   "cell_type": "markdown",
   "metadata": {},
   "source": [
    "### Práctica  \n",
    "\n",
    "¿Puedes construir el modelo nuevamente, pero esta vez con **k=6**?\n"
   ]
  },
  {
   "cell_type": "code",
   "execution_count": null,
   "metadata": {},
   "outputs": [],
   "source": [
    "# Escribe tu codigo aqui\n",
    "\n",
    "\n"
   ]
  },
  {
   "cell_type": "markdown",
   "metadata": {},
   "source": [
    "<details><summary>Click para la solución</summary>\n",
    "\n",
    "```python\n",
    "k = 6\n",
    "neigh6 = KNeighborsClassifier(n_neighbors = k).fit(X_train,y_train)\n",
    "yhat6 = neigh6.predict(X_test)\n",
    "print(\"Exactitud del conjunto de entrenamiento: \", metrics.accuracy_score(y_train, neigh6.predict(X_train)))\n",
    "print(\"Exactitud del conjunto de prueba: \", metrics.accuracy_score(y_test, yhat6))\n",
    "\n",
    "```\n",
    "\n",
    "</details>\n"
   ]
  },
  {
   "cell_type": "markdown",
   "metadata": {},
   "source": [
    "#### ¿Qué pasa con otros valores de K?  \n",
    "\n",
    "En **KNN**, **K** es el número de vecinos más cercanos a examinar. Este valor debe ser especificado por el usuario. Entonces, ¿cómo podemos elegir el valor correcto de **K**?  \n",
    "\n",
    "La solución general es **reservar una parte de los datos para probar la precisión del modelo**. Luego, se elige **K = 1**, se usa el conjunto de entrenamiento para modelar y se calcula la precisión de la predicción usando todas las muestras del conjunto de prueba.  \n",
    "\n",
    "Este proceso se repite aumentando **K**, y se observa cuál es el mejor valor de **K** para el modelo.  \n",
    "\n",
    "Podemos calcular la exactitud de **KNN** para diferentes valores de **K**.\n"
   ]
  },
  {
   "cell_type": "code",
   "execution_count": null,
   "metadata": {},
   "outputs": [],
   "source": [
    "Ks = 10\n",
    "mean_acc = np.zeros((Ks-1))\n",
    "std_acc = np.zeros((Ks-1))\n",
    "\n",
    "for n in range(1,Ks):  \n",
    "    neigh = KNeighborsClassifier(n_neighbors = n).fit(X_train,y_train)\n",
    "    yhat=neigh.predict(X_test)\n",
    "    mean_acc[n-1] = metrics.accuracy_score(y_test, yhat)\n",
    "\n",
    "    \n",
    "    std_acc[n-1]=np.std(yhat==y_test)/np.sqrt(yhat.shape[0])\n",
    "\n",
    "mean_acc"
   ]
  },
  {
   "cell_type": "markdown",
   "metadata": {},
   "source": [
    "#### Graficar la exactitud del modelo para diferentes valores de vecinos.\n"
   ]
  },
  {
   "cell_type": "code",
   "execution_count": null,
   "metadata": {},
   "outputs": [],
   "source": [
    "plt.plot(range(1,Ks),mean_acc,'g')\n",
    "plt.fill_between(range(1,Ks),mean_acc - 1 * std_acc,mean_acc + 1 * std_acc, alpha=0.10)\n",
    "plt.fill_between(range(1,Ks),mean_acc - 3 * std_acc,mean_acc + 3 * std_acc, alpha=0.10,color=\"green\")\n",
    "plt.legend(('Exactitud ', '+/- 1xstd','+/- 3xstd'))\n",
    "plt.ylabel('Exactitud ')\n",
    "plt.xlabel('Numero de vecinos (K)')\n",
    "plt.tight_layout()\n",
    "plt.show()"
   ]
  },
  {
   "cell_type": "code",
   "execution_count": null,
   "metadata": {},
   "outputs": [],
   "source": [
    "print( \"La mejor exactitud fue con: \", mean_acc.max(), \"with k=\", mean_acc.argmax()+1) "
   ]
  }
 ],
 "metadata": {
  "kernelspec": {
   "display_name": "Python 3 (ipykernel)",
   "language": "python",
   "name": "python3"
  },
  "language_info": {
   "codemirror_mode": {
    "name": "ipython",
    "version": 3
   },
   "file_extension": ".py",
   "mimetype": "text/x-python",
   "name": "python",
   "nbconvert_exporter": "python",
   "pygments_lexer": "ipython3",
   "version": "3.12.4"
  },
  "prev_pub_hash": "3dd33d6d5e2262aa8f7b4af66defe86b20edadaefb82d87f7f74aa7b1d46c23c"
 },
 "nbformat": 4,
 "nbformat_minor": 4
}

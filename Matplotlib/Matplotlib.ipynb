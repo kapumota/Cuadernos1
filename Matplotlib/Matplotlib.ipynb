{
 "cells": [
  {
   "cell_type": "markdown",
   "metadata": {
    "id": "SKrTGwKBuuwo"
   },
   "source": [
    "### Matplotlib\n",
    "\n"
   ]
  },
  {
   "cell_type": "code",
   "execution_count": null,
   "metadata": {
    "id": "8SAZcpi4rt2f"
   },
   "outputs": [],
   "source": [
    "import numpy as np\n",
    "import pandas as pd\n",
    "from pandas import DataFrame, Series\n",
    "import matplotlib.pyplot as plt\n",
    "import matplotlib     \n",
    "%matplotlib inline  \n",
    "\n",
    "import warnings\n",
    "warnings.filterwarnings('ignore')"
   ]
  },
  {
   "cell_type": "markdown",
   "metadata": {},
   "source": [
    "#### Conceptos básicos\n",
    " \n",
    "Matplotlib es una de las bibliotecas más populares en Python para la visualización de datos, y se caracteriza por su flexibilidad y facilidad de uso. En este informe se presentarán algunos conceptos básicos fundamentales para entender cómo funciona esta herramienta, haciendo énfasis en elementos esenciales como **Figure** y **Axes**, además de abordar otros aspectos importantes de su estructura.\n",
    "\n",
    "##### **La Figura (Figure)**\n",
    "\n",
    "El objeto *Figure* representa la ventana donde se realizan todas las visualizaciones. En otras palabras, es el contenedor principal que agrupa uno o más gráficos (subgráficos). Una *Figure* puede incluir diferentes elementos, tales como *Axes*, textos, leyendas, ejes, y otros elementos gráficos. Es posible ajustar el tamaño, la resolución y otros parámetros de la figura para adaptarse a las necesidades específicas de la presentación.\n",
    "\n",
    "Cuando se crea una figura en matplotlib, se puede hacer mediante la función `plt.figure()`, donde es posible especificar atributos como el tamaño (`figsize`) y la resolución (`dpi`). Por ejemplo, al ejecutar `plt.figure(figsize=(8,6), dpi=100)`, se define una figura de 8x6 pulgadas con 100 puntos por pulgada, lo que permite obtener gráficos de alta calidad.\n",
    "\n",
    "La figura actúa como un marco general que se puede subdividir en múltiples secciones, cada una de las cuales contendrá sus propios gráficos. Esto es muy útil cuando se quiere presentar comparaciones o múltiples visualizaciones en una misma presentación.\n",
    "\n",
    "##### **Los ejes (Axes)**\n",
    "\n",
    "Dentro de la figura se encuentran los objetos *Axes*, que son los responsables de contener la información gráfica propiamente dicha, es decir, el área donde se trazan los gráficos, se definen los ejes y se muestran los datos. A diferencia de lo que sugiere el nombre, *Axes* se refiere a la totalidad del área de dibujo, que incluye el fondo, las etiquetas, las escalas y las líneas de los ejes.\n",
    "\n",
    "La creación de *Axes* se puede hacer de manera directa utilizando `plt.subplots()`, que genera tanto la figura como uno o más ejes de forma simultánea. Por ejemplo, `fig, ax = plt.subplots()` crea una figura y un solo objeto de ejes, mientras que `fig, axs = plt.subplots(2, 2)` crea una figura subdividida en una cuadrícula de 2x2, permitiendo colocar cuatro gráficos en un mismo lienzo.\n",
    "\n",
    "Cada objeto *Axes* es independiente y puede tener configuraciones específicas, tales como límites de ejes, escalas (lineal, logarítmica, etc.), etiquetas, títulos y leyendas. Esto ofrece un alto grado de personalización, permitiendo adaptar cada gráfico a la representación más adecuada de los datos. Además, es posible modificar las propiedades de los ejes, como la visibilidad de las líneas de la cuadrícula o el formato de las etiquetas, lo que facilita la creación de visualizaciones claras y precisas.\n",
    "\n",
    "##### **Relación entre figure y axes**\n",
    "\n",
    "La relación entre *Figure* y *Axes* es fundamental para entender la estructura de matplotlib. La *Figure* actúa como el contenedor global, mientras que los *Axes* son las áreas específicas dentro de ese contenedor donde se realiza la representación de datos. Es importante notar que, si bien una figura puede contener múltiples ejes, cada objeto *Axes* es completamente independiente en cuanto a su configuración interna. Esto permite generar gráficos complejos en los que se comparan diferentes conjuntos de datos, sin que las configuraciones de un gráfico interfieran con las de otro.\n",
    "\n",
    "##### **Otros conceptos relevantes**\n",
    "\n",
    "Además de *Figure* y *Axes*, matplotlib cuenta con otros elementos que permiten enriquecer las visualizaciones:\n",
    "\n",
    "- **Artist:** En matplotlib, todo lo que se visualiza en la figura es un *Artist*. Tanto la *Figure* como los *Axes* son artistas, al igual que los textos, líneas, etiquetas y otros elementos gráficos. Esto hace que matplotlib sea muy modular, permitiendo modificar individualmente cada componente del gráfico.\n",
    "- **Subplots:** La función `plt.subplots()` es muy utilizada para crear figuras con múltiples ejes de forma rápida y eficiente. Esta funcionalidad facilita la comparación visual de varios conjuntos de datos en una misma figura.\n",
    "- **Estilos y temas:** Matplotlib permite cambiar el estilo de los gráficos para adaptarse a diferentes formatos y requerimientos estéticos. Con funciones como `plt.style.use()`, es posible aplicar estilos predefinidos o personalizados para obtener visualizaciones con una apariencia profesional.\n"
   ]
  },
  {
   "cell_type": "markdown",
   "metadata": {},
   "source": [
    "#### Introducción a pyplot\n",
    "\n",
    "`Pyplot` es básicamente una colección de funciones de estilo de comando que hacen que matplotlib funcione de manera similar a MATLAB. La idea es que tenemos una colección de funciones y cada función realiza algunos cambios en una figura, y esta figura se considera la figura actual.\n",
    "\n",
    "La primera convención para importar matplotlib a la sesión actual es `matplotlib.pyplot` como plt:\n",
    "\n",
    "```\n",
    "import matplotlib como plt\n",
    "```"
   ]
  },
  {
   "cell_type": "markdown",
   "metadata": {},
   "source": [
    "La función más utilizada en la interfaz de pyplot es la función `plot`, que puede tomar muchos argumentos. Por ejemplo, si pasamos dos listas de números, asumirá que la primera lista son las coordenadas `x` y la segunda lista son las coordenadas `y`, trazando una línea por defecto. \n"
   ]
  },
  {
   "cell_type": "code",
   "execution_count": null,
   "metadata": {},
   "outputs": [],
   "source": [
    "# Completar"
   ]
  },
  {
   "cell_type": "markdown",
   "metadata": {},
   "source": [
    "Esta interfaz funciona construyendo un gráfico como una secuencia de funciones y todas ellas se aplican a la figura actual o al subplot actual. \n",
    "\n",
    "Veamos cómo usualmente construimos un gráfico usando `pyplot` realizando los siguientes pasos:\n",
    "\n",
    "1. Agregaremos dos listas a la función `plot` y, como vimos anteriormente, el comportamiento predeterminado es dibujar una línea; por lo tanto, podemos ver los valores de `x` y los valores de `y` con una línea color azul claro, y un ancho de línea de tamaño 3, con la siguiente línea de comandos:\n",
    "   \n",
    "   ```\n",
    "   plt.plot([1, 2, 3, 4], [10, 20, 25, 30], color='lightblue', linewidth=3)\n",
    "   ```\n",
    "   \n",
    "2. Un diagrama de dispersión dibuja las coordenadas que proporcionamos en lugar de una línea. En este caso, son las coordenadas `x` y las coordenadas `y`. También creará marcadores del gráfico. Podemos agregar un argumento que definirá los marcadores que se colorearán en verde oscuro. \n",
    "   \n",
    "  ```\n",
    "    plt.scatter([0.3, 3.8, 1.2, 2.5], [11, 25, 9, 26], color='darkgreen', marker='^')\n",
    "   ```\n",
    "\n",
    "3. Ahora aplicaremos otra función, que cambiará los límites `x` de la gráfica donde el valor mínimo es `0.5` y el valor máximo es `4.5`, por lo que ahora la gráfica pasará de `0.5` a `4.5` en el eje `x`. \n",
    "   \n",
    "   ```\n",
    "   plt.xlim(0.5, 4.5)\n",
    "   ```\n",
    "\n",
    "4. La siguiente función será agregar un título al gráfico y cambiar la etiqueta en `plot`. En el siguiente diagrama, podemos ver cómo hemos agregado el título, la etiqueta x y la etiqueta y del gráfico:\n",
    "\n",
    "    ```\n",
    "    plt.title(\"Titulo del grafico\")\n",
    "    plt.xlabel(\"Esta es la etiqueta X\")\n",
    "    plt.ylabel(\"Esta es la etiqueta Y\");\n",
    "   ```"
   ]
  },
  {
   "cell_type": "code",
   "execution_count": null,
   "metadata": {},
   "outputs": [],
   "source": [
    "plt.plot([1, 2, 3, 4], [10, 20, 25, 30], color='lightblue', linewidth=3)\n",
    "plt.scatter([0.3, 3.8, 1.2, 2.5], [11, 25, 9, 26], color='darkgreen', marker='^')\n",
    "plt.xlim(0.5, 4.5)\n",
    "plt.title(\"Titulo del grafico\")\n",
    "plt.xlabel(\"Esta es la etiqueta X\")\n",
    "plt.ylabel(\"Esta es la etiqueta Y\");"
   ]
  },
  {
   "cell_type": "markdown",
   "metadata": {},
   "source": [
    "###  Interfaz orientada a objetos\n",
    "\n",
    "La interfaz orientada a objetos en matplotlib ofrece un enfoque más estructurado y flexible para la creación de gráficos, especialmente útil cuando se desea tener un control granular sobre cada componente del gráfico.\n",
    "\n",
    "En lugar de depender de funciones globales de `pyplot` que afectan a la figura y al subplot actual, la interfaz orientada a objetos se basa en la creación explícita de objetos como **Figure** y **Axes**. Esto significa que se crean instancias de clases y se interactúa directamente con sus métodos y atributos para configurar y modificar el gráfico.\n",
    "\n",
    "\n",
    "La forma habitual de trabajar en este paradigma es mediante la función `plt.subplots()`, que devuelve un objeto **Figure** y uno o más objetos **Axes**. Por ejemplo:\n",
    "\n",
    "```python\n",
    "fig, ax = plt.subplots()\n",
    "```\n",
    "\n",
    "En este caso, `fig` es la instancia de la clase Figure que actúa como contenedor global del gráfico, y `ax` es la instancia de la clase Axes que contiene la parte específica donde se dibujan los datos.\n",
    "\n",
    "#### Ventajas de la orientación a objetos\n",
    "\n",
    "1. **Modularidad y control:**  \n",
    "   Al trabajar con objetos, es posible modificar propiedades específicas de cada elemento sin afectar a otros. Esto es especialmente útil en gráficos complejos donde se tienen múltiples subgráficos. Cada objeto **Axes** se puede configurar de forma independiente, permitiendo personalizaciones detalladas en términos de límites, etiquetas, leyendas, estilos de línea, entre otros.\n",
    "\n",
    "2. **Reutilización y escalabilidad:**  \n",
    "   El uso de métodos y atributos de clases permite encapsular funcionalidades y reutilizar código, lo que facilita la creación de gráficos dinámicos y la ampliación de funciones personalizadas para diversos tipos de visualizaciones.\n",
    "\n",
    "3. **Claridad en el código:**  \n",
    "   La estructura orientada a objetos promueve un código más organizado y legible, donde cada parte del gráfico se gestiona de manera separada. Esto reduce la ambigüedad en la manipulación de múltiples elementos gráficos y facilita la depuración.\n",
    "\n",
    "\n",
    "Un ejemplo simple utilizando la interfaz orientada a objetos es el siguiente:\n",
    "\n",
    "```python\n",
    "import matplotlib.pyplot as plt\n",
    "\n",
    "# Crear la figura y el objeto Axes\n",
    "fig, ax = plt.subplots(figsize=(8, 6), dpi=100)\n",
    "\n",
    "# Dibujar una línea en el objeto Axes\n",
    "ax.plot([1, 2, 3, 4], [10, 20, 25, 30], color='lightblue', linewidth=3)\n",
    "\n",
    "# Dibujar un diagrama de dispersión en el mismo objeto Axes\n",
    "ax.scatter([0.3, 3.8, 1.2, 2.5], [11, 25, 9, 26], color='darkgreen', marker='^')\n",
    "\n",
    "# Configurar los límites del eje x\n",
    "ax.set_xlim(0.5, 4.5)\n",
    "\n",
    "# Agregar título y etiquetas a los ejes\n",
    "ax.set_title(\"Titulo del grafico\")\n",
    "ax.set_xlabel(\"Esta es la etiqueta X\")\n",
    "ax.set_ylabel(\"Esta es la etiqueta Y\")\n",
    "\n",
    "# Mostrar el gráfico\n",
    "plt.show()\n",
    "```\n",
    "\n",
    "En este ejemplo se observa cómo cada operación se realiza directamente sobre el objeto `ax` (Axes), lo que da como resultado un código más modular y explícito.\n",
    "\n",
    "\n",
    "La interfaz orientada a objetos permite realizar ajustes más sofisticados, como:\n",
    "\n",
    "- **Añadir múltiples subplots:**  \n",
    "  Se pueden crear figuras con varios subgráficos y gestionarlos individualmente:\n",
    "  \n",
    "  ```python\n",
    "  fig, axs = plt.subplots(2, 2)\n",
    "  axs[0, 0].plot(x, y)\n",
    "  axs[0, 1].scatter(x, y)\n",
    "  # Configuración específica para cada subplot\n",
    "  ```\n",
    "\n",
    "- **Personalización de elementos individuales:**  \n",
    "  Por ejemplo, se pueden modificar propiedades de textos, leyendas o incluso los contornos de los ejes sin afectar al resto del gráfico.\n",
    "\n",
    "- **Integración con otras librerías:**  \n",
    "  La orientación a objetos facilita la integración con otras librerías de Python, permitiendo una mayor interacción y personalización en aplicaciones más complejas, como interfaces gráficas de usuario (GUI).\n",
    " "
   ]
  },
  {
   "cell_type": "markdown",
   "metadata": {},
   "source": [
    "### Ejemplos"
   ]
  },
  {
   "cell_type": "code",
   "execution_count": null,
   "metadata": {},
   "outputs": [],
   "source": [
    "x = np.linspace(-4,4)\n",
    "y1, y2 = x**2, x**3"
   ]
  },
  {
   "cell_type": "code",
   "execution_count": null,
   "metadata": {},
   "outputs": [],
   "source": [
    "fig, ax = plt.subplots()\n",
    "ax.plot(x, y1, 'red')\n",
    "ax.plot(x, y2, 'blue')\n",
    "ax.set_title('Potencias cuadraticas y cubicas')\n",
    "ax.set_xlabel('x valores')\n",
    "ax.set_ylabel('y valores');"
   ]
  },
  {
   "cell_type": "markdown",
   "metadata": {},
   "source": [
    "Ahora, veamos cómo podemos reproducir el mismo gráfico usando la interfaz de `pyplot`. \n"
   ]
  },
  {
   "cell_type": "code",
   "execution_count": null,
   "metadata": {},
   "outputs": [],
   "source": [
    "plt.plot(x, y1, 'red', x, y2, 'blue')\n",
    "plt.title('Potencias cuadraticas y cubicas')\n",
    "plt.xlabel('x valores')\n",
    "plt.ylabel('y valores')"
   ]
  },
  {
   "cell_type": "markdown",
   "metadata": {},
   "source": [
    "#### ¿Cuál es la ventaja de utilizar la interfaz orientada a objetos ?. \n",
    "\n",
    "El siguiente diagrama, tenemos cuatro subplots: "
   ]
  },
  {
   "cell_type": "code",
   "execution_count": null,
   "metadata": {},
   "outputs": [],
   "source": [
    "fig, axes = plt.subplots(nrows=2, ncols=2)"
   ]
  },
  {
   "cell_type": "markdown",
   "metadata": {},
   "source": [
    "Ahora, la ventaja de usar la interfaz orientada a objetos es que podemos referirnos a cada uno de estos objetos de manera particular.\n",
    "\n",
    "Veamos otro ejemplo en el que ejecutaremos este código nuevamente para crear dos objetos, la figura y los ejes, y en este caso, los ejes serán una matriz NumPy multidimensional con los cuatro `subplots`. "
   ]
  },
  {
   "cell_type": "code",
   "execution_count": null,
   "metadata": {},
   "outputs": [],
   "source": [
    "fig, axes = plt.subplots(nrows=2, ncols=2)\n",
    "axes[0,0].set_title('Upper Left')\n",
    "axes[0,1].set_title('Upper Right')\n",
    "axes[1,0].set_title('Lower Left')\n",
    "axes[1,1].set_title('Lower Right')\n",
    "\n",
    "for ax in axes.flat:\n",
    "    # Removemos los xticks y yticks...\n",
    "    ax.set(xticks=[], yticks=[])\n",
    "\n",
    "fig.tight_layout();"
   ]
  },
  {
   "cell_type": "markdown",
   "metadata": {},
   "source": [
    "Dado que creamos el objeto `figure`, podemos usar métodos de `figure` como `tight_layout`, que se encargan de la forma en que aparecen las subplots para que no se superpongan. \n",
    "Esta es básicamente la idea detrás de la interfaz orientada a objetos: creamos los objetos y luego aplicamos métodos para cada objeto que creamos. \n"
   ]
  },
  {
   "cell_type": "code",
   "execution_count": null,
   "metadata": {},
   "outputs": [],
   "source": [
    "x = np.linspace(start=-5, stop=5, num=150)"
   ]
  },
  {
   "cell_type": "code",
   "execution_count": null,
   "metadata": {},
   "outputs": [],
   "source": [
    "# Todas las funciones en un eje\n",
    "fig, ax = plt.subplots(figsize = (7,4))\n",
    "ax.plot(x, x, label='Lineal')\n",
    "ax.plot(x, x**2,  label='Cuadratico')\n",
    "ax.plot(x, x**3, label='Cubico')\n",
    "ax.plot(x, x**4, label='4ta potencia')\n",
    "ax.legend();"
   ]
  },
  {
   "cell_type": "markdown",
   "metadata": {},
   "source": [
    "Producimos una figura con un solo `sublot`, en la que graficamos las primeras cuatro potencias de `x`. \n",
    "\n",
    "**Ejercicio** Escribe un script para dibujar esto en diferentes `subplots`. \n"
   ]
  },
  {
   "cell_type": "code",
   "execution_count": null,
   "metadata": {},
   "outputs": [],
   "source": [
    "## Tu respuesta"
   ]
  },
  {
   "cell_type": "markdown",
   "metadata": {},
   "source": [
    "**Ejercicio**  Escribe una script para dibujar  a las primeras diez potencias de x con un título que diga `x hasta N`, donde $N =1, \\dots, 10$."
   ]
  },
  {
   "cell_type": "code",
   "execution_count": null,
   "metadata": {},
   "outputs": [],
   "source": [
    "# Tu respuesta"
   ]
  },
  {
   "cell_type": "code",
   "execution_count": null,
   "metadata": {},
   "outputs": [],
   "source": [
    "fig, axes = plt.subplots(nrows=2, ncols=5, figsize = (14,4.5))\n",
    "for i, ax in enumerate(axes.flatten()):\n",
    "    ax.set_title(\"x hasta  {:d}\".format(i+1))\n",
    "    ax.plot(x, x**(i+1))\n",
    "fig.tight_layout();"
   ]
  },
  {
   "cell_type": "markdown",
   "metadata": {},
   "source": [
    "### Configuraciones comunes\n"
   ]
  },
  {
   "cell_type": "code",
   "execution_count": null,
   "metadata": {},
   "outputs": [],
   "source": [
    "# Generando datos\n",
    "x = np.linspace(-np.pi, np.pi, 200)\n",
    "seno, coseno = np.sin(x), np.cos(x)"
   ]
  },
  {
   "cell_type": "markdown",
   "metadata": {},
   "source": [
    "#### Colores "
   ]
  },
  {
   "cell_type": "code",
   "execution_count": null,
   "metadata": {},
   "outputs": [],
   "source": [
    "fig, ax = plt.subplots()\n",
    "ax.plot(x, seno, color='red')\n",
    "ax.plot(x, coseno, color='#165181');"
   ]
  },
  {
   "cell_type": "markdown",
   "metadata": {},
   "source": [
    "#### Establecer límites de eje\n"
   ]
  },
  {
   "cell_type": "code",
   "execution_count": null,
   "metadata": {},
   "outputs": [],
   "source": [
    "fig, ax = plt.subplots()\n",
    "ax.plot(x, seno, color='red')\n",
    "ax.plot(x, coseno, color='#165181')\n",
    "ax.set_xlim(-3.5,3.5)\n",
    "ax.set_ylim(-1.2,1.2);"
   ]
  },
  {
   "cell_type": "markdown",
   "metadata": {},
   "source": [
    "#### Ticks\n",
    "\n",
    "Ticks  son los marcadores que indican puntos de datos en los ejes."
   ]
  },
  {
   "cell_type": "code",
   "execution_count": null,
   "metadata": {},
   "outputs": [],
   "source": [
    "fig, ax = plt.subplots()\n",
    "ax.plot(x, seno, color='red')\n",
    "ax.plot(x, coseno, color='#165181')\n",
    "\n",
    "ax.set_xlim(-3.5,3.5)\n",
    "ax.set_ylim(-1.2,1.2)\n",
    "\n",
    "ax.set_xticks([-np.pi, -np.pi/2, 0, np.pi/2, np.pi])\n",
    "ax.set_yticks(np.arange(-1,1.1,0.5));"
   ]
  },
  {
   "cell_type": "markdown",
   "metadata": {},
   "source": [
    "**Ejercicio**\n",
    "Supongamos que deseas que las etiquetas del eje x aparezcan en notaciones matemáticas como `-pi` y `-pi/2`. Escribe un script utilizando los métodos `set_xticks`, `set_yticks`, `set_xticklabels` y `set_yticklabels` para cambiar y asignar nuevos valores."
   ]
  },
  {
   "cell_type": "code",
   "execution_count": null,
   "metadata": {},
   "outputs": [],
   "source": [
    "### Utiliza: [r'$-\\pi$', r'$-\\pi/2$', r'$0$', r'$+\\pi/2$', r'$+\\pi$']\n",
    "### Tu respuesta"
   ]
  },
  {
   "cell_type": "markdown",
   "metadata": {},
   "source": [
    "#### Leyenda\n",
    "\n",
    "**Ejercicio:** Agrega la etiqueta de las funciones seno y coseno ubicada en la parte superior izquierda del gráfico, donde podemos identificar fácilmente cada línea por el nombre. "
   ]
  },
  {
   "cell_type": "code",
   "execution_count": null,
   "metadata": {},
   "outputs": [],
   "source": [
    "## Tu respuesta"
   ]
  },
  {
   "cell_type": "markdown",
   "metadata": {},
   "source": [
    "#### Anotaciones\n",
    "\n",
    "**Ejercicio** Hay dos funciones o métodos principales para realizar anotaciones en un gráfico. Puedes usar el método `text()` especificando la coordenada `x` y la coordenada `y` donde deseas que se muestre el texto, y el tercer argumento para este método es el texto que realmente deseas dibujar en el gráfico. Explica el resultado siguiente resultado"
   ]
  },
  {
   "cell_type": "code",
   "execution_count": null,
   "metadata": {},
   "outputs": [],
   "source": [
    "fig, ax = plt.subplots()\n",
    "ax.plot(x, seno, color='green', label='Seno')\n",
    "ax.plot(x, coseno, color='#341161', label='Coseno')\n",
    "\n",
    "ax.set_xlim(-3.5,3.5)\n",
    "ax.set_ylim(-1.2,1.2)\n",
    "\n",
    "ax.set_xticks([-np.pi, -np.pi/2, 0, np.pi/2, np.pi])\n",
    "ax.set_yticks([-1,0,1])\n",
    "\n",
    "ax.set_xticklabels([r'$-\\pi$', r'$-\\pi/2$', r'$0$', r'$+\\pi/2$', r'$+\\pi$'], size=17)\n",
    "ax.set_yticklabels(['-1','0','+1'], size=17)\n",
    "\n",
    "ax.legend(loc='upper left')\n",
    "\n",
    "ax.text(-0.25,0,'(0,0)')\n",
    "ax.text(np.pi-0.25,0, r'$(\\pi,0)$', size=15)\n",
    "\n",
    "ax.annotate('Origen',\n",
    "            xy=(0, 0),\n",
    "            xytext=(1, -0.7),\n",
    "            arrowprops=dict(facecolor='blue'));"
   ]
  },
  {
   "cell_type": "code",
   "execution_count": null,
   "metadata": {},
   "outputs": [],
   "source": [
    "# Tu respuesta"
   ]
  },
  {
   "cell_type": "markdown",
   "metadata": {},
   "source": [
    "#### Grids, líneas horizontales y verticales.\n"
   ]
  },
  {
   "cell_type": "code",
   "execution_count": null,
   "metadata": {},
   "outputs": [],
   "source": [
    "fig, ax = plt.subplots()\n",
    "ax.plot(x, seno, color='orange', label='Seno')\n",
    "ax.plot(x, coseno, color='#165181', label='Coseno')\n",
    "\n",
    "ax.set_xlim(-3.5,3.5)\n",
    "ax.set_ylim(-1.2,1.2)\n",
    "\n",
    "ax.set_xticks([-np.pi, -np.pi/2, 0, np.pi/2, np.pi])\n",
    "ax.set_yticks([-1,0,1])\n",
    "\n",
    "ax.set_xticklabels([r'$-\\pi$', r'$-\\pi/2$', r'$0$', r'$+\\pi/2$', r'$+\\pi$'], size=17)\n",
    "ax.set_yticklabels(['-1','0','+1'], size=17)\n",
    "\n",
    "ax.legend(loc='upper left')\n",
    "\n",
    "ax.text(-0.25,0,'(0,0)') # x coord, y coord, \n",
    "ax.text(np.pi-0.2,0.05, r'$(\\pi,0)$', size=15)\n",
    "\n",
    "ax.annotate('Origen',\n",
    "            xy=(0, 0), # donde la flecha apunta a la\n",
    "            xytext=(1, -0.7), # localizacion de texto\n",
    "            arrowprops=dict(facecolor='blue'));\n",
    "\n",
    "ax.axhline(0, color='black', alpha=0.9) # linea horizontal\n",
    "ax.axvline(0, color='black', alpha=0.9) #vertical\n",
    "ax.grid();"
   ]
  },
  {
   "cell_type": "markdown",
   "metadata": {},
   "source": [
    "### Uso de funciones globales\n",
    "\n",
    "Uso de funciones globales\n",
    "\n",
    "- `plt.bar`: crea un gráfico de barras\n",
    "- `plt.scatter`:hace un diagrama de dispersión\n",
    "- `plt.boxplot`:hace un diagrama de caja y bigotes\n",
    "- `plt.hist`: hace un histograma\n",
    "- `plt.plot`: crea un gráfico de líneas "
   ]
  },
  {
   "cell_type": "markdown",
   "metadata": {},
   "source": [
    "#### Gráfico de barras "
   ]
  },
  {
   "cell_type": "code",
   "execution_count": null,
   "metadata": {},
   "outputs": [],
   "source": [
    "x = np.arange(5)          # 5 estudiantes\n",
    "y = (20, 35, 30, 35, 27)  # sus mejores puntajes\n",
    "plt.bar(x,y)              # Barplot \n",
    "plt.show() "
   ]
  },
  {
   "cell_type": "markdown",
   "metadata": {},
   "source": [
    "####  Gráfico de dispersión\n"
   ]
  },
  {
   "cell_type": "code",
   "execution_count": null,
   "metadata": {},
   "outputs": [],
   "source": [
    "plt.scatter(x,y)          \n",
    "plt.show()"
   ]
  },
  {
   "cell_type": "markdown",
   "metadata": {},
   "source": [
    "#### Histogramas"
   ]
  },
  {
   "cell_type": "code",
   "execution_count": null,
   "metadata": {},
   "outputs": [],
   "source": [
    "df =pd.read_csv(\"iris.csv\")\n",
    "print(\"Histograma\")\n",
    "df.hist()"
   ]
  },
  {
   "cell_type": "code",
   "execution_count": null,
   "metadata": {},
   "outputs": [],
   "source": [
    "print(\"Grafo de lineas\")\n",
    "df.plot()"
   ]
  },
  {
   "cell_type": "code",
   "execution_count": null,
   "metadata": {},
   "outputs": [],
   "source": [
    "print('Grafico de cajas')\n",
    "df.boxplot()"
   ]
  },
  {
   "cell_type": "markdown",
   "metadata": {
    "id": "9BMkviFFy3zV"
   },
   "source": [
    "**Ejercicio**\n",
    "\n",
    "Realiza lo siguiente: \n",
    "\n",
    "1. Genera una muestra de 100 valores de datos espaciados uniformemente de 0 a 50 \n",
    "2. Personaliza las etiquetas de los ejes, con nombres como, `Etiquetas muestrales` `etiqueta x en los ejes`, `etiqueta y en los ejes`.\n",
    "3. Agrega la leyenda y utiliza `tight_layout()` el padding adicional alrededor del borde de la figura y entre los subplots.\n",
    " \n"
   ]
  },
  {
   "cell_type": "code",
   "execution_count": null,
   "metadata": {},
   "outputs": [],
   "source": [
    "# Tu respuesta"
   ]
  },
  {
   "cell_type": "markdown",
   "metadata": {
    "id": "h7VGzAA61Toy"
   },
   "source": [
    "Podemos usar la fábrica de `subplots` para obtener `Figure` y todos los ejes.\n",
    "\n",
    "\n",
    "```\n",
    "ax = fig.add_subplot(2,2,1) # fila-col-num \n",
    "```\n",
    "\n",
    "```\n",
    "ax = fig.add_axes([0.1,0.1,0.8,0.8])\n",
    "```\n",
    "\n",
    "Podemos usar la fábrica de `subplots` para obtener la `Figure` y todos los `Axis`. "
   ]
  },
  {
   "cell_type": "code",
   "execution_count": null,
   "metadata": {
    "colab": {
     "base_uri": "https://localhost:8080/",
     "height": 521
    },
    "id": "W0PHd7zB0qm6",
    "outputId": "62587244-3804-47c4-f1dd-a3d5b63d7c2f"
   },
   "outputs": [],
   "source": [
    "fig, ax = plt.subplots()\n",
    "fig, (ax1, ax2, ax3) = plt.subplots(nrows=3, ncols=1, sharex=True, figsize=(8,4))"
   ]
  },
  {
   "cell_type": "code",
   "execution_count": null,
   "metadata": {
    "id": "pZ5Wh9xHBatW"
   },
   "outputs": [],
   "source": [
    "# Interactuando los Axes dentro de Figure\n",
    "for ax in fig.get_axes():\n",
    "    pass"
   ]
  },
  {
   "cell_type": "markdown",
   "metadata": {
    "id": "IfktOzW-B0QL"
   },
   "source": [
    "#### Diagramas de líneas: usando `ax.plot()`\n"
   ]
  },
  {
   "cell_type": "code",
   "execution_count": null,
   "metadata": {
    "colab": {
     "base_uri": "https://localhost:8080/",
     "height": 303
    },
    "id": "2dvyHpJVBk0w",
    "outputId": "db99807d-a2d6-48b1-a412-98a929c61cb3"
   },
   "outputs": [],
   "source": [
    "x = np.linspace(0, 20, 1000)\n",
    "y = np.sin(x)\n",
    "\n",
    "fig = plt.figure(figsize=(8,4))                        #  figure vacia y agregamos Axes \n",
    "ax = fig.add_subplot(1,1,1)                            # fila-col-num \n",
    "ax.plot(x, y, 'b-', linewidth=3, label='etiqueta muestra')  \n",
    "\n",
    "ax.set_ylabel('etiqueta eje y ', fontsize=16)         # etiqueta y \n",
    "ax.set_xlabel('etiqueta eje x', fontsize=16)          # etiqueta x  \n",
    "ax.legend(loc='best')                  \n",
    "ax.grid(True)                                          # grids\n",
    "fig.suptitle('Titulo del grafico de prueba')           # titulo\n",
    "fig.tight_layout(pad=1)                               \n",
    "# fig.savefig('filename.png', dpi=125)  "
   ]
  },
  {
   "cell_type": "markdown",
   "metadata": {
    "id": "yZkupQppF9jR"
   },
   "source": [
    "#### Múltiples líneas sobre el mismo eje"
   ]
  },
  {
   "cell_type": "code",
   "execution_count": null,
   "metadata": {
    "colab": {
     "base_uri": "https://localhost:8080/",
     "height": 311
    },
    "id": "smgaKVNVE9Y_",
    "outputId": "95f66480-44ef-4c20-be68-2c7c922f9694"
   },
   "outputs": [],
   "source": [
    "fig, ax = plt.subplots(figsize=(8,4))\n",
    "\n",
    "x1 = np.linspace(0, 100, 20) \n",
    "x2 = np.linspace(0, 100, 20)\n",
    "x3 = np.linspace(0, 100, 20)\n",
    "y1 = np.sin(x1)\n",
    "y2 = np.cos(x2)\n",
    "y3 = np.tan(x3)\n",
    "\n",
    "ax.plot(x1, y1, label='sin')\n",
    "ax.plot(x2, y2, label='cos')\n",
    "ax.plot(x3, y3, label='tan')\n",
    "\n",
    "ax.grid(True) \n",
    "ax.legend(loc='best', prop={'size':'large'}) \n",
    "\n",
    "fig.suptitle('Diagrama de multiples lineas')"
   ]
  },
  {
   "cell_type": "markdown",
   "metadata": {
    "id": "jyYo6nHFGrII"
   },
   "source": [
    "#### Multiples líneas sobre diferentes ejes"
   ]
  },
  {
   "cell_type": "code",
   "execution_count": null,
   "metadata": {
    "colab": {
     "base_uri": "https://localhost:8080/",
     "height": 311
    },
    "id": "AEw_ptZ9GnVA",
    "outputId": "1d4a2634-c551-430b-b010-4c1a52414d72"
   },
   "outputs": [],
   "source": [
    "# Cambiando sharex a True para usar el eje x\n",
    "fig, (ax1,ax2,ax3) = plt.subplots(nrows=3, ncols=1, sharex=False, sharey = False, figsize=(8,4))\n",
    "\n",
    "x1 = np.linspace(0, 100, 20) \n",
    "x2 = np.linspace(0, 100, 20)\n",
    "x3 = np.linspace(0, 100, 20)\n",
    "y1 = np.sin(x1)\n",
    "y2 = np.cos(x2)\n",
    "y3 = np.tan(x3)\n",
    "\n",
    "ax1.plot(x1, y1, label='sin')\n",
    "ax2.plot(x2, y2, label='cos')\n",
    "ax3.plot(x3, y3, label='tan')\n",
    " \n",
    "ax1.grid(True) \n",
    "ax2.grid(True)\n",
    "ax3.grid(True)\n",
    "\n",
    "ax1.legend(loc='best', prop={'size':'large'}) \n",
    "ax2.legend(loc='best', prop={'size':'large'}) \n",
    "ax3.legend(loc='best', prop={'size':'large'}) \n",
    "\n",
    "fig.suptitle('Lineas en diferentes ejes')"
   ]
  },
  {
   "cell_type": "markdown",
   "metadata": {
    "id": "z06fXKokIWSw"
   },
   "source": [
    "#### Línea de control y estilo de marcador "
   ]
  },
  {
   "cell_type": "code",
   "execution_count": null,
   "metadata": {
    "colab": {
     "base_uri": "https://localhost:8080/",
     "height": 311
    },
    "id": "EgIN0BoZHboK",
    "outputId": "772810b7-589b-408b-f726-13e4ee7993b8"
   },
   "outputs": [],
   "source": [
    "fig, ax = plt.subplots(figsize=(8,4)) \n",
    "N = 3 \n",
    "estilos =  ['-', '--', '-.', ':'] \n",
    "marcadores = list('+ox') \n",
    "x = np.linspace(0, 100, 20) \n",
    "for i in range(N):      \n",
    "    y = x + x/5*i + i     \n",
    "    s = estilos[i % len(estilos)]     \n",
    "    m = marcadores[i % len(marcadores)]     \n",
    "    ax.plot(x, y, alpha = 1, label='Line '+str(i+1)+' '+s+m,       \n",
    "                  marker=m, linewidth=2, linestyle=s)  \n",
    "ax.grid(True) \n",
    "ax.legend(loc='best', prop={'size':'large'}) \n",
    "fig.suptitle('Diagrama de linea simple')"
   ]
  },
  {
   "cell_type": "markdown",
   "metadata": {
    "id": "yfbGhr3lKXFZ"
   },
   "source": [
    "#### Diagramas de barras: usando `ax.bar()` y `ax.barh()`\n",
    "\n",
    "Un gráfico de barras simple."
   ]
  },
  {
   "cell_type": "code",
   "execution_count": null,
   "metadata": {
    "colab": {
     "base_uri": "https://localhost:8080/",
     "height": 258
    },
    "id": "NmQS_nJVKBFQ",
    "outputId": "2daef255-a39e-4b0e-f3e4-a510ca188e96"
   },
   "outputs": [],
   "source": [
    "N = 4 \n",
    "etiquetas = list('ABCD') \n",
    "data = np.array(range(N)) + np.random.rand(N)\n",
    "\n",
    "#dibuja la data \n",
    "fig, ax = plt.subplots(figsize=(8, 3.5)) \n",
    "ancho = 0.5;  \n",
    "tickLocations = np.arange(N) \n",
    "rectLocations = tickLocations-(ancho/2.0) \n",
    "\n",
    "# para el color se puede usar el valor HEX del nombre del color \n",
    "ax.bar(rectLocations, data, ancho,      \n",
    "       color='lightblue',     \n",
    "       edgecolor='#1f10ed', linewidth=4.0) \n",
    "\n",
    "ax.set_xticks(ticks= tickLocations)\n",
    "ax.set_xticklabels(etiquetas) \n",
    "ax.set_xlim(min(tickLocations)-0.6, max(tickLocations)+0.6) \n",
    "ax.set_yticks(range(N)[1:]) \n",
    "ax.set_ylim((0,N)) \n",
    "ax.set_ylabel('etiqueta del eje y', fontsize=8)     # etiqueta y \n",
    "ax.set_xlabel('etiqueta del eje x', fontsize=8)     # etiqueta x   \n",
    "ax.yaxis.grid(True)\n",
    "fig.suptitle(\"Grafico de barras\") \n",
    "fig.tight_layout(pad=2) "
   ]
  },
  {
   "cell_type": "markdown",
   "metadata": {
    "id": "-2JfyogsLlfS"
   },
   "source": [
    "#### Gráficos de barras horizontales"
   ]
  },
  {
   "cell_type": "code",
   "execution_count": null,
   "metadata": {
    "colab": {
     "base_uri": "https://localhost:8080/",
     "height": 258
    },
    "id": "Fg2QXxOnMxSP",
    "outputId": "05d8609d-60fc-40fe-f653-db351d3eac17"
   },
   "outputs": [],
   "source": [
    "N = 4 \n",
    "etiquetas = list('ABCD') \n",
    "data = np.array(range(N)) + np.random.rand(N)\n",
    "\n",
    "fig, ax = plt.subplots(figsize=(8, 3.5)) \n",
    "ancho = 0.5;  \n",
    "tickLocations = np.arange(N) \n",
    "rectLocations = tickLocations-(ancho/2.0) \n",
    "\n",
    "ax.barh(rectLocations, data, ancho, color='lightblue') \n",
    "ax.set_yticks(ticks= tickLocations)\n",
    "ax.set_yticklabels(etiquetas) \n",
    "ax.set_ylim(min(tickLocations)-0.6, max(tickLocations)+0.6) \n",
    "ax.xaxis.grid(True)\n",
    "\n",
    "ax.set_ylabel('etiqueta del eje y', fontsize=8)     # etiqueta y \n",
    "ax.set_xlabel('etiqueta del eje x', fontsize=8)     # etiqueta x\n",
    "\n",
    "fig.suptitle(\"Grafico de barras\") \n",
    "fig.tight_layout(pad=2) "
   ]
  },
  {
   "cell_type": "markdown",
   "metadata": {
    "id": "D7g8ysT8N7Gd"
   },
   "source": [
    "#### Gráfico de barras lado a lado "
   ]
  },
  {
   "cell_type": "code",
   "execution_count": null,
   "metadata": {
    "colab": {
     "base_uri": "https://localhost:8080/",
     "height": 268
    },
    "id": "QaMjqWPyNRwu",
    "outputId": "656e0dff-7d2e-4bed-a993-19f2bcaf1758"
   },
   "outputs": [],
   "source": [
    "# Generamos data\n",
    "pre = np.array([19, 6, 11, 9]) \n",
    "post = np.array([15, 11, 9, 8]) \n",
    "etiquetas=['Resumen '+x for x in list('ABCD')] \n",
    "\n",
    "# plot -izquierda - derecha \n",
    "fig, ax = plt.subplots(figsize=(8, 3.5)) \n",
    "ancho = 0.4\n",
    "xlocs = np.arange(len(pre)) \n",
    "ax.bar(xlocs-ancho, pre, ancho,       \n",
    "       color='green', label='True') \n",
    "ax.bar(xlocs, post, ancho ,       \n",
    "       color='#1f10ed', label='False')\n",
    "\n",
    "ax.set_xticks(ticks=range(len(pre))) \n",
    "ax.set_xticklabels(etiquetas) \n",
    "ax.yaxis.grid(True) \n",
    "ax.legend(loc='best') \n",
    "ax.set_ylabel('Count') \n",
    "fig.suptitle('Grafico de muestra') \n",
    "fig.tight_layout(pad=1) "
   ]
  },
  {
   "cell_type": "markdown",
   "metadata": {
    "id": "WfOYzG1hP_QT"
   },
   "source": [
    "#### Barras apiladas"
   ]
  },
  {
   "cell_type": "code",
   "execution_count": null,
   "metadata": {
    "colab": {
     "base_uri": "https://localhost:8080/",
     "height": 268
    },
    "id": "yLeHhX_WPep0",
    "outputId": "7f383c08-8c87-4abc-bd15-b39b7f68ac3c"
   },
   "outputs": [],
   "source": [
    "# Generamos data\n",
    "pre = np.array([19, 6, 11, 9]) \n",
    "post = np.array([15, 11, 9, 8]) \n",
    "etiquetas=['Resumen '+x for x in list('ABCD')] \n",
    "\n",
    "# plot -izquierda - derecha \n",
    "fig, ax = plt.subplots(figsize=(8, 3.5)) \n",
    "ancho = 0.4\n",
    "xlocs = np.arange(len(pre) + 2)\n",
    "adjlocs = xlocs[1:-1] -ancho/2.0 \n",
    "ax.bar(adjlocs, pre, ancho,       \n",
    "       color='grey', label='True') \n",
    "ax.bar(adjlocs, post, ancho ,       \n",
    "       color='cyan', label='False', bottom=pre)\n",
    "\n",
    "ax.set_xticks(ticks=xlocs[1:-1]) \n",
    "ax.set_xticklabels(etiquetas) \n",
    "ax.yaxis.grid(True) \n",
    "ax.legend(loc='best') \n",
    "ax.set_ylabel('Count') \n",
    "fig.suptitle('Grafico de muestra') \n",
    "fig.tight_layout(pad=1) "
   ]
  },
  {
   "cell_type": "markdown",
   "metadata": {
    "id": "ba5ZngCWSUpY"
   },
   "source": [
    "#### Gráfico circular usando `ax.pie()` "
   ]
  },
  {
   "cell_type": "code",
   "execution_count": null,
   "metadata": {
    "colab": {
     "base_uri": "https://localhost:8080/",
     "height": 263
    },
    "id": "t9KRYMQ6Rdsb",
    "outputId": "d6a3443d-67f4-4bb6-80c2-0150a295bab3"
   },
   "outputs": [],
   "source": [
    "data = np.array([15,8,4]) \n",
    "labels = ['Ingenieria de caracteristicas', 'Ajuste del modelo', 'Construccion del modelo']\n",
    "explode = (0, 0.1, 0)\n",
    "colrs=['cyan', 'tan', 'wheat']\n",
    "# plot \n",
    "fig, ax = plt.subplots(figsize=(8, 3.5)) \n",
    "ax.pie(data, explode=explode,     \n",
    "       labels=labels, autopct='%1.1f%%',     \n",
    "       startangle=270, colors=colrs) \n",
    "ax.axis('equal') # se esta en el circulo \n",
    "fig.suptitle(\"ML Pie\") "
   ]
  },
  {
   "cell_type": "code",
   "execution_count": null,
   "metadata": {
    "colab": {
     "base_uri": "https://localhost:8080/",
     "height": 327
    },
    "id": "vgq3Cq7HS8oD",
    "outputId": "15cda944-e1c6-4595-de7b-15d5cd01a8fe"
   },
   "outputs": [],
   "source": [
    "# ejemplo de diseño de subplots\n",
    "fig = plt.figure(figsize=(8,4)) \n",
    "fig.text(x=0.01, y=0.01, s='Figure',color='#888888', ha='left', va='bottom', fontsize=20) \n",
    "\n",
    "for i in range(4):     \n",
    "    # fig.add_subplot(nrows, ncols, num)     \n",
    "    ax = fig.add_subplot(2, 2, i+1)      \n",
    "    ax.text(x=0.01, y=0.01, s='Subplot 2 2 '+str(i+1),  color='red', ha='left', va='bottom', fontsize=20)    \n",
    "    ax.set_xticks([]); ax.set_yticks([]) \n",
    "ax.set_xticks([]); ax.set_yticks([])\n",
    "fig.suptitle('Subplots')"
   ]
  },
  {
   "cell_type": "markdown",
   "metadata": {
    "id": "qzuFWrSuYnME"
   },
   "source": [
    "### Valores predeterminados"
   ]
  },
  {
   "cell_type": "code",
   "execution_count": null,
   "metadata": {
    "colab": {
     "base_uri": "https://localhost:8080/"
    },
    "id": "-O7HOzEEX6Ox",
    "outputId": "cdfb4b66-8ea8-46ad-f239-ec70e65125f6"
   },
   "outputs": [],
   "source": [
    "print (matplotlib.matplotlib_fname())"
   ]
  },
  {
   "cell_type": "markdown",
   "metadata": {
    "id": "7wAS2MjVdRrz"
   },
   "source": [
    "Ajustes de configuración actuales."
   ]
  },
  {
   "cell_type": "code",
   "execution_count": null,
   "metadata": {
    "colab": {
     "base_uri": "https://localhost:8080/"
    },
    "id": "zquCq-puZE9a",
    "outputId": "ee275333-6e10-41d3-b015-67040d6f1f84"
   },
   "outputs": [],
   "source": [
    "#print(matplotlib.rcParams)"
   ]
  },
  {
   "cell_type": "code",
   "execution_count": null,
   "metadata": {
    "id": "sZ9msJAidkgZ"
   },
   "outputs": [],
   "source": [
    "# Cambiamos la configuracion por defecto\n",
    "\n",
    "\n",
    "plt.rc('figure', figsize=(8,4), dpi=125,facecolor='white', edgecolor='white')\n",
    "plt.rc('axes', facecolor='#e5e5e5',  grid=True, linewidth=1.0, axisbelow=True)\n",
    "plt.rc('grid', color='white', linestyle='-',    linewidth=2.0, alpha=1.0) \n",
    "plt.rc('xtick', direction='out') \n",
    "plt.rc('ytick', direction='out') \n",
    "plt.rc('legend', loc='best') \n",
    " \n"
   ]
  },
  {
   "cell_type": "markdown",
   "metadata": {},
   "source": [
    "### **Ejercicios sobre `matplotlib`**\n",
    "\n",
    "#### **Parte 1: Uso de `pyplot`**\n",
    "1. **Gráfico de líneas personalizadas**  \n",
    "   - Grafica dos listas de valores: `x = [1, 3, 5, 7, 9]` y `y = [2, 4, 6, 8, 10]`.\n",
    "   - Cambia el color de la línea a `purple`.\n",
    "   - Usa un estilo de línea punteada (`--`).\n",
    "   - Agrega etiquetas a los ejes y un título descriptivo.\n",
    "\n",
    "2. **Gráfico de dispersión con diferentes marcadores**\n",
    "   - Usa los valores `x = [2, 4, 6, 8, 10]` y `y = [1, 3, 5, 7, 9]`.\n",
    "   - Muestra los puntos con marcadores circulares de color rojo.\n",
    "   - Agrega una leyenda con el nombre \"Puntos de dispersión\".\n",
    "\n",
    "3. **Configuración de límites en los ejes**\n",
    "   - Grafica la función  $y = x^2$ para `x` en el rango `[-5,5]`.\n",
    "   - Limita el eje `x` al intervalo `[-3,3]` y el eje `y` al intervalo `[0,10]`.\n",
    "   - Usa un estilo de línea con guiones (`-.`) de color `blue`.\n",
    "\n",
    "#### **Parte 2: Uso de la interfaz orientada a objetos**\n",
    "4. **Múltiples subplots en una figura**  \n",
    "   - Crea una figura con `2 filas x 2 columnas` de subplots.\n",
    "   - En cada subplot, grafica una función matemática diferente:\n",
    "     - Arriba izquierda: $y = x$\n",
    "     - Arriba derecha: $y = x^2$\n",
    "     - Abajo izquierda: $y = x^3$\n",
    "     - Abajo derecha: $y = \\sin(x)$\n",
    "   - Configura títulos para cada subplot.\n",
    "   - Usa `tight_layout()` para mejorar la presentación.\n",
    "\n",
    "5. **Diferentes escalas en los ejes**\n",
    "   - Crea un gráfico con `fig, ax = plt.subplots()`.\n",
    "   - Grafica `y = e^x` en el intervalo `x = [-2,2]`.\n",
    "   - Configura la escala del eje `y` en `log` con `ax.set_yscale('log')`.\n",
    "   - Agrega etiquetas y título.\n",
    "\n",
    "6. **Uso de `legend` en la interfaz orientada a objetos**\n",
    "   - Grafica tres funciones:  \n",
    "     - $y = x$ (línea sólida azul)\n",
    "     - $y = x^2$ (línea discontinua verde)\n",
    "     - $y = x^3$ (línea punteada roja)\n",
    "   - Usa la función `ax.legend()` para mostrar la leyenda con los nombres de cada curva.\n",
    "   - Agrega título y etiquetas a los ejes.\n",
    "\n",
    "#### **Ejercicio desafío**\n",
    "7. **Visualización comparativa de datos reales**  \n",
    "   - Carga un dataset de `pandas`, por ejemplo, el dataset de `iris` (`seaborn.load_dataset(\"iris\")`).\n",
    "   - Crea un gráfico de dispersión que compare la longitud del sépalo (`sepal_length`) con la longitud del pétalo (`petal_length`).\n",
    "   - Colorea los puntos según la especie (`species`).\n",
    "   - Usa la interfaz orientada a objetos para personalizar el gráfico (leyendas, etiquetas, título, etc.).\n",
    "\n"
   ]
  },
  {
   "cell_type": "code",
   "execution_count": null,
   "metadata": {},
   "outputs": [],
   "source": [
    "### Tus respuestas"
   ]
  }
 ],
 "metadata": {
  "colab": {
   "collapsed_sections": [],
   "name": "Capitulo2C.ipynb",
   "provenance": []
  },
  "kernelspec": {
   "display_name": "Python 3 (ipykernel)",
   "language": "python",
   "name": "python3"
  },
  "language_info": {
   "codemirror_mode": {
    "name": "ipython",
    "version": 3
   },
   "file_extension": ".py",
   "mimetype": "text/x-python",
   "name": "python",
   "nbconvert_exporter": "python",
   "pygments_lexer": "ipython3",
   "version": "3.12.4"
  }
 },
 "nbformat": 4,
 "nbformat_minor": 4
}

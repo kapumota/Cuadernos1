{
 "cells": [
  {
   "cell_type": "markdown",
   "metadata": {
    "deletable": true,
    "editable": true
   },
   "source": [
    "## Ipython y Jupyter\n",
    "\n",
    "Hay dos formas principales de usar IPython : el shell IPython y los notebook de IPython. \n",
    "\n",
    "Por ejemplo podemos  lanzar el intérprete IPython escribiendo **``ipython``** en la línea de comandos y seguir adelante\n",
    "\n",
    "```\n",
    "c-lara@Lara:~$ ipython\n",
    "Python 3.5.2 |Continuum Analytics, Inc.| (default, Jul  2 2016, 17:53:06) \n",
    "Type \"copyright\", \"credits\" or \"license\" for more information.\n",
    "\n",
    "IPython 5.1.0 -- An enhanced Interactive Python.\n",
    "?         -> Introduction and overview of IPython's features.\n",
    "%quickref -> Quick reference.\n",
    "help      -> Python's own help system.\n",
    "object?   -> Details about 'object', use 'object??' for extra details.\n",
    "\n",
    "In [1]: \n",
    "```"
   ]
  },
  {
   "cell_type": "markdown",
   "metadata": {
    "deletable": true,
    "editable": true
   },
   "source": [
    "Jupyter notebook es una interfaz gráfica que se muestra en un navegador web para el shell de IPython y construye un  conjunto de capacidades de visualización dinámica, además de ejecutar instrucciones Python/ IPython.\n",
    "\n",
    "Aunque el  IPython Notebook es visto y editado  a través de la ventana del navegador web, debe conectarse a un proceso en ejecución de Python para ejecutar código. Este proceso (conocido como \"kernel\") se puede iniciar ejecutando el siguiente comando en el shell del sistema\n",
    "\n",
    "```\n",
    "c-lara@Lara:~/Escritorio$ jupyter notebook\n",
    "\n",
    "```\n",
    "\n",
    "Este comando lanzará un servidor web local que será visible en un navegador. Inmediatamente lanza  un registro que muestra lo que está haciendo; ese registro se puede ver  como esto:\n",
    "\n",
    "```\n",
    "c-lara@Lara:~/Escritorio$ jupyter notebook\n",
    "[I 21:27:10.953 NotebookApp] Writing notebook server cookie secret to /run/user/1001/jupyter/notebook_cookie_secret\n",
    "[I 21:27:16.162 NotebookApp] Serving notebooks from local directory: /home/c-lara/Escritorio\n",
    "[I 21:27:16.162 NotebookApp] 0 active kernels \n",
    "[I 21:27:16.162 NotebookApp] The Jupyter Notebook is running at: http://localhost:8888/\n",
    "[I 21:27:16.163 NotebookApp] Use Control-C to stop this server and shut down all kernels (twice to skip confirmation).\n",
    "[W 21:27:27.073 NotebookApp] Notebook 01.00-IPython-Beyond-Normal-Python.ipynb is not trusted\n",
    "[W 21:27:27.188 NotebookApp] 404 GET /nbextensions/widgets/notebook/js/extension.js?v=20170315212710 (127.0.0.1) 54.55ms referer=http://localhost:8888/notebooks/01.00-IPython-Beyond-Normal-Python.ipynb\n",
    "\n",
    "```\n",
    "\n",
    "Al escribir este  comando, el navegador predeterminado debe abrirse automáticamente y navegar a la URL local listada; la dirección exacta dependerá del sistema. Si el navegador no se abre automáticamente, podemos abrir una ventana y abrir manualmente esta dirección (*http://localhost:8888/* en este ejemplo)."
   ]
  },
  {
   "cell_type": "markdown",
   "metadata": {},
   "source": [
    "En Windows, utilizando Anaconda Navigator, no necesitas abrir una terminal para ejecutar el comando. En lugar de ello, se sigue este procedimiento:\n",
    "\n",
    "1. Abre **Anaconda Navigator** desde el menú de inicio de Windows.\n",
    "2. En el panel principal, busca la tarjeta o el ícono de **Jupyter Notebook**.\n",
    "3. Haz clic en el botón **Launch**.  \n",
    "   Esto iniciará el servidor de Jupyter Notebook en segundo plano y, automáticamente, abrirá tu navegador predeterminado mostrando la interfaz de Jupyter. Normalmente, la URL será algo similar a `http://localhost:8888/`.\n",
    "\n",
    "Este proceso es equivalente a ejecutar el comando `jupyter notebook` en un terminal de Linux, pero está gestionado completamente a través de la interfaz gráfica de Anaconda Navigator en Windows."
   ]
  },
  {
   "cell_type": "markdown",
   "metadata": {
    "deletable": true,
    "editable": true
   },
   "source": [
    "#### Ayuda y documentación en Jupyter\n",
    "\n",
    "IPython-Jupyter tiene herramientas  para acceder rápidamente a esta información, por ejemplo `?`   explora la documentación, `??`  explora el código fuente y la tecla `Tab` se usa   para el autocompletado.\n"
   ]
  },
  {
   "cell_type": "code",
   "execution_count": null,
   "metadata": {
    "collapsed": false,
    "deletable": true,
    "editable": true,
    "jupyter": {
     "outputs_hidden": false
    }
   },
   "outputs": [],
   "source": [
    "help(len)"
   ]
  },
  {
   "cell_type": "markdown",
   "metadata": {
    "deletable": true,
    "editable": true
   },
   "source": [
    "IPython introduce el caracter `?` como una abreviatura para acceder a esta documentación y otra información relevante."
   ]
  },
  {
   "cell_type": "code",
   "execution_count": null,
   "metadata": {
    "collapsed": false,
    "deletable": true,
    "editable": true,
    "jupyter": {
     "outputs_hidden": false
    }
   },
   "outputs": [],
   "source": [
    "len?"
   ]
  },
  {
   "cell_type": "code",
   "execution_count": null,
   "metadata": {
    "deletable": true,
    "editable": true
   },
   "outputs": [],
   "source": [
    "L = ['cesar', 2, 'True']\n",
    "L?"
   ]
  },
  {
   "cell_type": "markdown",
   "metadata": {
    "deletable": true,
    "editable": true
   },
   "source": [
    "Este herramienta trabaja  para  funciones u otros objetos que podemos crear."
   ]
  },
  {
   "cell_type": "code",
   "execution_count": null,
   "metadata": {
    "collapsed": false,
    "deletable": true,
    "editable": true,
    "jupyter": {
     "outputs_hidden": false
    }
   },
   "outputs": [],
   "source": [
    "def f():\n",
    "    \"\"\"Funcion dentro de otra funcion\"\"\"\n",
    "    def g():\n",
    "        print(\"Hola, soy yo 'g'\")\n",
    "        print(\"Gracias por llamarme \")\n",
    "        \n",
    "    print(\"Esta es la funcion 'f'\")\n",
    "    print(\"Estoy llamando a  'g' ahora:\")\n",
    "    g()\n",
    "    \n",
    "f()"
   ]
  },
  {
   "cell_type": "code",
   "execution_count": null,
   "metadata": {
    "deletable": true,
    "editable": true
   },
   "outputs": [],
   "source": [
    "f?"
   ]
  },
  {
   "cell_type": "markdown",
   "metadata": {
    "deletable": true,
    "editable": true
   },
   "source": [
    "Este rápido acceso a la documentación a través de docstrings es una de las razones por las que debería tener el hábito de agregar siempre esta documentación en el  código que escribimos.\n",
    "\n",
    "Debido a que el lenguaje Python es fácil de leer, se puede obtener otro nivel de conocimiento mediante la lectura del código fuente de cualquier objeto que se tenga. IPython-Jupyter  proporciona un acceso directo al código fuente con el signo de interrogación doble `??`."
   ]
  },
  {
   "cell_type": "code",
   "execution_count": null,
   "metadata": {
    "deletable": true,
    "editable": true
   },
   "outputs": [],
   "source": [
    "f??"
   ]
  },
  {
   "cell_type": "markdown",
   "metadata": {
    "deletable": true,
    "editable": true
   },
   "source": [
    "#### Completación con Tab\n",
    "\n",
    "Una  interfaz útil de Python es el uso de la tecla de tabulación para autocompletar y explorar el contenido de objetos, módulos y espacios de nombres. En los ejemplos que siguen, usaremos `<TAB>` para indicar cuándo debemos pulsar la tecla  `Tab`. "
   ]
  },
  {
   "cell_type": "code",
   "execution_count": null,
   "metadata": {
    "deletable": true,
    "editable": true
   },
   "outputs": [],
   "source": [
    "M = [3, 7, 9]"
   ]
  },
  {
   "cell_type": "markdown",
   "metadata": {
    "deletable": true,
    "editable": true
   },
   "source": [
    "```ipython\n",
    "In [11]: M.<TAB>\n",
    "M.append   M.copy     M.extend   M.insert   M.remove   M.sort     \n",
    "M.clear    M.count    M.index    M.pop      M.reverse  \n",
    "```\n",
    "\n",
    "Para restringir la lista, podemos escribir el primer carácter o varios caracteres del nombre y la tecla Tab encontrará los atributos y métodos correspondientes\n",
    "\n",
    "\n",
    "```ipython\n",
    "In [12]: M.c<TAB>\n",
    "M.clear  M.copy   M.count  \n",
    "\n",
    "In [12]: M.co<TAB>\n",
    "L.copy   M.count \n",
    "```\n",
    "\n",
    "Aunque Python no tiene una distinción estrictamente forzada entre atributos públicos y atributos privados internos, por convención se utiliza un subrayado  para denotar dichos métodos.\n",
    "\n",
    "Para mayor claridad, estos métodos privados y métodos especiales se omite de la lista de forma predeterminada, pero es posible enumerarlos escribiendo explícitamente el subrayado\n",
    "\n",
    "```ipython\n",
    "In [13]: M._<TAB>\n",
    "M.__add__           M.__gt__            M.__reduce__\n",
    "M.__class__         M.__hash__          M.__reduce_ex__\n",
    "```"
   ]
  },
  {
   "cell_type": "markdown",
   "metadata": {
    "deletable": true,
    "editable": true
   },
   "source": [
    "La completación también es útil cuando se importa objetos de paquetes\n",
    "\n",
    "```\n",
    "In [14]: from itertools import co<TAB>\n",
    "combinations                   compress\n",
    "combinations_with_replacement  count\n",
    "\n",
    "```\n",
    "\n",
    "Del mismo modo, puede utilizar la completación  para ver qué importaciones están disponibles en el sistema (esto cambiará dependiendo de qué scripts y módulos de terceros sean visibles para una sesión de Python)\n",
    "\n",
    "```\n",
    "In [15]: import <TAB>\n",
    "Display all 399 possibilities? (y or n)\n",
    "Crypto              dis                 py_compile\n",
    "Cython              distutils           pyclbr\n",
    "...                 ...                 ...\n",
    "difflib             pwd                 zmq\n",
    "\n",
    "In [16]: import h<TAB>\n",
    "hashlib             hmac                http         \n",
    "heapq               html                husl         \n",
    "```\n",
    "\n",
    "\n"
   ]
  },
  {
   "cell_type": "markdown",
   "metadata": {
    "deletable": true,
    "editable": true
   },
   "source": [
    "IPython proporciona un medio de coincidencia de comodines para nombres que utilizan el carácter *."
   ]
  },
  {
   "cell_type": "code",
   "execution_count": null,
   "metadata": {
    "deletable": true,
    "editable": true
   },
   "outputs": [],
   "source": [
    "*Warning?"
   ]
  },
  {
   "cell_type": "markdown",
   "metadata": {
    "deletable": true,
    "editable": true
   },
   "source": [
    "Del mismo modo, supongamos que estamos buscando un método de cadena que contenga la palabra `rep` en algún lugar de su nombre. Podemos buscarlo de esta manera:"
   ]
  },
  {
   "cell_type": "code",
   "execution_count": null,
   "metadata": {
    "deletable": true,
    "editable": true
   },
   "outputs": [],
   "source": [
    "str.*rep*?"
   ]
  },
  {
   "cell_type": "markdown",
   "metadata": {},
   "source": [
    "\n",
    "##### Ejercicio 1: Definición de funciones y acceso a docstrings y código fuente\n",
    "\n",
    "1. **Definir una función:**  \n",
    "   - Crea una función similar a la siguiente en una celda (o en el intérprete IPython):\n",
    "     ```python\n",
    "     def f():\n",
    "         \"\"\"Función de ejemplo que llama a otra función interna\"\"\"\n",
    "         def g():\n",
    "             print(\"Hola, soy la función g\")\n",
    "         print(\"Esta es la función f, que llama a g:\")\n",
    "         g()\n",
    "     ```\n",
    "2. **Explorar la documentación y el código:**  \n",
    "   - Escribe `f?` para ver el docstring y detalles generales de la función.  \n",
    "   - Escribe `f??` para ver el código fuente completo de `f`.\n",
    "3. **Tarea:**  \n",
    "   - Explica la diferencia entre usar `?` y `??`, y comenta por qué es útil tener acceso al código fuente directamente desde IPython.\n",
    "\n",
    "##### Ejercicio 2: Uso del autocompletado en listas y objetos\n",
    "\n",
    "1. **Crear una lista:**  \n",
    "   - Define una lista en IPython o en un Notebook:\n",
    "     ```python\n",
    "     L = ['cesar', 2, True]\n",
    "     ```\n",
    "2. **Autocompletado:**  \n",
    "   - Escribe `L.` y pulsa la tecla <kbd>TAB</kbd> para que se muestren los métodos y atributos disponibles para la lista.\n",
    "   - Escribe `L.c` y pulsa <kbd>TAB</kbd> para restringir la búsqueda a métodos que comienzan con “c”.\n",
    "3. **Tarea:**  \n",
    "   - Anota al menos tres métodos que aparezcan y describe brevemente para qué sirve cada uno.\n",
    "\n",
    "\n",
    "##### Ejercicio 3: Explorando módulos y coincidencias de patrones\n",
    "\n",
    "1. **Importar un módulo:**  \n",
    "   - En una celda, importa el módulo `itertools`:\n",
    "     ```python\n",
    "     from itertools import *\n",
    "     ```\n",
    "2. **Uso de autocompletado con coincidencia de patrones:**  \n",
    "   - Escribe `co` y pulsa <kbd>TAB</kbd> para ver los objetos que comienzan con “co” dentro de `itertools`.\n",
    "   - Puedes repetir el proceso con otros módulos o utilizando comodines, por ejemplo:\n",
    "     ```python\n",
    "     str.*rep*?\n",
    "     ```\n",
    "3. **Tarea:**  \n",
    "   - Enumera algunos de los métodos o funciones que se muestran y menciona en qué situaciones podrían ser útiles.\n",
    "\n",
    "##### Ejercicio 4: Inicio y uso de Jupyter Notebook\n",
    "\n",
    "1. **Lanzar Jupyter Notebook:**  \n",
    "   - Desde la terminal, ejecuta:\n",
    "     ```bash\n",
    "     jupyter notebook\n",
    "     ```\n",
    "     (O, si usas Windows con Anaconda Navigator, inicia Jupyter Notebook desde la interfaz gráfica).\n",
    "2. **Crear un nuevo Notebook:**  \n",
    "   - Abre un nuevo cuaderno de Python.\n",
    "3. **Integración con IPython:**  \n",
    "   - En una celda, repite los ejercicios anteriores (por ejemplo, define una función con docstring, usa `?` y `??`, y experimenta con autocompletado en una lista).\n",
    "4. **Tarea:**  \n",
    "   - Realiza una breve descripción en una celda de texto (Markdown) explicando las ventajas de utilizar Jupyter Notebook para la exploración interactiva de código.\n"
   ]
  },
  {
   "cell_type": "markdown",
   "metadata": {
    "deletable": true,
    "editable": true
   },
   "source": [
    "## Comandos mágicos\n",
    "\n",
    "Jupyter notebook añade mejoras a la sintaxis de Python. Algunas de esta  mejoras son conocidas en IPython como comandos mágicos y son prefijados por el carácter `%`.\n",
    "\n",
    "Estos comandos mágicos están diseñados para resolver sucintamente varios problemas comunes en el análisis de datos. Los comandos mágicos se pueden dividir de dos formas: unos que se aplican sobre una línea  de entrada (line magics) que se indican con un el prefijo `%` y aquellos que  operan en múltiples líneas de entrada y  que se indican con un prefijo doble `%%`."
   ]
  },
  {
   "cell_type": "markdown",
   "metadata": {
    "deletable": true,
    "editable": true
   },
   "source": [
    "#### Corriendo código  externo %run \n",
    "\n",
    "A medida que comenzamos  a desarrollar  código más extenso, es probable que se encuentre trabajando tanto en IPython para la exploración interactiva como en un editor de texto para almacenar código que se desee reutilizar. En lugar de ejecutar este código en una nueva ventana, puede ser conveniente ejecutarlo dentro de una  sesión IPython. Esto se puede hacer con `%run`."
   ]
  },
  {
   "cell_type": "code",
   "execution_count": null,
   "metadata": {},
   "outputs": [],
   "source": [
    "%run python_algoritmos.py"
   ]
  },
  {
   "cell_type": "markdown",
   "metadata": {
    "deletable": true,
    "editable": true
   },
   "source": [
    "### Tiempo de ejecución de código :% timeit\n",
    "\n",
    "Un comando mágico útil es `% timeit`,  que determina  automáticamente el tiempo de ejecución de una instrucción de  Python . Por ejemplo, es posible  comprobar el rendimiento de las lista comprensión o el tiempo que se toma una función en recorrer  bucles:"
   ]
  },
  {
   "cell_type": "code",
   "execution_count": null,
   "metadata": {
    "collapsed": false,
    "deletable": true,
    "editable": true,
    "jupyter": {
     "outputs_hidden": false
    }
   },
   "outputs": [],
   "source": [
    "%timeit L = [n ** 2 for n in range(1000)]"
   ]
  },
  {
   "cell_type": "code",
   "execution_count": null,
   "metadata": {
    "collapsed": false,
    "deletable": true,
    "editable": true,
    "jupyter": {
     "outputs_hidden": false
    }
   },
   "outputs": [],
   "source": [
    "def f(x):\n",
    "    return x*x\n",
    "\n",
    "%timeit for x in range(100): f(x)"
   ]
  },
  {
   "cell_type": "markdown",
   "metadata": {
    "deletable": true,
    "editable": true
   },
   "source": [
    "Para declaraciones de varias líneas, la adición de un segundo signo `%`, permite que este comando mágico  puede manejar múltiples líneas de entrada. Por ejemplo, aquí está la construcción equivalente de un bucle  `for`:"
   ]
  },
  {
   "cell_type": "code",
   "execution_count": null,
   "metadata": {
    "collapsed": false,
    "deletable": true,
    "editable": true,
    "jupyter": {
     "outputs_hidden": false
    }
   },
   "outputs": [],
   "source": [
    "%%timeit\n",
    "L = []\n",
    "for n in range(1000):\n",
    "    L.append(n ** 2)"
   ]
  },
  {
   "cell_type": "markdown",
   "metadata": {
    "deletable": true,
    "editable": true
   },
   "source": [
    "Podemos ver  que las lista de comprensión  son aproximadamente 10% más rápidas que la construcción de un bucle como en el caso anterior."
   ]
  },
  {
   "cell_type": "markdown",
   "metadata": {
    "deletable": true,
    "editable": true
   },
   "source": [
    "#### Ayuda para las funciones mágicas\n",
    "\n",
    "Al igual que las funciones de Python, las funciones mágicas de IPython tienen docstrings  y esta documentación útil se puede acceder de la manera estándar. Así, por ejemplo, para leer la documentación de `% timeit` simplemente  se escribe:"
   ]
  },
  {
   "cell_type": "code",
   "execution_count": null,
   "metadata": {
    "deletable": true,
    "editable": true
   },
   "outputs": [],
   "source": [
    " %timeit?"
   ]
  },
  {
   "cell_type": "markdown",
   "metadata": {
    "deletable": true,
    "editable": true
   },
   "source": [
    "La documentación para otras funciones se puede acceder de manera similar. Para acceder a una descripción general de las funciones mágicas disponibles, incluyendo algunos ejemplos, podemos escribir:\n"
   ]
  },
  {
   "cell_type": "code",
   "execution_count": null,
   "metadata": {
    "deletable": true,
    "editable": true
   },
   "outputs": [],
   "source": [
    "%magic"
   ]
  },
  {
   "cell_type": "markdown",
   "metadata": {
    "deletable": true,
    "editable": true
   },
   "source": [
    "Para obtener una lista rápida y simple de todas las funciones mágicas disponibles, escribimos:\n"
   ]
  },
  {
   "cell_type": "code",
   "execution_count": null,
   "metadata": {
    "collapsed": false,
    "deletable": true,
    "editable": true,
    "jupyter": {
     "outputs_hidden": false
    },
    "scrolled": true
   },
   "outputs": [],
   "source": [
    "%lsmagic\n"
   ]
  },
  {
   "cell_type": "markdown",
   "metadata": {},
   "source": [
    "##### Ejercicio 1: Exploración de los comandos mágicos\n",
    "\n",
    "**Objetivo:**  \n",
    "Utilizar `%lsmagic` para listar y familiarizarte con los comandos mágicos disponibles, distinguiendo entre _line magics_ y _cell magics_.\n",
    "\n",
    "**Pasos:**\n",
    "1. Abre una celda en Jupyter Notebook o en el intérprete IPython.\n",
    "2. Escribe y ejecuta:\n",
    "   ```python\n",
    "   %lsmagic\n",
    "   ```\n",
    "3. Observa la salida, que se organiza en secciones como \"Available line magics\" y \"Available cell magics\".\n",
    "4. **Tarea:**  \n",
    "   - Anota tres ejemplos de _line magics_ (por ejemplo, `%pwd`, `%timeit`, `%env`) y tres ejemplos de _cell magics_ (por ejemplo, `%%time`, `%%writefile`, `%%capture`).\n",
    "   - Escribe en un comentario qué uso le darías a cada uno.\n",
    "\n",
    "##### Ejercicio 2: Creación de un archivo con `%%writefile`\n",
    "\n",
    "**Objetivo:**  \n",
    "Crear un archivo Python desde un Notebook usando la celda mágica `%%writefile` y ejecutarlo con `%run`.\n",
    "\n",
    "**Pasos:**\n",
    "1. En una celda de tu Notebook, escribe el siguiente código:\n",
    "   ```python\n",
    "   %%writefile saludo.py\n",
    "   def saludar(nombre):\n",
    "       \"\"\"\n",
    "       Función que imprime un saludo personalizado.\n",
    "       \"\"\"\n",
    "       print(\"¡Hola, \" + nombre + \"!\")\n",
    "   \n",
    "   if __name__ == \"__main__\":\n",
    "       saludar(\"Estudiante\")\n",
    "   ```\n",
    "2. Ejecuta la celda. Esto creará un archivo llamado `saludo.py` en el directorio actual.\n",
    "3. Ahora, en otra celda, ejecuta:\n",
    "   ```python\n",
    "   %run saludo.py\n",
    "   ```\n",
    "4. **Tarea:**  \n",
    "   - Observa la salida y verifica que la función se haya ejecutado correctamente.\n",
    "   - Abre el archivo generado (puedes usar `%pycat saludo.py` para verlo) y comenta qué hace cada parte del script.\n",
    "\n",
    "##### Ejercicio 3: Actualización y ampliación de un archivo con `%%writefile -a`\n",
    "\n",
    "**Objetivo:**  \n",
    "Utilizar la opción `-a` (append) de `%%writefile` para agregar contenido a un archivo existente.\n",
    "\n",
    "**Pasos:**\n",
    "1. En una celda nueva, escribe:\n",
    "   ```python\n",
    "   %%writefile -a saludo.py\n",
    "   def despedirse(nombre):\n",
    "       print(\"Adiós, \" + nombre + \"!\")\n",
    "   \n",
    "   if __name__ == \"__main__\":\n",
    "       despedirse(\"Estudiante\")\n",
    "   ```\n",
    "2. Ejecuta la celda para agregar la nueva función al archivo `saludo.py`.\n",
    "3. Vuelve a ejecutar el archivo con:\n",
    "   ```python\n",
    "   %run saludo.py\n",
    "   ```\n",
    "4. **Tarea:**  \n",
    "   - Observa qué funciones se ejecutan. ¿Qué sucede con el bloque `if __name__ == \"__main__\":`?  \n",
    "   - Comenta cómo podrías modificar el script para poder llamar tanto a `saludar` como a `despedirse` de forma controlada.\n",
    "\n",
    "\n",
    "##### Ejercicio 4: Medición del tiempo de ejecución con `%%timeit`\n",
    "\n",
    "**Objetivo:**  \n",
    "Comparar el tiempo de ejecución de dos implementaciones diferentes de una tarea sencilla usando `%%timeit`.\n",
    "\n",
    "**Pasos:**\n",
    "1. Crea dos celdas con diferentes implementaciones para calcular la suma de los números del 1 al 1,000,000.\n",
    "2. En la primera celda, utiliza un bucle `for`:\n",
    "   ```python\n",
    "   %%timeit\n",
    "   total = 0\n",
    "   for i in range(1, 1000001):\n",
    "       total += i\n",
    "   ```\n",
    "3. En la segunda celda, utiliza la función integrada `sum`:\n",
    "   ```python\n",
    "   %%timeit\n",
    "   total = sum(range(1, 1000001))\n",
    "   ```\n",
    "4. **Tarea:**  \n",
    "   - Compara los tiempos obtenidos y explica cuál método es más eficiente y por qué.\n",
    "\n",
    "\n",
    "##### Ejercicio 5: Captura de salida con `%%capture`\n",
    "\n",
    "**Objetivo:**  \n",
    "Utilizar `%%capture` para almacenar la salida de una celda y luego trabajar con ella.\n",
    "\n",
    "**Pasos:**\n",
    "1. En una celda, escribe lo siguiente:\n",
    "   ```python\n",
    "   %%capture salida\n",
    "   print(\"Este mensaje se capturará y no se mostrará automáticamente.\")\n",
    "   for i in range(3):\n",
    "       print(\"Línea\", i+1)\n",
    "   ```\n",
    "2. Ejecuta la celda. No verás ninguna salida.\n",
    "3. En una celda aparte, escribe:\n",
    "   ```python\n",
    "   salida.show()\n",
    "   ```\n",
    "4. **Tarea:**  \n",
    "   - Explica cómo `%%capture` puede ser útil para evitar que salidas muy extensas saturen la vista del Notebook.\n"
   ]
  },
  {
   "cell_type": "code",
   "execution_count": null,
   "metadata": {
    "collapsed": false,
    "deletable": true,
    "editable": true,
    "jupyter": {
     "outputs_hidden": false
    }
   },
   "outputs": [],
   "source": [
    "import math\n",
    "\n",
    "math.sin(3)"
   ]
  },
  {
   "cell_type": "code",
   "execution_count": null,
   "metadata": {
    "collapsed": false,
    "deletable": true,
    "editable": true,
    "jupyter": {
     "outputs_hidden": false
    }
   },
   "outputs": [],
   "source": [
    "math.cos(4)"
   ]
  },
  {
   "cell_type": "markdown",
   "metadata": {
    "deletable": true,
    "editable": true
   },
   "source": [
    "Todas las entradas y salidas de nuestra sesión se muestran en el shell con etiquetas `In / Out`. IPython hace algo maravilloso, crea  variables de Python llamadas `In`  y `Out` que se actualizan automáticamente para reflejar el historial de la sesión actual."
   ]
  },
  {
   "cell_type": "code",
   "execution_count": null,
   "metadata": {
    "deletable": true,
    "editable": true
   },
   "outputs": [],
   "source": [
    "from __future__ import print_function\n",
    "import numpy as np\n",
    "import statsmodels.api as sm\n",
    "import matplotlib.pyplot as plt\n",
    "from statsmodels.sandbox.regression.predstd import wls_prediction_std\n",
    "\n",
    "np.random.seed(9876789)"
   ]
  },
  {
   "cell_type": "code",
   "execution_count": null,
   "metadata": {
    "collapsed": false,
    "deletable": true,
    "editable": true,
    "jupyter": {
     "outputs_hidden": false
    }
   },
   "outputs": [],
   "source": [
    "# Ejemplo de statsmodels y OLS\n",
    "\n",
    "nmuestra = 100\n",
    "x = np.linspace(0, 10, 100)\n",
    "X = np.column_stack((x, x**2))\n",
    "beta = np.array([1, 0.1, 10])\n",
    "e = np.random.normal(size=nmuestra)\n",
    "\n",
    "X = sm.add_constant(X)\n",
    "y = np.dot(X, beta) + e\n",
    "\n",
    "modelo = sm.OLS(y, X)\n",
    "resultados = modelo.fit()\n",
    "print(resultados.summary())\n"
   ]
  },
  {
   "cell_type": "code",
   "execution_count": null,
   "metadata": {
    "collapsed": false,
    "deletable": true,
    "editable": true,
    "jupyter": {
     "outputs_hidden": false
    }
   },
   "outputs": [],
   "source": [
    "print(In)"
   ]
  },
  {
   "cell_type": "code",
   "execution_count": null,
   "metadata": {
    "collapsed": false,
    "deletable": true,
    "editable": true,
    "jupyter": {
     "outputs_hidden": false
    }
   },
   "outputs": [],
   "source": [
    "Out"
   ]
  },
  {
   "cell_type": "markdown",
   "metadata": {
    "deletable": true,
    "editable": true
   },
   "source": [
    "#### Supresión de la salida\n",
    "\n",
    "A veces es posible suprimir la salida de una declaración. La manera más fácil de suprimir la salida de un comando es agregar un punto y coma al final de la línea. En el siguiente ejemplo el resultado se calcula en *silencio*  y la salida no se muestra en la pantalla ni se almacena en el diccionario Out."
   ]
  },
  {
   "cell_type": "code",
   "execution_count": null,
   "metadata": {
    "deletable": true,
    "editable": true
   },
   "outputs": [],
   "source": [
    "math.sin(2) + math.cos(2);"
   ]
  },
  {
   "cell_type": "markdown",
   "metadata": {
    "deletable": true,
    "editable": true
   },
   "source": [
    "Para acceder a un lote de entradas anteriores a la vez, el comando mágico `% history` puede ser  muy útil. A continuación se muestra cómo puede imprimir las primeras 16 entradas del historial:"
   ]
  },
  {
   "cell_type": "code",
   "execution_count": null,
   "metadata": {
    "collapsed": false,
    "deletable": true,
    "editable": true,
    "jupyter": {
     "outputs_hidden": false
    }
   },
   "outputs": [],
   "source": [
    "%history -n 1-6"
   ]
  },
  {
   "cell_type": "markdown",
   "metadata": {
    "collapsed": true,
    "deletable": true,
    "editable": true,
    "jupyter": {
     "outputs_hidden": true
    }
   },
   "source": [
    "#### Integración de comandos shell en Jupyter Notebook\n",
    "\n",
    "Una de las grandes ventajas de trabajar en un entorno interactivo como Jupyter Notebook es la posibilidad de combinar la potencia de Python con la comodidad de ejecutar comandos del sistema sin tener que cambiar de aplicación. Esta integración se logra mediante el uso de un prefijo muy particular: el signo de exclamación (`!`). Cuando escribes un comando precedido por `!`, lo que sucede es que dicho comando no es interpretado por el kernel de Python, sino que se envía a la línea de comandos del sistema operativo para su ejecución.\n",
    "\n",
    "Por ejemplo, al escribir en una celda:\n",
    "\n",
    "```python\n",
    "!echo \"Linux es amigo de Jupyter\"\n",
    "```\n",
    "\n",
    "El comando `echo` se ejecuta en el shell de Linux y la salida se muestra en la celda del Notebook. Esto permite, entre otras cosas, listar directorios, copiar archivos, ejecutar scripts o utilizar utilidades del sistema, sin abandonar el entorno de Jupyter.\n",
    "\n",
    "\n",
    "#### Interpolación de variables Python en comandos shell\n",
    "\n",
    "Una característica especialmente útil es la posibilidad de pasar variables de Python a los comandos del shell. Esto se logra mediante la sintaxis de llaves `{}`, en la que se coloca el nombre de la variable dentro del comando. El valor de la variable se interpola automáticamente en la cadena antes de enviar el comando al sistema. Por ejemplo:\n",
    "\n",
    "```python\n",
    "mensaje = \"Análisis de datos, usa Jupyter\"\n",
    "!echo {mensaje}\n",
    "```\n",
    "\n",
    "En este caso, el contenido de la variable `mensaje` se inserta en el comando `echo`, permitiendo que se ejecute de manera dinámica. Esta funcionalidad es especialmente valiosa cuando se necesita construir comandos en función de valores calculados o configuraciones definidas en Python.\n",
    "\n",
    "\n"
   ]
  },
  {
   "cell_type": "code",
   "execution_count": null,
   "metadata": {
    "collapsed": false,
    "deletable": true,
    "editable": true,
    "jupyter": {
     "outputs_hidden": false
    }
   },
   "outputs": [],
   "source": [
    "!echo \"Linux es amigo de Jupyter\""
   ]
  },
  {
   "cell_type": "markdown",
   "metadata": {
    "deletable": true,
    "editable": true
   },
   "source": [
    "Pasar  las variables de Python en el shell es posible utilizando la sintaxis `{varname}`. Las llaves contienen el nombre de la variable, que es reemplazada por el contenido de la variable en el comando shell."
   ]
  },
  {
   "cell_type": "code",
   "execution_count": null,
   "metadata": {
    "collapsed": false,
    "deletable": true,
    "editable": true,
    "jupyter": {
     "outputs_hidden": false
    },
    "scrolled": true
   },
   "outputs": [],
   "source": [
    "mensaje = \"Analisis de datos, usa Jupyter\"\n",
    "!echo {mensaje}"
   ]
  },
  {
   "cell_type": "markdown",
   "metadata": {},
   "source": [
    "#### El problema del comando cd y el uso de %cd\n",
    "\n",
    "Aunque ejecutar comandos de shell es muy conveniente, existen algunas limitaciones derivadas de cómo se ejecutan estos comandos. En particular, cuando se usa `!cd` para cambiar de directorio, no se logra el efecto deseado en el entorno interactivo. Esto se debe a que cada vez que se ejecuta un comando con `!`, se crea una subshell temporal: el comando `cd` afecta únicamente a esa subshell y, por lo tanto, no cambia el directorio de trabajo del kernel de Python que continúa ejecutándose en el Notebook.\n",
    "\n",
    "Para resolver este inconveniente, IPython proporciona un comando mágico específico, `%cd`, que permite cambiar el directorio de trabajo de manera persistente. Al escribir:\n",
    "\n",
    "```python\n",
    "%cd /ruta/del/directorio\n",
    "```\n",
    "\n",
    "El comando `%cd` cambia el directorio de trabajo del proceso principal del kernel. Esto significa que las celdas posteriores del Notebook utilizarán la nueva ubicación como directorio actual, facilitando el manejo de archivos y rutas sin necesidad de abrir una terminal por separado.\n",
    "\n",
    "\n",
    "#### Automagic y la ejecución simplificada de comandos\n",
    "\n",
    "La característica de \"automagic\" en IPython hace que no sea necesario anteponer el símbolo `%` para ciertos comandos. Esto permite escribir comandos de forma más natural, sin necesidad de recordar siempre el prefijo. Por ejemplo, aunque internamente se use `%cd`, en muchas ocasiones basta con escribir `cd` y el sistema lo interpreta correctamente gracias al mecanismo de automagic. Esta funcionalidad se puede activar o desactivar mediante la función `%automagic`, lo que permite personalizar el comportamiento según las necesidades del usuario.\n",
    "\n",
    "El concepto de automagic facilita la vida del usuario al permitir que se escriban comandos del sistema de manera más fluida, integrándolos de forma transparente en el flujo de trabajo interactivo. Sin embargo, es importante conocer las diferencias entre los comandos mágicos (prefijados con `%` o `%%`) y los comandos de shell (prefijados con `!`), ya que cada uno se ejecuta en contextos diferentes: los primeros afectan al entorno del kernel de Python, mientras que los segundos se ejecutan en una subshell independiente.\n",
    "\n"
   ]
  },
  {
   "cell_type": "markdown",
   "metadata": {},
   "source": [
    "\n",
    "#### Ejemplos prácticos y usos avanzados\n",
    "\n",
    "Para ilustrar mejor cómo se combinan estos comandos y sus usos, consideremos algunos ejemplos prácticos:\n",
    "\n",
    "1. **Listar archivos y directorios:**  \n",
    "   Puedes listar los archivos del directorio actual usando:\n",
    "   ```python\n",
    "   !ls -l\n",
    "   ```\n",
    "   Aquí se utiliza el comando `ls` de Linux, y la salida se mostrará en la celda.\n",
    "\n",
    "2. **Mostrar el directorio de trabajo actual:**  \n",
    "   Aunque se podría intentar con `!pwd`, la forma más adecuada y persistente es:\n",
    "   ```python\n",
    "   %pwd\n",
    "   ```\n",
    "   Este comando mágico muestra el directorio de trabajo del kernel.\n",
    "\n",
    "3. **Construir y ejecutar un comando dinámicamente:**  \n",
    "   Supón que tienes una variable en Python y quieres utilizarla en un comando del shell:\n",
    "   ```python\n",
    "   nombre_archivo = \"datos.csv\"\n",
    "   !cat {nombre_archivo}\n",
    "   ```\n",
    "   Con esto, el contenido del archivo `datos.csv` se mostrará en la salida, siempre que el archivo exista en el directorio actual.\n",
    "\n",
    "4. **Uso de %%bash para ejecutar scripts complejos:**  \n",
    "   Cuando se requiere ejecutar múltiples líneas de comandos del shell, puedes utilizar la celda mágica `%%bash`. Por ejemplo:\n",
    "   ```bash\n",
    "   %%bash\n",
    "   echo \"Creando directorio de respaldo...\"\n",
    "   mkdir -p respaldo\n",
    "   echo \"Copiando archivos...\"\n",
    "   cp *.py respaldo/\n",
    "   echo \"Proceso completado.\"\n",
    "   ```\n",
    "   Esta celda se ejecuta completamente en el entorno de Bash, lo que permite escribir scripts más complejos sin tener que concatenar varias líneas en un solo comando.\n",
    "\n",
    "\n"
   ]
  },
  {
   "cell_type": "markdown",
   "metadata": {},
   "source": [
    "#### Consideraciones sobre la ejecución en subshell y su impacto\n",
    "\n",
    "Una de las sutilezas importantes a tener en cuenta es que cada vez que se usa `!` para ejecutar un comando, se crea una subshell. Esto implica que las variables de entorno, el directorio de trabajo y otros cambios efectuados en esa subshell no afectan al entorno principal del kernel. Por ejemplo:\n",
    "\n",
    "```python\n",
    "!cd /tmp\n",
    "!pwd\n",
    "```\n",
    "\n",
    "La primera línea intenta cambiar el directorio a `/tmp`, pero como se ejecuta en una subshell, cuando se ejecuta la segunda línea, el comando `pwd` mostrará el directorio original del kernel, no `/tmp`. Esto puede ser fuente de confusión para quienes esperan que los cambios sean persistentes. Es por ello que para cambiar el directorio de forma duradera se debe utilizar `%cd`.\n",
    "\n",
    "Asimismo, si se necesita ejecutar una serie de comandos que dependan del estado compartido (por ejemplo, variables de entorno configuradas de forma secuencial), es recomendable agruparlos en una celda usando `%%bash` o emplear comandos mágicos que afecten directamente al kernel.\n",
    "\n",
    "#### Ventajas y limitaciones de usar comandos shell en Jupyter\n",
    "\n",
    "**Ventajas:**\n",
    "\n",
    "- **Interactividad:** Permite ejecutar comandos del sistema sin salir del Notebook, lo que facilita la exploración y la integración de procesos.\n",
    "- **Automatización:** La interpolación de variables facilita la construcción dinámica de comandos, permitiendo automatizar tareas de administración del sistema, manejo de archivos o ejecución de scripts externos.\n",
    "- **Flexibilidad:** Puedes combinar código Python con comandos shell, lo que resulta muy útil en análisis de datos, ya que permite procesar archivos, mover datos, o incluso llamar a herramientas externas de análisis directamente desde el Notebook.\n",
    "\n",
    "**Limitaciones:**\n",
    "\n",
    "- **Subshelled execution:** Como se explicó, la ejecución de comandos con `!` se realiza en subshells, lo que significa que ciertos cambios (como modificar el directorio o definir variables de entorno) no persisten en el kernel.\n",
    "- **Sintaxis mixta:** La mezcla de comandos Python y shell puede confundir a los usuarios nuevos, especialmente cuando se usan sintaxis similares para funciones distintas (por ejemplo, `%cd` frente a `!cd`).\n",
    "- **Depuración:** En ocasiones, los errores en comandos shell pueden ser menos evidentes o difíciles de depurar en comparación con errores en código Python.\n",
    "\n"
   ]
  },
  {
   "cell_type": "markdown",
   "metadata": {},
   "source": [
    "##### Ejercicio 1: Exploración de los comandos mágicos en Windows\n",
    "\n",
    "**Objetivo:**  \n",
    "Familiarizarte con los comandos mágicos de IPython y conocer cuáles están disponibles en tu entorno Windows.\n",
    "\n",
    "**Pasos:**\n",
    "1. En una celda de Jupyter Notebook, escribe y ejecuta:\n",
    "   ```python\n",
    "   %lsmagic\n",
    "   ```\n",
    "2. **Tarea:**\n",
    "   - Observa las secciones **\"Available line magics\"** y **\"Available cell magics\"**.\n",
    "   - Anota tres ejemplos de _line magics_ (por ejemplo, `%pwd`, `%cd`, `%timeit`) y tres ejemplos de _cell magics_ (por ejemplo, `%%time`, `%%writefile`, `%%capture`).\n",
    "   - Comenta en qué situaciones usarías cada uno en Windows.\n",
    "\n",
    "##### Ejercicio 2: Ejecutando comandos del shell en Windows\n",
    "\n",
    "**Objetivo:**  \n",
    "Utilizar comandos del shell propios de Windows directamente desde Jupyter Notebook.\n",
    "\n",
    "**Pasos:**\n",
    "1. En una celda, ejecuta el siguiente comando para listar los archivos y directorios del directorio actual (en Windows se utiliza `dir`):\n",
    "   ```python\n",
    "   !dir\n",
    "   ```\n",
    "2. Ahora, define una variable en Python y pásala a un comando del shell:\n",
    "   ```python\n",
    "   mensaje = \"Bienvenido a Windows con Jupyter Notebook\"\n",
    "   !echo {mensaje}\n",
    "   ```\n",
    "3. **Tarea:**\n",
    "   - Compara la salida de `!dir` con lo que esperarías de un comando similar en Linux (usando `!ls`).\n",
    "   - Explica cómo la interpolación de variables (con `{}`) facilita la integración entre Python y el shell.\n",
    "\n",
    "\n",
    "##### Ejercicio 3: Creación y ejecución de archivos con `%%writefile` y `%run`\n",
    "\n",
    "**Objetivo:**  \n",
    "Crear un script Python en Windows utilizando `%%writefile` y ejecutarlo, aprovechando comandos propios del sistema para visualizar el contenido del archivo.\n",
    "\n",
    "**Pasos:**\n",
    "1. En una celda, escribe el siguiente contenido para crear un archivo llamado `saludo.py`:\n",
    "   ```python\n",
    "   %%writefile saludo.py\n",
    "   def saludar(nombre):\n",
    "       \"\"\"\n",
    "       Función que imprime un saludo personalizado.\n",
    "       \"\"\"\n",
    "       print(\"¡Hola, \" + nombre + \"! Bienvenido a Windows.\")\n",
    "   \n",
    "   if __name__ == \"__main__\":\n",
    "       saludar(\"Usuario\")\n",
    "   ```\n",
    "2. Ejecuta la celda para que se cree el archivo en el directorio actual.\n",
    "3. Visualiza el contenido del archivo utilizando el comando propio de Windows (`type`):\n",
    "   ```python\n",
    "   !type saludo.py\n",
    "   ```\n",
    "4. Ejecuta el script desde el Notebook:\n",
    "   ```python\n",
    "   %run saludo.py\n",
    "   ```\n",
    "5. **Tarea:**\n",
    "   - Verifica que el script se haya ejecutado correctamente.\n",
    "   - Comenta la función de cada parte del código, y explica la diferencia entre `%%writefile` (que escribe en un archivo) y `%run` (que lo ejecuta).\n",
    "\n",
    "##### Ejercicio 4: Cambiar directorios en Windows con `%cd`\n",
    "\n",
    "**Objetivo:**  \n",
    "Entender la diferencia entre ejecutar `!cd` y `%cd` en Windows, y cómo cambiar el directorio de trabajo del kernel.\n",
    "\n",
    "**Pasos:**\n",
    "1. En una celda, intenta ejecutar:\n",
    "   ```python\n",
    "   !cd C:\\Windows\n",
    "   !cd\n",
    "   ```\n",
    "   - Observa que la salida del segundo comando muestra que el directorio de trabajo no ha cambiado (esto ocurre porque cada comando `!` se ejecuta en una subshell).\n",
    "2. Ahora, cambia el directorio de trabajo de forma persistente usando el comando mágico `%cd`:\n",
    "   ```python\n",
    "   %cd C:\\Windows\n",
    "   %pwd\n",
    "   ```\n",
    "3. **Tarea:**\n",
    "   - Anota la diferencia en el comportamiento entre `!cd` y `%cd`.\n",
    "   - Explica por qué `%cd` es el comando adecuado para cambiar el directorio de trabajo de forma permanente en tu sesión.\n",
    "\n",
    "##### Ejercicio 5: Uso de `%%bash` (o `%%cmd`) en Windows\n",
    "\n",
    "**Objetivo:**  \n",
    "Ejecutar múltiples comandos del shell en una misma celda usando un bloque de código. En Windows puedes utilizar `%%bash` si tienes instalado Bash (por ejemplo, a través de Git Bash o el Subsistema de Windows para Linux), o bien `%%cmd` para comandos nativos de Windows.\n",
    "\n",
    "**Pasos (usando %%cmd para comandos nativos de Windows):**\n",
    "1. En una celda, escribe lo siguiente:\n",
    "   ```cmd\n",
    "   %%cmd\n",
    "   echo Creando una carpeta de respaldo...\n",
    "   mkdir respaldo\n",
    "   echo Listando el contenido del directorio actual:\n",
    "   dir\n",
    "   echo Proceso completado.\n",
    "   ```\n",
    "2. Ejecuta la celda y observa la salida, la cual debe mostrar la creación de la carpeta y listar el contenido del directorio.\n",
    "3. **Tarea:**\n",
    "   - Comenta las diferencias que notas al usar `%%cmd` (o `%%bash` si lo tienes disponible) en comparación con el uso de `!` para comandos individuales.\n",
    "   - Reflexiona sobre en qué casos te resultaría más práctico utilizar un bloque de código en lugar de comandos individuales.\n"
   ]
  },
  {
   "cell_type": "markdown",
   "metadata": {
    "deletable": true,
    "editable": true
   },
   "source": [
    "## Lecturas\n",
    "\n",
    "* [The Unix Shell](http://swcarpentry.github.io/shell-novice/).\n",
    "* [Online documentation ipdb](https://github.com/gotcha/ipdb).\n",
    "* [Ipython interactive computing](http://nbviewer.jupyter.org/github/ipython/ipython/blob/4.0.x/examples/IPython%20Kernel/Index.ipynb).\n",
    "* [A gallery of interesting Jupyter Notebooks](https://github.com/jupyter/jupyter/wiki/A-gallery-of-interesting-Jupyter-Notebooks)."
   ]
  }
 ],
 "metadata": {
  "kernelspec": {
   "display_name": "Python 3 (ipykernel)",
   "language": "python",
   "name": "python3"
  },
  "language_info": {
   "codemirror_mode": {
    "name": "ipython",
    "version": 3
   },
   "file_extension": ".py",
   "mimetype": "text/x-python",
   "name": "python",
   "nbconvert_exporter": "python",
   "pygments_lexer": "ipython3",
   "version": "3.12.4"
  }
 },
 "nbformat": 4,
 "nbformat_minor": 4
}

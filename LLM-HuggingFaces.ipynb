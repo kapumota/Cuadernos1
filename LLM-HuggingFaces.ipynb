{
 "cells": [
  {
   "cell_type": "markdown",
   "id": "9ad26d1d",
   "metadata": {},
   "source": [
    "### Hugging Face orientado a LLM\n",
    "\n",
    "1 . Instalación y configuración\n",
    "\n",
    "Para comenzar a trabajar con la biblioteca Hugging Face Transformers, primero debes instalarla junto con sus dependencias. Utiliza pip para instalarlo"
   ]
  },
  {
   "cell_type": "code",
   "execution_count": null,
   "id": "53c16a18",
   "metadata": {},
   "outputs": [],
   "source": [
    "!pip install transformers datasets torch optuna\n"
   ]
  },
  {
   "cell_type": "markdown",
   "id": "d348aa07",
   "metadata": {},
   "source": [
    "2 . Carga y uso de modelos preentrenados\n",
    "\n",
    "Hugging Face ofrece una amplia variedad de modelos preentrenados que puedes cargar y usar fácilmente. \n"
   ]
  },
  {
   "cell_type": "code",
   "execution_count": null,
   "id": "8c380c5f",
   "metadata": {
    "scrolled": true
   },
   "outputs": [],
   "source": [
    "from transformers import AutoTokenizer, AutoModelForCausalLM\n",
    "# Cargar el tokenizador y el modelo GPT-2\n",
    "tokenizer_gpt2 = AutoTokenizer.from_pretrained(\"gpt2\")\n",
    "modelo_gpt2 = AutoModelForCausalLM.from_pretrained(\"gpt2\")\n",
    "\n",
    "# Entrada de texto y generación\n",
    "input_text = \"Once upon a time\"\n",
    "inputs = tokenizer_gpt2(input_text, return_tensors=\"pt\")\n",
    "outputs = modelo_gpt2.generate(\n",
    "    inputs[\"input_ids\"],\n",
    "    attention_mask=inputs[\"attention_mask\"],\n",
    "    max_length=50,\n",
    "    pad_token_id=tokenizer_gpt2.eos_token_id\n",
    ")\n",
    "print(tokenizer_gpt2.decode(outputs[0], skip_special_tokens=True))"
   ]
  },
  {
   "cell_type": "code",
   "execution_count": null,
   "id": "793ddcb6",
   "metadata": {},
   "outputs": [],
   "source": [
    "# Ejemplo de clasificación con BERT\n",
    "# In[5]:\n",
    "from transformers import AutoTokenizer, AutoModelForSequenceClassification\n",
    "\n",
    "model_name = \"bert-base-uncased\"\n",
    "tokenizer_cls = AutoTokenizer.from_pretrained(model_name)\n",
    "# Especificar num_labels=5 para el dataset yelp_review_full (5 clases)\n",
    "modelo_cls = AutoModelForSequenceClassification.from_pretrained(model_name, num_labels=5)"
   ]
  },
  {
   "cell_type": "markdown",
   "id": "de6afa66",
   "metadata": {},
   "source": [
    "3 . Fine-Tuning de modelos\n",
    "\n",
    "Fine-tuning es el proceso de ajustar un modelo preentrenado en un conjunto de datos específico para mejorar su desempeño en una tarea concreta. A continuación se muestra un ejemplo básico de cómo realizar fine-tuning en un conjunto de datos personalizado.\n",
    "\n",
    "**Prepara el conjunto de datos**\n",
    "\n",
    "Para este ejemplo, usaremos un conjunto de datos de Hugging Face Datasets."
   ]
  },
  {
   "cell_type": "code",
   "execution_count": null,
   "id": "53a0f87a",
   "metadata": {},
   "outputs": [],
   "source": [
    "# Cargar el conjunto de datos y preparar el fine-tuning\n",
    "from datasets import load_dataset\n",
    "dataset = load_dataset(\"yelp_review_full\")"
   ]
  },
  {
   "cell_type": "markdown",
   "id": "ba0bd388",
   "metadata": {},
   "source": [
    "**Tokenización del conjunto de datos**\n",
    "Es necesario tokenizar los datos para que el modelo los entienda."
   ]
  },
  {
   "cell_type": "code",
   "execution_count": null,
   "id": "1777844c",
   "metadata": {},
   "outputs": [],
   "source": [
    "# Tokenización del conjunto de datos\n",
    "def tokenize_function(examples):\n",
    "    return tokenizer_cls(examples['text'], padding=\"max_length\", truncation=True)\n",
    "\n",
    "tokenized_datasets = dataset.map(tokenize_function, batched=True)\n"
   ]
  },
  {
   "cell_type": "markdown",
   "id": "3475f6c9",
   "metadata": {},
   "source": [
    "**Dividir el conjunto de datos**\n",
    "\n",
    "Dividimos el conjunto de datos en conjuntos de entrenamiento y validación."
   ]
  },
  {
   "cell_type": "code",
   "execution_count": null,
   "id": "d59856b5",
   "metadata": {},
   "outputs": [],
   "source": [
    "# Dividir en entrenamiento y evaluación\n",
    "train_dataset = tokenized_datasets[\"train\"].shuffle(seed=42).select(range(10000))\n",
    "eval_dataset = tokenized_datasets[\"test\"].shuffle(seed=42).select(range(1000))\n"
   ]
  },
  {
   "cell_type": "markdown",
   "id": "de614f42",
   "metadata": {},
   "source": [
    "**Preparar el modelo para fine-tuning**\n",
    "\n",
    "Cargamos el modelo preentrenado y lo preparamos para la tarea de clasificación de texto."
   ]
  },
  {
   "cell_type": "code",
   "execution_count": null,
   "id": "be6134cc",
   "metadata": {},
   "outputs": [],
   "source": [
    "from transformers import TrainingArguments, Trainer\n",
    "\n",
    "# Configuración del entrenamiento\n",
    "training_args = TrainingArguments(\n",
    "    output_dir=\"./results\",\n",
    "    evaluation_strategy=\"epoch\",\n",
    "    learning_rate=2e-5,\n",
    "    per_device_train_batch_size=16,\n",
    "    per_device_eval_batch_size=16,\n",
    "    num_train_epochs=3,\n",
    "    weight_decay=0.01,\n",
    "    optim=\"adamw_torch\"  # Usar la implementación de AdamW de PyTorch\n",
    ")\n",
    "\n"
   ]
  },
  {
   "cell_type": "markdown",
   "id": "950bc776",
   "metadata": {},
   "source": [
    "**Configurar el entrenamiento**\n",
    "\n",
    "Configuramos los parámetros de entrenamiento y usamos Trainer para entrenar el modelo."
   ]
  },
  {
   "cell_type": "code",
   "execution_count": null,
   "id": "c19d8445",
   "metadata": {},
   "outputs": [],
   "source": [
    "# Configurar el entrenamiento\n",
    "trainer = Trainer(\n",
    "    model=modelo_cls,\n",
    "    args=training_args,\n",
    "    train_dataset=train_dataset,\n",
    "    eval_dataset=eval_dataset,\n",
    ")\n",
    "#Entrenar el modelo de clasificación\n",
    "trainer.train()"
   ]
  },
  {
   "cell_type": "markdown",
   "id": "aea5b4c2",
   "metadata": {},
   "source": [
    "4 . Evaluación del modelo\n",
    "\n",
    "Después del entrenamiento, evaluamos el modelo para ver cómo se desempeña en el conjunto de datos de prueba.\n",
    "\n"
   ]
  },
  {
   "cell_type": "code",
   "execution_count": null,
   "id": "5a052bd7",
   "metadata": {},
   "outputs": [],
   "source": [
    "# Evaluación del modelo\n",
    "eval_results = trainer.evaluate()\n",
    "print(\"Resultados de evaluación:\", eval_results)\n"
   ]
  },
  {
   "cell_type": "markdown",
   "id": "6fa78670",
   "metadata": {},
   "source": [
    "5 . Uso del modelo fine-tuned\n",
    "\n",
    "Finalmente, podemos usar el modelo entrenado para hacer predicciones en nuevos datos."
   ]
  },
  {
   "cell_type": "code",
   "execution_count": null,
   "id": "c790f56b",
   "metadata": {},
   "outputs": [],
   "source": [
    "# Uso del modelo fine-tuned\n",
    "inputs_example = tokenizer_cls(\"Este es un ejemplo.\", return_tensors=\"pt\")\n",
    "outputs_example = modelo_cls(**inputs_example)\n",
    "print(\"Predicción del modelo fine-tuned:\", outputs_example)"
   ]
  },
  {
   "cell_type": "markdown",
   "id": "a9f876cc",
   "metadata": {},
   "source": [
    "6 . Guardado y carga del modelo\n",
    "\n",
    "Es importante guardar el modelo entrenado para su uso futuro. Aquí te mostramos cómo guardar y cargar el modelo."
   ]
  },
  {
   "cell_type": "code",
   "execution_count": null,
   "id": "8556950a",
   "metadata": {},
   "outputs": [],
   "source": [
    "# Guardar el modelo y el tokenizer\n",
    "modelo_cls.save_pretrained(\"./fine_tuned_model\")\n",
    "tokenizer_cls.save_pretrained(\"./fine_tuned_model\")"
   ]
  },
  {
   "cell_type": "markdown",
   "id": "955d8685",
   "metadata": {},
   "source": [
    "**Cargar el modelo**"
   ]
  },
  {
   "cell_type": "code",
   "execution_count": null,
   "id": "14a76e46",
   "metadata": {},
   "outputs": [],
   "source": [
    "# Cargar el modelo y el tokenizer guardados\n",
    "modelo_cls = AutoModelForSequenceClassification.from_pretrained(\"./fine_tuned_model\", num_labels=5)\n",
    "tokenizer_cls = AutoTokenizer.from_pretrained(\"./fine_tuned_model\")"
   ]
  },
  {
   "cell_type": "markdown",
   "id": "0e1c1b07",
   "metadata": {},
   "source": [
    "7 . **Ajuste de hiperparámetros**\n",
    "\n",
    "El ajuste de hiperparámetros puede mejorar significativamente el rendimiento del modelo. Esto implica experimentar con diferentes valores de hiperparámetros como la tasa de aprendizaje, el tamaño del batch, etc.\n",
    "\n",
    "\n",
    "[Optuna](https://optuna.org/) es una biblioteca para la optimización automática de hiperparámetros.\n",
    "\n"
   ]
  },
  {
   "cell_type": "code",
   "execution_count": null,
   "id": "1657ac1b",
   "metadata": {},
   "outputs": [],
   "source": [
    "# 7. Ajuste de hiperparámetros con Optuna\n",
    "import optuna\n",
    "\n",
    "def objective(trial):\n",
    "    learning_rate = trial.suggest_loguniform('learning_rate', 1e-5, 1e-3)\n",
    "    num_train_epochs = trial.suggest_int('num_train_epochs', 1, 5)\n",
    "    \n",
    "    training_args_trial = TrainingArguments(\n",
    "        output_dir=\"./results\",\n",
    "        evaluation_strategy=\"epoch\",\n",
    "        learning_rate=learning_rate,\n",
    "        per_device_train_batch_size=16,\n",
    "        per_device_eval_batch_size=16,\n",
    "        num_train_epochs=num_train_epochs,\n",
    "        weight_decay=0.01,\n",
    "    )\n",
    "    \n",
    "    trainer_trial = Trainer(\n",
    "        model=modelo_cls,\n",
    "        args=training_args_trial,\n",
    "        train_dataset=train_dataset,\n",
    "        eval_dataset=eval_dataset,\n",
    "    )\n",
    "    \n",
    "    trainer_trial.train()\n",
    "    eval_results = trainer_trial.evaluate()\n",
    "    return eval_results['eval_loss']\n",
    "\n",
    "study = optuna.create_study(direction=\"minimize\")\n",
    "study.optimize(objective, n_trials=10)\n",
    "print(\"Mejores hiperparámetros:\", study.best_params)"
   ]
  },
  {
   "cell_type": "markdown",
   "id": "5713ac19-eb37-4a4f-817d-d3089ef922af",
   "metadata": {},
   "source": [
    "### Ejercicios\n",
    "\n",
    "\n",
    "#### Ejercicio 1: Cambiar el modelo de generación de texto\n",
    "\n",
    "- **Objetivo:** Modificar el ejemplo de generación de texto para utilizar un modelo distinto, por ejemplo, `\"EleutherAI/gpt-neo-125M\"`.\n",
    "- **Pasos sugeridos:**\n",
    "  - Reemplaza la carga de `gpt2` por el modelo `gpt-neo-125M`.\n",
    "  - Ajusta el parámetro `max_length` y experimenta con diferentes longitudes de salida.\n",
    "  - Prueba distintas frases de entrada y analiza la coherencia y creatividad de las respuestas.\n",
    "- **Puntos a considerar:**  \n",
    "  - ¿Cómo afecta el cambio de modelo a la calidad de la generación?\n",
    "  - ¿Qué diferencias encuentras en cuanto a tiempos de respuesta y uso de memoria?\n",
    "\n",
    "#### Ejercicio 2: Implementar un pipeline de análisis de sentimientos\n",
    "\n",
    "- **Objetivo:** Usar la API de `pipeline` de Hugging Face para crear un sistema de análisis de sentimientos.\n",
    "- **Pasos sugeridos:**\n",
    "  - Utiliza `from transformers import pipeline` para cargar el pipeline de `\"sentiment-analysis\"`.\n",
    "  - Crea una lista de textos en español (o en el idioma que prefieras) y pásalos al pipeline.\n",
    "  - Muestra y analiza los resultados obtenidos, comparándolos con casos esperados.\n",
    "- **Extensión:**  \n",
    "  - Integra una interfaz simple en consola o web para que el usuario pueda ingresar su propio texto y recibir el análisis de sentimiento.\n",
    "\n",
    "#### Ejercicio 3: Crear un sistema RAG para preguntas y respuestas\n",
    "\n",
    "- **Objetivo:** Implementar un sistema de generación de respuestas usando Retrieval Augmented Generation (RAG).\n",
    "- **Pasos sugeridos:**\n",
    "  - Investiga y utiliza un modelo RAG preentrenado, por ejemplo, `\"facebook/rag-token-base\"` o `\"facebook/rag-sequence-base\"`.\n",
    "  - Prepara un pequeño corpus de documentos (pueden ser textos almacenados localmente o extraídos de alguna fuente) que sirvan como base de conocimiento.\n",
    "  - Diseña un flujo en el que, dado un prompt o pregunta, se recupere información relevante del corpus y se combine con la generación del modelo.\n",
    "- **Puntos a considerar:**  \n",
    "  - ¿Cómo afecta la calidad del corpus a la respuesta final?\n",
    "  - ¿Qué mejoras se podrían hacer en la fase de recuperación (retrieval) para optimizar el sistema?\n",
    "\n",
    "#### Ejercicio 4: Fine-tuning de un modelo para clasificación de texto en otro dominio\n",
    "\n",
    "- **Objetivo:** Realizar fine-tuning de un modelo preentrenado (por ejemplo, BERT) para una tarea de clasificación en un dominio distinto al de Yelp.\n",
    "- **Pasos sugeridos:**\n",
    "  - Escoge otro dataset (por ejemplo, de reseñas de productos, noticias, etc.) y carga los datos usando `load_dataset` de Hugging Face.\n",
    "  - Adapta la función de tokenización según las características del nuevo dataset.\n",
    "  - Divide el dataset en conjuntos de entrenamiento y validación.\n",
    "  - Configura y entrena el modelo utilizando `Trainer`.\n",
    "  - Evalúa el rendimiento del modelo y discute posibles mejoras.\n",
    "- **Extensión:**  \n",
    "  - Compara el desempeño de distintos modelos preentrenados (por ejemplo, BERT vs. RoBERTa) en la misma tarea.\n",
    "\n",
    "#### Ejercicio 5: Optimización de hiperparámetros con Optuna\n",
    "\n",
    "- **Objetivo:** Aplicar técnicas de ajuste de hiperparámetros para mejorar el rendimiento del modelo de clasificación.\n",
    "- **Pasos sugeridos:**\n",
    "  - Define un espacio de búsqueda para parámetros como la tasa de aprendizaje (`learning_rate`), el número de épocas (`num_train_epochs`), tamaño del batch, etc.\n",
    "  - Modifica la función `objective` para que entrene el modelo con distintos conjuntos de hiperparámetros y devuelva la métrica de evaluación (por ejemplo, `eval_loss`).\n",
    "  - Ejecuta la optimización con un número determinado de pruebas (`n_trials`).\n",
    "  - Analiza los mejores hiperparámetros encontrados y discute por qué podrían ser óptimos para el problema.\n",
    "- **Puntos a considerar:**  \n",
    "  - ¿Cómo influye el número de trials en el resultado final?\n",
    "  - ¿Qué estrategias podrías implementar para acelerar el proceso de optimización?\n",
    "\n",
    "#### Ejercicio 6: Crear una aplicación interactiva con un pipeline LLM\n",
    "\n",
    "- **Objetivo:** Desarrollar una aplicación sencilla (por ejemplo, utilizando Streamlit o Flask) que utilice un pipeline de generación de texto para simular un chatbot o asistente interactivo.\n",
    "- **Pasos sugeridos:**\n",
    "  - Crea una interfaz web donde el usuario pueda escribir un prompt.\n",
    "  - Utiliza el pipeline de `\"text-generation\"` para generar una respuesta en tiempo real.\n",
    "  - Añade funcionalidades como el historial de conversación o ajustes dinámicos (por ejemplo, ajustar `max_length` o la temperatura del muestreo).\n",
    "- **Extensión:**  \n",
    "  - Integra opciones para cambiar el modelo de generación y compara las respuestas entre distintos modelos.\n"
   ]
  },
  {
   "cell_type": "code",
   "execution_count": null,
   "id": "43b27310-7dd4-48e1-95e6-f3e5b54576fd",
   "metadata": {},
   "outputs": [],
   "source": [
    "## Tus respuestas"
   ]
  }
 ],
 "metadata": {
  "kernelspec": {
   "display_name": "Python 3 (ipykernel)",
   "language": "python",
   "name": "python3"
  },
  "language_info": {
   "codemirror_mode": {
    "name": "ipython",
    "version": 3
   },
   "file_extension": ".py",
   "mimetype": "text/x-python",
   "name": "python",
   "nbconvert_exporter": "python",
   "pygments_lexer": "ipython3",
   "version": "3.12.4"
  }
 },
 "nbformat": 4,
 "nbformat_minor": 5
}

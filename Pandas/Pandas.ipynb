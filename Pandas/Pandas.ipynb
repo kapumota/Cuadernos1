{
 "cells": [
  {
   "cell_type": "markdown",
   "metadata": {
    "id": "raUVz0R49bqt"
   },
   "source": [
    "## Pandas\n",
    "**Pandas** es una biblioteca de Python de código abierto que provee estructuras de datos y herramientas de análisis de datos de alto rendimiento y fáciles de usar. Fue diseñada para facilitar el trabajo con datos etiquetados o relacionales, lo que la convierte en una herramienta muy poderosa para tareas de análisis, limpieza y visualización de datos. Al estar construida sobre NumPy, Pandas hereda un rendimiento elevado y la capacidad de trabajar con grandes volúmenes de datos de manera eficiente.\n",
    "\n",
    "La principal ventaja de Pandas es la simplicidad con la que permite transformar datos en estructuras flexibles, realizar análisis estadísticos y conectar con otras librerías de Python, como Matplotlib para visualización y SciPy para análisis numérico.\n",
    "\n",
    "#### Serie\n",
    "\n",
    "Una **Serie** es un objeto unidimensional que se asemeja a una columna en una hoja de cálculo o a un campo en una base de datos. Cada elemento de la serie posee un índice, el cual por defecto es un rango numérico `(0, 1, 2,...)` si no se especifica de otra manera. Esto permite acceder a los elementos de la serie tanto por su posición como por su etiqueta."
   ]
  },
  {
   "cell_type": "code",
   "execution_count": null,
   "metadata": {
    "id": "_6Ivxpg87Xpu"
   },
   "outputs": [],
   "source": [
    "import pandas as pd\n",
    "import numpy as np\n",
    "import matplotlib.pyplot as plt"
   ]
  },
  {
   "cell_type": "code",
   "execution_count": null,
   "metadata": {
    "colab": {
     "base_uri": "https://localhost:8080/"
    },
    "id": "El1ASrOeAMve",
    "outputId": "7fcd603b-609a-426a-e6ca-d97fb3e9450f"
   },
   "outputs": [],
   "source": [
    "s = pd.Series([1,3,4,np.nan, 5, 6], index = ['A', 'B', 'C', 'D', 'E', 'F'])\n",
    "print(s)"
   ]
  },
  {
   "cell_type": "markdown",
   "metadata": {
    "id": "1V0ty8qDAwC8"
   },
   "source": [
    "Otra forma de crear una Serie es utilizando un diccionario, en cuyo caso las claves se transforman en etiquetas del índice:"
   ]
  },
  {
   "cell_type": "code",
   "execution_count": null,
   "metadata": {
    "colab": {
     "base_uri": "https://localhost:8080/"
    },
    "id": "Gavd17DGAgfV",
    "outputId": "674a6168-f565-4cfa-e9e4-40d8eb92a3b0"
   },
   "outputs": [],
   "source": [
    "dict_ejemplo = {'A': 1, 'B': 2, 'C': 3, 'D': np.nan, 'E': 5, 'F': 6}\n",
    "s = pd.Series(dict_ejemplo)\n",
    "print(s)"
   ]
  },
  {
   "cell_type": "markdown",
   "metadata": {
    "id": "khVQ3e1FBrPA"
   },
   "source": [
    "### DataFrame\n",
    "El **DataFrame** es la estructura de datos central en Pandas. Se trata de un objeto bidimensional similar a una tabla de una base de datos o a una hoja de cálculo. Los DataFrames permiten almacenar datos en filas y columnas, facilitando operaciones complejas de análisis, limpieza y manipulación de datos. \n"
   ]
  },
  {
   "cell_type": "code",
   "execution_count": null,
   "metadata": {
    "colab": {
     "base_uri": "https://localhost:8080/",
     "height": 143
    },
    "id": "HEEaxqFvBZeK",
    "outputId": "65b9b79e-718e-4df3-95df-87894a5ea39d"
   },
   "outputs": [],
   "source": [
    "data = {'Genero': ['F', 'M', 'M'],\n",
    "        'Emp_ID': ['E01', 'E02', 'E03'],\n",
    "        'Edad': [25, 27, 25]}\n",
    "# Si queremos el orden de las columnas, especificamos en el parametro columns\n",
    "df = pd.DataFrame(data, columns=['Emp_ID', 'Genero', 'Edad'])\n",
    "df "
   ]
  },
  {
   "cell_type": "markdown",
   "metadata": {
    "id": "VJvTVteQCuY6"
   },
   "source": [
    "#### Lectura y escritura de datos \n",
    "\n",
    "Veremos tres formatos de archivo de uso común: csv, archivo de texto y Excel. "
   ]
  },
  {
   "cell_type": "code",
   "execution_count": null,
   "metadata": {
    "colab": {
     "base_uri": "https://localhost:8080/",
     "height": 206
    },
    "id": "XCMbYN2TEmXV",
    "outputId": "6a4a97ea-cef8-40eb-fb99-af263f5bc991"
   },
   "outputs": [],
   "source": [
    "# Leyendo desde un archivo csv\n",
    "df=pd.read_csv('Data/mtcars.csv')\n",
    "df.head()"
   ]
  },
  {
   "cell_type": "code",
   "execution_count": null,
   "metadata": {
    "id": "4JoGt04EE_vr"
   },
   "outputs": [],
   "source": [
    "# Escribir un csv\n",
    "#Al usar `index=False` se evita que los índices se escriban en el archivo CSV.\n",
    "\n",
    "df.to_csv('Data/mtcars_nuevo.csv', index=False)"
   ]
  },
  {
   "cell_type": "markdown",
   "metadata": {},
   "source": [
    "Cuando se trabaja con archivos de texto que utilizan delimitadores diferentes (por ejemplo, tabuladores), se puede especificar el separador:\n"
   ]
  },
  {
   "cell_type": "code",
   "execution_count": null,
   "metadata": {
    "id": "YoHlMIShFRCt"
   },
   "outputs": [],
   "source": [
    "# Leyendo desde un archivo .txt\n",
    "df=pd.read_csv('Data/mtcars.txt', sep='\\t')\n",
    "df.to_csv('Data/mtcars_nuevo.txt', sep='\\t', index=False)"
   ]
  },
  {
   "cell_type": "markdown",
   "metadata": {},
   "source": [
    "Pandas permite leer y escribir hojas de cálculo Excel:"
   ]
  },
  {
   "cell_type": "code",
   "execution_count": null,
   "metadata": {
    "id": "e3Msn077GtuI"
   },
   "outputs": [],
   "source": [
    "# Leyendo un archivo Excel\n",
    "df=pd.read_excel('Data/mtcars.xlsx','Sheet2')\n",
    "df.to_excel('Data/mtcars_nuevo.xlsx',sheet_name='Sheet1', index = False)"
   ]
  },
  {
   "cell_type": "markdown",
   "metadata": {
    "id": "xWCcg3JGI0NR"
   },
   "source": [
    "### Resumen de estadísticas básicas\n",
    "\n",
    "Una de las ventajas de Pandas es la facilidad para obtener una visión rápida de los datos mediante funciones estadísticas. La función `describe()` genera un resumen que incluye la media, la desviación estándar, el valor mínimo, los percentiles (cuartiles) y el valor máximo para cada columna numérica.\n"
   ]
  },
  {
   "cell_type": "code",
   "execution_count": null,
   "metadata": {
    "colab": {
     "base_uri": "https://localhost:8080/",
     "height": 300
    },
    "id": "54NqMh47HBCZ",
    "outputId": "d1721cbb-6abb-49b5-a93e-c72b4fcc0c9a"
   },
   "outputs": [],
   "source": [
    "df = pd.read_csv('Data/iris.csv')\n",
    "df.describe()"
   ]
  },
  {
   "cell_type": "markdown",
   "metadata": {},
   "source": [
    "Este método es especialmente útil para tener un primer acercamiento a la distribución y características de los datos."
   ]
  },
  {
   "cell_type": "markdown",
   "metadata": {
    "id": "wkI0064bJHE0"
   },
   "source": [
    "#### Covarianza y correlacion\n",
    "\n",
    "Pandas permite calcular matrices de covarianza y correlación, que son fundamentales para entender las relaciones entre variables.\n"
   ]
  },
  {
   "cell_type": "code",
   "execution_count": null,
   "metadata": {
    "colab": {
     "base_uri": "https://localhost:8080/",
     "height": 175
    },
    "id": "GlwA10C4JAyU",
    "outputId": "2434b2de-96b4-4a9a-9d0e-38c7e865d22b"
   },
   "outputs": [],
   "source": [
    "# covarianza: devuelve la covarianza entre columnas adecuadas \n",
    "#df.cov()\n",
    "\n",
    "# Selecciona solo columnas numericas\n",
    "df_numeric = df.select_dtypes(include=['number'])\n",
    "\n",
    "# Calculamos la matriz de covarianza\n",
    "cov_matrix = df_numeric.cov()\n",
    "\n",
    "# Calculamos la matriz de correlación\n",
    "corr_matrix = df_numeric.corr()\n",
    "\n",
    "# Mostrar resultados\n",
    "print(\"Matriz de Covarianza:\")\n",
    "print(cov_matrix)\n",
    "\n",
    "print(\"\\nMatriz de Correlación:\")\n",
    "print(corr_matrix)\n"
   ]
  },
  {
   "cell_type": "markdown",
   "metadata": {
    "id": "J64xxx5-Lk5t"
   },
   "source": [
    "#### Visualización y exploración de datos\n",
    "\n",
    "Pandas integra funciones que facilitan la exploración de un DataFrame:\n",
    "\n",
    "- **Visualización de registros**:  \n",
    "  - `df.head(n=2)`: Muestra los primeros `n` registros (por defecto 5 si no se especifica).\n",
    "  - `df.tail()`: Muestra los últimos registros.\n",
    "\n",
    "- **Información del DataFrame**:\n",
    "  - `df.columns`: Devuelve los nombres de las columnas.\n",
    "  - `df.dtypes`: Muestra el tipo de datos de cada columna.\n",
    "  - `df.index`: Devuelve el índice del DataFrame.\n",
    "\n",
    "- **Valores y ordenamiento**:\n",
    "  - `df.values`: Devuelve los valores del DataFrame en forma de array.\n",
    "  - `df.sort_values(by=['Column1', 'Column2'], ascending=[True, True])`: Ordena el DataFrame según una o varias columnas.\n",
    "\n",
    "- **Selección de datos por columna o posición**:\n",
    "  - Acceso a una columna: `df['column_name']`.\n",
    "  - Acceso a filas por rango: `df[0:3]`."
   ]
  },
  {
   "cell_type": "code",
   "execution_count": null,
   "metadata": {
    "colab": {
     "base_uri": "https://localhost:8080/",
     "height": 112
    },
    "id": "pOtTELEsLAfx",
    "outputId": "01c10e1f-9aa1-4bd9-ab5d-83483df3ab18"
   },
   "outputs": [],
   "source": [
    "df.head(n=2)"
   ]
  },
  {
   "cell_type": "code",
   "execution_count": null,
   "metadata": {
    "colab": {
     "base_uri": "https://localhost:8080/",
     "height": 206
    },
    "id": "ivOb0oSYSGby",
    "outputId": "faca40ae-7cda-47f4-d756-2eab423bbdc8"
   },
   "outputs": [],
   "source": [
    "df.tail()"
   ]
  },
  {
   "cell_type": "code",
   "execution_count": null,
   "metadata": {
    "colab": {
     "base_uri": "https://localhost:8080/"
    },
    "id": "EEpn-I5jSIca",
    "outputId": "16dbc588-c832-4a25-b6b1-78e3bdbffc58"
   },
   "outputs": [],
   "source": [
    "df.dtypes"
   ]
  },
  {
   "cell_type": "code",
   "execution_count": null,
   "metadata": {
    "colab": {
     "base_uri": "https://localhost:8080/"
    },
    "id": "3CmE078qSKRN",
    "outputId": "a1437171-f192-4c85-fe6c-864c143adaa1"
   },
   "outputs": [],
   "source": [
    "print (\"Nombres de las columnas:\" , df.columns)"
   ]
  },
  {
   "cell_type": "code",
   "execution_count": null,
   "metadata": {
    "colab": {
     "base_uri": "https://localhost:8080/"
    },
    "id": "b5jc_HiMTKJe",
    "outputId": "06157105-7b7b-466a-e67c-362978899a80"
   },
   "outputs": [],
   "source": [
    "print (\"Indice del DataFrame : \", df.index)"
   ]
  },
  {
   "cell_type": "code",
   "execution_count": null,
   "metadata": {
    "colab": {
     "base_uri": "https://localhost:8080/"
    },
    "id": "8otEGZaxUBcN",
    "outputId": "e30c0004-0ddf-4283-bbe4-44a431930944"
   },
   "outputs": [],
   "source": [
    "#print(df.values)"
   ]
  },
  {
   "cell_type": "code",
   "execution_count": null,
   "metadata": {
    "colab": {
     "base_uri": "https://localhost:8080/"
    },
    "id": "0skr4dyrTfPs",
    "outputId": "1e37fc76-af2a-49a8-c414-ddc63d18d080"
   },
   "outputs": [],
   "source": [
    "# Valores para una especifica columna\n",
    "print(df['Sepal.Length'].values)"
   ]
  },
  {
   "cell_type": "code",
   "execution_count": null,
   "metadata": {
    "colab": {
     "base_uri": "https://localhost:8080/"
    },
    "id": "drI7C2qEUJTc",
    "outputId": "5fe8cff0-2141-42d6-ac5a-f3413954278b"
   },
   "outputs": [],
   "source": [
    "df['Species'].unique()"
   ]
  },
  {
   "cell_type": "code",
   "execution_count": null,
   "metadata": {
    "colab": {
     "base_uri": "https://localhost:8080/"
    },
    "id": "otBu5HVWUamB",
    "outputId": "e5d404c8-1eee-45df-a4cb-5a83e327f275"
   },
   "outputs": [],
   "source": [
    "df['Sepal.Length'].unique()"
   ]
  },
  {
   "cell_type": "code",
   "execution_count": null,
   "metadata": {
    "colab": {
     "base_uri": "https://localhost:8080/",
     "height": 424
    },
    "id": "Yx8vBzDOUdym",
    "outputId": "70125eb1-5dae-44f3-b47a-25085a9006e7"
   },
   "outputs": [],
   "source": [
    "df.sort_values(by = ['Species', 'Sepal.Length'], ascending=[True, True])"
   ]
  },
  {
   "cell_type": "code",
   "execution_count": null,
   "metadata": {
    "colab": {
     "base_uri": "https://localhost:8080/"
    },
    "id": "tcHUx3W8U7PT",
    "outputId": "fa30e0b0-29db-4b98-ebdf-5305316050f1"
   },
   "outputs": [],
   "source": [
    "df['Species']"
   ]
  },
  {
   "cell_type": "code",
   "execution_count": null,
   "metadata": {
    "colab": {
     "base_uri": "https://localhost:8080/",
     "height": 143
    },
    "id": "o5lOhc1sVNhu",
    "outputId": "c8eceeb8-7fd2-4669-d444-d45cc048ae2c"
   },
   "outputs": [],
   "source": [
    "df[0:3]"
   ]
  },
  {
   "cell_type": "markdown",
   "metadata": {
    "id": "2mf3Je9gYpeV"
   },
   "source": [
    "#### Selección y filtrado de datos: loc, iloc,iat\n",
    "\n",
    "Una de las características más potentes de Pandas es la capacidad para seleccionar y filtrar datos de manera eficiente. Se utilizan distintos métodos que varían en función de si se quiere acceder a datos por etiquetas o por posiciones numéricas.\n",
    "\n",
    "##### **loc**\n",
    "\n",
    "El método `loc` se basa en **etiquetas**. Es decir, se accede a los datos mediante las etiquetas de los índices y de las columnas. Es ideal cuando se quiere seleccionar datos específicos por sus nombres o rangos de etiquetas.\n",
    "\n",
    "**Ejemplos:**\n",
    "\n",
    "```python\n",
    "# Selección por etiquetas en el índice (incluye el último valor)\n",
    "print(df.loc[0:3])\n",
    "\n",
    "# Selección de filas y columnas específicas utilizando etiquetas\n",
    "print(df.loc[0:3, ['Species', 'Petal.Width']])\n",
    "```\n",
    "\n",
    "En estos ejemplos:\n",
    "- `df.loc[0:3]` selecciona las filas cuyo índice está entre 0 y 3 (inclusivo).\n",
    "- Al pasar una lista de nombres de columnas, se limita la selección solo a las columnas indicadas.\n",
    "\n",
    "##### **iloc**\n",
    "\n",
    "El método `iloc` se basa en la **posición** (índices numéricos) de los elementos en el DataFrame. Es útil cuando se conoce la posición exacta de las filas o columnas que se desean obtener."
   ]
  },
  {
   "cell_type": "code",
   "execution_count": null,
   "metadata": {
    "colab": {
     "base_uri": "https://localhost:8080/"
    },
    "id": "JwEqIFd4VbD1",
    "outputId": "396eb8ac-9def-46ad-928b-3cfe650c0419"
   },
   "outputs": [],
   "source": [
    "# Selección por etiquetas en el índice (incluye el último valor)\n",
    "print(df.loc[0:3])"
   ]
  },
  {
   "cell_type": "code",
   "execution_count": null,
   "metadata": {
    "colab": {
     "base_uri": "https://localhost:8080/"
    },
    "id": "TeK51S8mZC8_",
    "outputId": "33e5dc5e-2733-48f5-d708-9109f9d54b0b"
   },
   "outputs": [],
   "source": [
    "# Selección de filas y columnas específicas utilizando etiquetas\n",
    "print(df.loc[0:3, ['Species', 'Petal.Width']])"
   ]
  },
  {
   "cell_type": "code",
   "execution_count": null,
   "metadata": {
    "colab": {
     "base_uri": "https://localhost:8080/"
    },
    "id": "p0mFC9yxZxLg",
    "outputId": "dd968a8f-b8b2-48f8-dea4-a25e39c0c04d"
   },
   "outputs": [],
   "source": [
    "# Selección por posición de filas (las dos primeras)\n",
    "print(df.iloc[0:2])"
   ]
  },
  {
   "cell_type": "code",
   "execution_count": null,
   "metadata": {
    "colab": {
     "base_uri": "https://localhost:8080/",
     "height": 112
    },
    "id": "MT1DK0AcaAbH",
    "outputId": "53e4719e-c5c6-47d8-8807-1d7f82376184"
   },
   "outputs": [],
   "source": [
    "# Selección por posición específica: las filas 0 y 1, y columnas 0 y 1\n",
    "df.iloc[0:2, 0:2]"
   ]
  },
  {
   "cell_type": "markdown",
   "metadata": {},
   "source": [
    "#### Transformación y reorganización: Reshape\n",
    "\n",
    "El término **reshape** se refiere al proceso de transformar la forma (dimensiones) de un array o DataFrame. En el contexto de Pandas (y NumPy, sobre el cual se basa Pandas), reshaping es fundamental cuando se necesita reorganizar los datos para análisis, visualización o para alimentar otros algoritmos.\n",
    "\n",
    "Aunque en el ejemplo proporcionado no se muestra un uso directo de una función llamada `reshape`, en NumPy y Pandas existen funciones y métodos que permiten cambiar la forma de los datos. Por ejemplo:\n",
    "\n",
    "- **NumPy reshape**: Si tenemos un array de NumPy, podemos cambiar su forma de la siguiente manera:"
   ]
  },
  {
   "cell_type": "code",
   "execution_count": null,
   "metadata": {},
   "outputs": [],
   "source": [
    "import numpy as np\n",
    "array = np.array([1, 2, 3, 4, 5, 6])\n",
    "array_reshaped = array.reshape((2, 3))\n",
    "print(array_reshaped)"
   ]
  },
  {
   "cell_type": "markdown",
   "metadata": {},
   "source": [
    "Este código transforma un array unidimensional de 6 elementos en una matriz 2x3."
   ]
  },
  {
   "cell_type": "markdown",
   "metadata": {},
   "source": [
    "- **Pivot, melt y stack/unstack en Pandas**:\n",
    "  \n",
    "En Pandas, las funciones `pivot()`, `melt()`, `stack()` y `unstack()` son herramientas muy potentes para realizar operaciones de reshape en DataFrames. Por ejemplo:\n",
    "  \n",
    "**Pivot**: Se utiliza para reorganizar los datos de manera que se transforme una columna en múltiples columnas.  \n",
    "**Melt**: Realiza el proceso inverso, es decir, transforma columnas en filas para lograr una forma “larga” de los datos.\n",
    "  \n",
    "**Ejemplo con melt:**"
   ]
  },
  {
   "cell_type": "code",
   "execution_count": null,
   "metadata": {},
   "outputs": [],
   "source": [
    "data = {\n",
    "      'ID': [1, 2, 3],\n",
    "      'A': [10, 20, 30],\n",
    "      'B': [40, 50, 60]\n",
    "  }\n",
    "df1 = pd.DataFrame(data)\n",
    "print(\"DataFrame original:\")\n",
    "print(df1)\n",
    "  \n",
    "# Convertir columnas A y B en variables, creando un DataFrame en formato largo.\n",
    "df_melted = pd.melt(df1, id_vars=['ID'], value_vars=['A', 'B'], var_name='Variable', value_name='Valor')\n",
    "print(\"\\nDataFrame tras aplicar melt:\")\n",
    "print(df_melted)"
   ]
  },
  {
   "cell_type": "markdown",
   "metadata": {},
   "source": [
    "Este ejemplo ilustra cómo transformar un DataFrame que tiene dos columnas de variables (A y B) en una estructura larga en la que cada fila corresponde a un valor asociado a una variable específica.\n",
    "  \n",
    "- **Stack y Unstack**:  \n",
    "Estos métodos permiten pivotar el nivel de los índices de un DataFrame.  \n",
    "\n",
    "- `stack()` “apila” las columnas en un único nivel de índice, transformando el DataFrame de ancho a largo.  \n",
    "- `unstack()` realiza la operación inversa, sacando un nivel del índice y convirtiéndolo en columnas.\n",
    "  \n",
    "**Ejemplo sencillo:**"
   ]
  },
  {
   "cell_type": "code",
   "execution_count": null,
   "metadata": {},
   "outputs": [],
   "source": [
    "df2 = pd.DataFrame({\n",
    "      'A': [1, 2],\n",
    "      'B': [3, 4]\n",
    "  }, index=['X', 'Y'])\n",
    "  \n",
    "print(\"DataFrame original:\")\n",
    "print(df2)\n",
    "  \n",
    "print(\"\\nDataFrame tras aplicar stack:\")\n",
    "print(df2.stack())\n",
    "  \n",
    "# Si se aplica unstack, se vuelve a la forma original.\n",
    "print(\"\\nDataFrame tras aplicar unstack:\")\n",
    "print(df2.stack().unstack())"
   ]
  },
  {
   "cell_type": "markdown",
   "metadata": {},
   "source": [
    "Estas herramientas de reshaping son esenciales cuando se trabaja con datos en diferentes formatos y se requiere adaptarlos para análisis específicos o para la visualización."
   ]
  },
  {
   "cell_type": "markdown",
   "metadata": {},
   "source": [
    "#### Más sobre loc, iloc, iat\n",
    "\n",
    "El método `iloc` se basa en la posición entera de las filas y columnas (índice basado en 0). Esto significa que para acceder a datos se utilizan números en lugar de las etiquetas de los índices o nombres de columnas."
   ]
  },
  {
   "cell_type": "code",
   "execution_count": null,
   "metadata": {
    "scrolled": true
   },
   "outputs": [],
   "source": [
    "# selección por posicion entre numeros de fila especificos dados\n",
    "df = pd.read_csv('Data/iris.csv')\n",
    "df.iloc[[1, 2, 4], [0, 2]]\n"
   ]
  },
  {
   "cell_type": "markdown",
   "metadata": {},
   "source": [
    "Supongamos el siguiente DataFrame:"
   ]
  },
  {
   "cell_type": "code",
   "execution_count": null,
   "metadata": {
    "scrolled": true
   },
   "outputs": [],
   "source": [
    "import pandas as pd\n",
    "\n",
    "data = {\n",
    "    'Nombre': ['Ana', 'Luis', 'Carlos', 'Marta', 'Elena', 'Juan'],\n",
    "    'Edad': [23, 35, 45, 29, 40, 33],\n",
    "    'Ciudad': ['Madrid', 'Barcelona', 'Valencia', 'Sevilla', 'Bilbao', 'Zaragoza']\n",
    "}\n",
    "df3 = pd.DataFrame(data)\n",
    "print(df3.iloc[[1, 2, 4], [0, 2]])\n"
   ]
  },
  {
   "cell_type": "markdown",
   "metadata": {},
   "source": [
    "##### Acceso a un valor escalar con iat\n",
    "\n",
    "El método `iat` está optimizado para extraer un único valor del DataFrame de manera rápida. Es muy similar a `iloc`, pero se utiliza cuando se sabe que se quiere obtener un solo elemento (una celda).\n"
   ]
  },
  {
   "cell_type": "code",
   "execution_count": null,
   "metadata": {},
   "outputs": [],
   "source": [
    "# obtener valores escalares. es un iloc muy rapido \n",
    "print(df.iat[1,1]) \n"
   ]
  },
  {
   "cell_type": "markdown",
   "metadata": {},
   "source": [
    "Aunque `iat` es ideal para valores escalares, se puede usar `iloc` para obtener el mismo resultado. La diferencia es que `iloc` devuelve un DataFrame o una Serie, dependiendo del slicing."
   ]
  },
  {
   "cell_type": "code",
   "execution_count": null,
   "metadata": {
    "colab": {
     "base_uri": "https://localhost:8080/"
    },
    "id": "dA-ID00IbrvM",
    "outputId": "fe33a126-085a-4617-b143-4cbdf592b698",
    "scrolled": true
   },
   "outputs": [],
   "source": [
    "# Obtencion de datos sin que este en el indice \n",
    "print(df.iloc[1,1])"
   ]
  },
  {
   "cell_type": "markdown",
   "metadata": {},
   "source": [
    "Se puede seleccionar una columna completa utilizando el operador `:` en el índice de filas y especificando la posición de la columna deseada."
   ]
  },
  {
   "cell_type": "code",
   "execution_count": null,
   "metadata": {
    "colab": {
     "base_uri": "https://localhost:8080/"
    },
    "id": "xCBzTNf7cGQ8",
    "outputId": "a316b12d-2a24-4c85-ca3f-56f175004b24",
    "scrolled": true
   },
   "outputs": [],
   "source": [
    "# selecciona columnas por posicion\n",
    "print (df.iloc[:, 2]) "
   ]
  },
  {
   "cell_type": "markdown",
   "metadata": {},
   "source": [
    "La transposición de un DataFrame se obtiene con el atributo `.T`. Esto invierte filas por columnas."
   ]
  },
  {
   "cell_type": "code",
   "execution_count": null,
   "metadata": {
    "colab": {
     "base_uri": "https://localhost:8080/",
     "height": 300
    },
    "id": "D3D7ufT-cO9h",
    "outputId": "3cd25b1c-2869-4257-a215-5a207d548fb8",
    "scrolled": true
   },
   "outputs": [],
   "source": [
    "# Transpuesta\n",
    "df.T"
   ]
  },
  {
   "cell_type": "markdown",
   "metadata": {},
   "source": [
    "**Ejemplo adicional:**\n",
    "\n",
    "Si el DataFrame original es:\n",
    "\n",
    "```\n",
    "    Nombre   Edad     Ciudad\n",
    "0      Ana    23     Madrid\n",
    "1     Luis    35  Barcelona\n",
    "2   Carlos    45   Valencia\n",
    "```\n",
    "\n",
    "Su transposición (`df.T`) resultará en:\n",
    "\n",
    "```\n",
    "              0         1         2\n",
    "Nombre       Ana      Luis    Carlos\n",
    "Edad          23       35        45\n",
    "Ciudad    Madrid  Barcelona  Valencia\n",
    "```"
   ]
  },
  {
   "cell_type": "markdown",
   "metadata": {
    "id": "0gQUrpJYccGh"
   },
   "source": [
    "#### Indexado Booleano\n",
    "El indexado booleano permite filtrar filas de un DataFrame basándose en condiciones lógicas."
   ]
  },
  {
   "cell_type": "code",
   "execution_count": null,
   "metadata": {
    "colab": {
     "base_uri": "https://localhost:8080/",
     "height": 238
    },
    "id": "TSG2V1r1cTkl",
    "outputId": "8c82ba99-ad2c-423e-8297-2825f1a44069"
   },
   "outputs": [],
   "source": [
    "#Filtrado según condición\n",
    "df[df['Sepal.Length'] > 7.5]"
   ]
  },
  {
   "cell_type": "code",
   "execution_count": null,
   "metadata": {
    "colab": {
     "base_uri": "https://localhost:8080/",
     "height": 424
    },
    "id": "Wof7vEMMcm7D",
    "outputId": "60d284ba-ff25-4077-fe2c-2bc5dc3cdb44"
   },
   "outputs": [],
   "source": [
    "# Filtrado utilizando isin()\n",
    "df[df['Species'].isin(['versicolor', 'virginica'])]"
   ]
  },
  {
   "cell_type": "code",
   "execution_count": null,
   "metadata": {
    "colab": {
     "base_uri": "https://localhost:8080/",
     "height": 112
    },
    "id": "Fu-djdEic9et",
    "outputId": "b6f96fb0-a684-42e4-e514-bd6a5c564031"
   },
   "outputs": [],
   "source": [
    "#Filtrado con múltiples condiciones (AND)\n",
    "df[(df['Sepal.Length']>7.5) & (df['Sepal.Width']>3)]"
   ]
  },
  {
   "cell_type": "code",
   "execution_count": null,
   "metadata": {
    "colab": {
     "base_uri": "https://localhost:8080/",
     "height": 424
    },
    "id": "OBBtU0OVdj5q",
    "outputId": "56fd2967-fb98-4744-8aa9-8e866665d051",
    "scrolled": true
   },
   "outputs": [],
   "source": [
    "# Filtrado con múltiples condiciones (OR)\n",
    "df[(df['Sepal.Length']>7.5) | (df['Sepal.Width']>3)]"
   ]
  },
  {
   "cell_type": "markdown",
   "metadata": {},
   "source": [
    "#### Operaciones básicas con pandas\n",
    "\n",
    "A continuación se explican algunas de las operaciones básicas que se pueden realizar sobre DataFrames utilizando Pandas. Cada una de estas operaciones es fundamental para el preprocesamiento y análisis de datos.\n",
    "\n",
    "##### Conversión de cadenas a fechas\n",
    "\n",
    "Convertir cadenas que representan fechas a objetos datetime de Pandas permite realizar operaciones de fecha y hora más fácilmente.\n"
   ]
  },
  {
   "cell_type": "code",
   "execution_count": null,
   "metadata": {
    "colab": {
     "base_uri": "https://localhost:8080/"
    },
    "id": "LT8uTUz6dmIb",
    "outputId": "f3f6e111-f3cc-40c0-9240-4a2483f3f5ca",
    "scrolled": true
   },
   "outputs": [],
   "source": [
    "cadena_fechas = ('2017-04-01','2017-04-02','2017-04-03','2017-04-04')\n",
    "pd.to_datetime(pd.Series(cadena_fechas))"
   ]
  },
  {
   "cell_type": "markdown",
   "metadata": {},
   "source": [
    "##### Renombrado de columnas\n",
    "\n",
    "Renombrar columnas es una operación común cuando se requiere estandarizar o clarificar los nombres.\n"
   ]
  },
  {
   "cell_type": "code",
   "execution_count": null,
   "metadata": {
    "id": "A6Gm80pLpQCe"
   },
   "outputs": [],
   "source": [
    "df.rename(columns = {'Sepal.Length': 'Sepal_Length'}, inplace=True)"
   ]
  },
  {
   "cell_type": "code",
   "execution_count": null,
   "metadata": {
    "id": "2LJNuhlYpoWJ"
   },
   "outputs": [],
   "source": [
    "df.columns = ['Sepal_Length', 'Sepal_Width', 'Petal_Length', 'Petal_Width', 'Species']\n"
   ]
  },
  {
   "cell_type": "markdown",
   "metadata": {},
   "source": [
    "##### Detección y eliminación de duplicados\n",
    "\n",
    "En ocasiones, los datos pueden tener filas duplicadas que deben ser identificadas y eliminadas."
   ]
  },
  {
   "cell_type": "code",
   "execution_count": null,
   "metadata": {
    "colab": {
     "base_uri": "https://localhost:8080/"
    },
    "id": "82eOr0OmqCvT",
    "outputId": "559675e3-1d17-4f13-9645-7b116060f670"
   },
   "outputs": [],
   "source": [
    "# Removemos los duplicados\n",
    "\n",
    "data_1 = {'primer_nombre': ['Amy', 'Amy', 'Jason', 'Nick', 'Stephen','Amy'],\n",
    "        'ultimo_nombre': ['Jackson', 'J', 'Miller', 'Milner', 'L','J'],\n",
    "        'edad': [42, 42, 36, 24, 24, 42]}\n",
    "df4 = pd.DataFrame(data_1, columns = ['primer_nombre', 'ultimo_nombre', 'edad'])\n",
    "print(df4)"
   ]
  },
  {
   "cell_type": "code",
   "execution_count": null,
   "metadata": {
    "colab": {
     "base_uri": "https://localhost:8080/"
    },
    "id": "41fI6CqsqeGT",
    "outputId": "7a25746c-ea25-4b87-9508-4be5a2bff3ec"
   },
   "outputs": [],
   "source": [
    "print(df4.duplicated())"
   ]
  },
  {
   "cell_type": "code",
   "execution_count": null,
   "metadata": {
    "colab": {
     "base_uri": "https://localhost:8080/"
    },
    "id": "AeQFP7fYrjc4",
    "outputId": "58323016-8d8f-45f3-ddae-771118bf62d4"
   },
   "outputs": [],
   "source": [
    "print(df4.drop_duplicates())"
   ]
  },
  {
   "cell_type": "code",
   "execution_count": null,
   "metadata": {
    "colab": {
     "base_uri": "https://localhost:8080/",
     "height": 175
    },
    "id": "sPee656ar2sr",
    "outputId": "5397d537-4efd-4614-8848-90552db3cf99"
   },
   "outputs": [],
   "source": [
    "df4.drop_duplicates(['primer_nombre'], keep ='first')"
   ]
  },
  {
   "cell_type": "markdown",
   "metadata": {},
   "source": [
    "**Ejercicio**: Creación y modificación de columnas\n",
    "\n",
    "Es común crear nuevas columnas basadas en las existentes o modificar los valores de alguna columna.\n",
    "\n",
    "* Agrega las columnas siguientes: `edad_mas_5`, `nombre_completo` y `genero`\n",
    " - `edad_mas_5`viene de sumar 5 a la etiqueta `edad`\n",
    " - `nombre_completo` viene de sumar las etiquetas `primer_nombre`, `_` y `ultimo_nombre`\n",
    " - `genero` es una serie de elementos `'F','F','M','M','M','F'.`"
   ]
  },
  {
   "cell_type": "code",
   "execution_count": null,
   "metadata": {
    "colab": {
     "base_uri": "https://localhost:8080/",
     "height": 238
    },
    "id": "Hju_v1OUs8XV",
    "outputId": "5eaff32c-849b-46a9-c9eb-2749e8aa8f27"
   },
   "outputs": [],
   "source": [
    "# Tu respuesta"
   ]
  },
  {
   "cell_type": "markdown",
   "metadata": {
    "id": "LV8Khzaqt5oY"
   },
   "source": [
    "#### Datos perdidos\n",
    "\n",
    "Pandas usa principalmente el valor `np.nan` para representar los datos que faltan. Por defecto no se incluye en los cálculos. "
   ]
  },
  {
   "cell_type": "code",
   "execution_count": null,
   "metadata": {
    "colab": {
     "base_uri": "https://localhost:8080/"
    },
    "id": "yt3FCXUatdUc",
    "outputId": "e9d94a34-acdd-48c2-9678-3a65fb2fbc66"
   },
   "outputs": [],
   "source": [
    "df4.iloc[4,2] = np.nan\n",
    "print(df4)"
   ]
  },
  {
   "cell_type": "code",
   "execution_count": null,
   "metadata": {
    "colab": {
     "base_uri": "https://localhost:8080/"
    },
    "id": "YtXj19W1uKMf",
    "outputId": "8bfbab47-9987-413b-efea-180172675356"
   },
   "outputs": [],
   "source": [
    "print(df4.dropna()) # Elimina todas las filas que contengan al menos un np.nan"
   ]
  },
  {
   "cell_type": "code",
   "execution_count": null,
   "metadata": {
    "colab": {
     "base_uri": "https://localhost:8080/",
     "height": 238
    },
    "id": "JCU5_DJQyZQV",
    "outputId": "3b78bde9-ad02-4977-a52a-6e3f368aa70b"
   },
   "outputs": [],
   "source": [
    "df4.fillna(value =0)"
   ]
  },
  {
   "cell_type": "code",
   "execution_count": null,
   "metadata": {
    "colab": {
     "base_uri": "https://localhost:8080/"
    },
    "id": "zYtIIvVZyiMA",
    "outputId": "1f3f5b50-932d-467e-bd6d-33b09862b664"
   },
   "outputs": [],
   "source": [
    "df4.iloc[4,2] = np.nan\n",
    "print(df4)"
   ]
  },
  {
   "cell_type": "code",
   "execution_count": null,
   "metadata": {
    "colab": {
     "base_uri": "https://localhost:8080/",
     "height": 238
    },
    "id": "APXmU7Gxyno_",
    "outputId": "60398dcf-d0af-4f04-a7f4-6f1fa8a9a679"
   },
   "outputs": [],
   "source": [
    "pd.isnull(df4) # verificación de datos faltantes"
   ]
  },
  {
   "cell_type": "markdown",
   "metadata": {},
   "source": [
    "Relleno basado en estadísticas (por ejemplo, la media)"
   ]
  },
  {
   "cell_type": "code",
   "execution_count": null,
   "metadata": {
    "colab": {
     "base_uri": "https://localhost:8080/"
    },
    "id": "7qPO8OHUyv-x",
    "outputId": "5c6458de-559a-426e-a3e5-f713b36125d1"
   },
   "outputs": [],
   "source": [
    "media = df4['edad'].mean()\n",
    "media\n",
    "# usamos la media para reeemplazar el NaN\n",
    "df4['edad'].fillna(media)"
   ]
  },
  {
   "cell_type": "code",
   "execution_count": null,
   "metadata": {
    "id": "1MDuqS7UzGtZ",
    "scrolled": true
   },
   "outputs": [],
   "source": [
    "#Relleno hacia adelante (forward fill)\n",
    "df4.fillna(method='ffill',limit=1)"
   ]
  },
  {
   "cell_type": "markdown",
   "metadata": {},
   "source": [
    "#### Operaciones estadísticas y agregación\n",
    "\n",
    "Pandas permite calcular diversas estadísticas sobre los datos, lo que es fundamental para el análisis exploratorio.\n"
   ]
  },
  {
   "cell_type": "code",
   "execution_count": null,
   "metadata": {
    "colab": {
     "base_uri": "https://localhost:8080/"
    },
    "id": "Hm-mCI_WztC0",
    "outputId": "404dc093-c0a8-41e4-d6dd-3b8b923c8fa0"
   },
   "outputs": [],
   "source": [
    "import warnings\n",
    "warnings.filterwarnings('ignore')\n",
    "df4.mean(numeric_only=True)"
   ]
  },
  {
   "cell_type": "code",
   "execution_count": null,
   "metadata": {
    "colab": {
     "base_uri": "https://localhost:8080/"
    },
    "id": "JzIZIUh50FgX",
    "outputId": "719e414a-b531-44b6-b2f6-02109c1ef13e"
   },
   "outputs": [],
   "source": [
    "df4.min()"
   ]
  },
  {
   "cell_type": "code",
   "execution_count": null,
   "metadata": {
    "colab": {
     "base_uri": "https://localhost:8080/"
    },
    "id": "C-msyIYt0bri",
    "outputId": "a1d29498-1eb0-4d3d-8f77-fc44e193c2ad"
   },
   "outputs": [],
   "source": [
    "df4.max()"
   ]
  },
  {
   "cell_type": "code",
   "execution_count": null,
   "metadata": {
    "colab": {
     "base_uri": "https://localhost:8080/"
    },
    "id": "NS_ZaD6J0e9x",
    "outputId": "5216aeac-3b39-4988-f7ee-82e68e7feda1"
   },
   "outputs": [],
   "source": [
    "df4.sum()"
   ]
  },
  {
   "cell_type": "code",
   "execution_count": null,
   "metadata": {
    "colab": {
     "base_uri": "https://localhost:8080/"
    },
    "id": "Jcn-IglW0hXK",
    "outputId": "bd68beff-feca-4b76-8be2-8ad53dbc21f1"
   },
   "outputs": [],
   "source": [
    "df4.count()"
   ]
  },
  {
   "cell_type": "code",
   "execution_count": null,
   "metadata": {
    "colab": {
     "base_uri": "https://localhost:8080/",
     "height": 302
    },
    "id": "TAq1dqYH0kFe",
    "outputId": "672434cf-b3b1-41ab-950f-025615513324"
   },
   "outputs": [],
   "source": [
    "df4.cumsum()"
   ]
  },
  {
   "cell_type": "markdown",
   "metadata": {
    "id": "7qJamnllXGKQ"
   },
   "source": [
    "#### Aplicación de función a elemento, columna o dataframe\n",
    "Pandas facilita la aplicación de funciones a lo largo de diferentes ejes, lo que es muy útil para transformar los datos.\n"
   ]
  },
  {
   "cell_type": "code",
   "execution_count": null,
   "metadata": {
    "colab": {
     "base_uri": "https://localhost:8080/",
     "height": 302
    },
    "id": "M_cB15f70m6-",
    "outputId": "5f38c60a-23af-4175-da98-89a7c0b00120"
   },
   "outputs": [],
   "source": [
    "df4.apply(np.cumsum)"
   ]
  },
  {
   "cell_type": "code",
   "execution_count": null,
   "metadata": {
    "colab": {
     "base_uri": "https://localhost:8080/"
    },
    "id": "6t1wvCStXU1O",
    "outputId": "4f488083-cb68-4c61-e166-23c3f7cc8e38",
    "scrolled": true
   },
   "outputs": [],
   "source": [
    "# Map: itera sobre cada elemento de una serie\n",
    "df4['edad'].map(lambda x: 1+x) # agrega una constante 1 a cada elemento de la column1\n"
   ]
  },
  {
   "cell_type": "markdown",
   "metadata": {},
   "source": [
    "Aplica funciones a cada elemento de un sub-dataFrame con `applymap`"
   ]
  },
  {
   "cell_type": "code",
   "execution_count": null,
   "metadata": {
    "colab": {
     "base_uri": "https://localhost:8080/"
    },
    "id": "mYEdjDSUXmrb",
    "outputId": "ce3dc101-fa3f-4790-cafc-8054daece5ef"
   },
   "outputs": [],
   "source": [
    "func=lambda x: x+1\n",
    "df_filtrado = df4.iloc[:, 2:4]\n",
    "print(df_filtrado)"
   ]
  },
  {
   "cell_type": "code",
   "execution_count": null,
   "metadata": {
    "colab": {
     "base_uri": "https://localhost:8080/"
    },
    "id": "YBiAYP8jYnzO",
    "outputId": "000a0cb8-1fb5-49af-d177-994f1be08993"
   },
   "outputs": [],
   "source": [
    "print(df_filtrado.applymap(func))"
   ]
  },
  {
   "cell_type": "markdown",
   "metadata": {},
   "source": [
    "**Ejemplo completo**\n",
    "\n",
    "La parte del poder de pandas se da por los métodos integrados en los objetos Series y DataFrame. "
   ]
  },
  {
   "cell_type": "code",
   "execution_count": null,
   "metadata": {},
   "outputs": [],
   "source": [
    "from io import StringIO\n",
    "data = StringIO('''UPC,Units,Sales,Date\n",
    "1234,5,20.2,1-1-2014\n",
    "1234,2,8.,1-2-2014\n",
    "1234,3,13.,1-3-2014\n",
    "789,1,2.,1-1-2014\n",
    "789,2,3.8,1-2-2014\n",
    "789,,,1-3-2014\n",
    "789,1,1.8,1-5-2014''')"
   ]
  },
  {
   "cell_type": "code",
   "execution_count": null,
   "metadata": {},
   "outputs": [],
   "source": [
    "sales = pd.read_csv(data)\n",
    "sales"
   ]
  },
  {
   "cell_type": "code",
   "execution_count": null,
   "metadata": {},
   "outputs": [],
   "source": [
    "sales.shape"
   ]
  },
  {
   "cell_type": "markdown",
   "metadata": {},
   "source": [
    "El método `info` resume los tipos y columnas de un data frame. También proporciona información sobre la cantidad de memoria que se consume. Cuando tiene conjuntos de datos más grandes, esta información es útil para ver hacia dónde se dirige la memoria. La conversión de tipos de cadenas a tipos numéricos o de fecha puede ayudar mucho a reducir el uso de memoria:"
   ]
  },
  {
   "cell_type": "code",
   "execution_count": null,
   "metadata": {},
   "outputs": [],
   "source": [
    "sales.info()"
   ]
  },
  {
   "cell_type": "markdown",
   "metadata": {},
   "source": [
    "A diferencia del objeto `Series` que prueba la pertenencia con el índice, el `DataFrame` prueba la pertenencia con las columnas. El comportamiento de iteración `(__iter__)` y el comportamiento de pertenencia `(__contains__)` es el mismo para el `DataFrame`.  "
   ]
  },
  {
   "cell_type": "markdown",
   "metadata": {},
   "source": [
    "#### Operaciones de índice\n",
    "\n",
    "Un data frame tiene varias operaciones de índice. El primero que exploraremos, `reindex`, ajusta los datos a un nuevo índice y/o columnas. Para extraer solo los elementos del índice 0 y 4, hacemos lo siguiente:\n"
   ]
  },
  {
   "cell_type": "code",
   "execution_count": null,
   "metadata": {},
   "outputs": [],
   "source": [
    "sales.reindex([0, 4])"
   ]
  },
  {
   "cell_type": "code",
   "execution_count": null,
   "metadata": {},
   "outputs": [],
   "source": [
    "sales.reindex(columns=['Date', 'Sales']) "
   ]
  },
  {
   "cell_type": "markdown",
   "metadata": {},
   "source": [
    "La selección de columnas e índices se puede combinar para refinar aún más la selección. Además, se pueden incluir nuevas entradas para valores de índices y nombres de columna. Por defecto, usarán el parámetro opcional `fill_value` (que es NaN a menos que se especifique): "
   ]
  },
  {
   "cell_type": "code",
   "execution_count": null,
   "metadata": {},
   "outputs": [],
   "source": [
    "sales.reindex(index=[2, 6, 8], columns=['Sales', 'MIT', 'missing'])"
   ]
  },
  {
   "cell_type": "code",
   "execution_count": null,
   "metadata": {},
   "outputs": [],
   "source": [
    "by_date = sales.set_index('Date')\n",
    "by_date"
   ]
  },
  {
   "cell_type": "markdown",
   "metadata": {},
   "source": [
    "Para agregar un índice entero creciente a un data frame, usa `reset_index`: "
   ]
  },
  {
   "cell_type": "code",
   "execution_count": null,
   "metadata": {},
   "outputs": [],
   "source": [
    "by_date.reset_index()"
   ]
  },
  {
   "cell_type": "markdown",
   "metadata": {},
   "source": [
    "#### Obtener y establecer valores\n",
    "\n",
    "Hay dos métodos para extraer una única casilla del data frame. Uno `iat` que usa la posición del índice y la columna (basado en 0):"
   ]
  },
  {
   "cell_type": "code",
   "execution_count": null,
   "metadata": {},
   "outputs": [],
   "source": [
    "sales.iat[4, 2]"
   ]
  },
  {
   "cell_type": "markdown",
   "metadata": {},
   "source": [
    "Para insertar una columna en una ubicación específica, se usa el método `insert`. Ten en cuenta que este método funciona en el lugar y no tiene un valor de retorno. El primer parámetro del método es la ubicación de base cero de la nueva columna. El siguiente parámetro es el nombre de la nueva columna y el tercer parámetro es el nuevo valor."
   ]
  },
  {
   "cell_type": "markdown",
   "metadata": {},
   "source": [
    "\n",
    "A continuación, insertamos una columna `Category` después de ` UPC`  (en la posición 1): "
   ]
  },
  {
   "cell_type": "code",
   "execution_count": null,
   "metadata": {
    "scrolled": true
   },
   "outputs": [],
   "source": [
    "sales.insert(1, 'Category', 'Food')\n",
    "sales"
   ]
  },
  {
   "cell_type": "code",
   "execution_count": null,
   "metadata": {},
   "outputs": [],
   "source": [
    "#sales['Category'] = 'Food'"
   ]
  },
  {
   "cell_type": "markdown",
   "metadata": {},
   "source": [
    "La inserción de columnas también está disponible mediante la asignación de índices en el data frame.\n",
    "Cuando se agregan nuevas columnas de esta manera, siempre se agregan al final (la columna más\n",
    "a la derecha). \n",
    "\n",
    "El método `replace` es una forma poderosa de actualizar muchos valores de un data frame en las columnas. Para reemplazar todos los 789 con 790, realiza lo siguiente:"
   ]
  },
  {
   "cell_type": "code",
   "execution_count": null,
   "metadata": {},
   "outputs": [],
   "source": [
    "sales.replace(789, 790)"
   ]
  },
  {
   "cell_type": "markdown",
   "metadata": {},
   "source": [
    "**Observacion:** \n",
    "\n",
    "Debido a que la columna `sales` para el índice 6 también tiene un valor de 789,\n",
    "también se reemplazará. Para solucionar esto, en lugar de pasar un escalar para el parámetro\n",
    "`to_replace`, usa un diccionario que mapea el nombre de las columnas a un diccionario de valores\n",
    "nuevo valor. Si el nuevo valor de venta de 789.0 también fuera erróneo, podría actualizarse en la\n",
    "misma llamada:"
   ]
  },
  {
   "cell_type": "code",
   "execution_count": null,
   "metadata": {},
   "outputs": [],
   "source": [
    "sales.replace({'UPC': {789:790},\n",
    "                'Sales': {789: 1.4}})"
   ]
  },
  {
   "cell_type": "markdown",
   "metadata": {},
   "source": [
    "El método `replace` también acepta expresiones regulares (pueden ser incluidas en diccionarios anidados) si  el paramétro`regex` se coloca en `True`."
   ]
  },
  {
   "cell_type": "code",
   "execution_count": null,
   "metadata": {},
   "outputs": [],
   "source": [
    "sales.replace('(F.*d)', r'\\1_stuff', regex=True)"
   ]
  },
  {
   "cell_type": "markdown",
   "metadata": {},
   "source": [
    "#### Eliminación de  columnas\n",
    "\n",
    "Hay al menos cuatro formas de eliminar una columna:\n",
    "\n",
    "* El método `pop`\n",
    "\n",
    "* El método `drop` con `axis = 1`\n",
    "\n",
    "* El método `reindex`\n",
    "\n",
    "* Indexación con una lista de nuevas columnas\n",
    "\n",
    "El método `pop` toma el nombre de una columna y lo elimina del data frame. Opera in-place. En lugar de devolver un data frame, devuelve la columna eliminada.  "
   ]
  },
  {
   "cell_type": "code",
   "execution_count": null,
   "metadata": {},
   "outputs": [],
   "source": [
    "sales['subcat'] = 'Dairy'\n",
    "sales"
   ]
  },
  {
   "cell_type": "code",
   "execution_count": null,
   "metadata": {},
   "outputs": [],
   "source": [
    "sales.pop('subcat')"
   ]
  },
  {
   "cell_type": "code",
   "execution_count": null,
   "metadata": {},
   "outputs": [],
   "source": [
    "sales"
   ]
  },
  {
   "cell_type": "markdown",
   "metadata": {},
   "source": [
    "Para quitar una columna con el método `drop`, simplemente páselo (o una lista de nombres de columna) junto con la configuración del parámetro `axis` en 1: "
   ]
  },
  {
   "cell_type": "code",
   "execution_count": null,
   "metadata": {},
   "outputs": [],
   "source": [
    "sales.drop(['Category', 'Units'], axis=1)"
   ]
  },
  {
   "cell_type": "markdown",
   "metadata": {},
   "source": [
    "Para utilizar los dos métodos finales para eliminar columnas, simplemente crea una lista de las columnas deseadas. Pasa esa lista al método `reindex` o la operación de indexación:"
   ]
  },
  {
   "cell_type": "code",
   "execution_count": null,
   "metadata": {},
   "outputs": [],
   "source": [
    "cols = ['Sales', 'Date']"
   ]
  },
  {
   "cell_type": "code",
   "execution_count": null,
   "metadata": {},
   "outputs": [],
   "source": [
    "sales.reindex(columns=cols)"
   ]
  },
  {
   "cell_type": "code",
   "execution_count": null,
   "metadata": {},
   "outputs": [],
   "source": [
    "sales[cols]"
   ]
  },
  {
   "cell_type": "markdown",
   "metadata": {},
   "source": [
    "#### Recortes\n",
    "\n",
    "Pandas proporciona métodos poderosos para los recortes en un data frame. Los métodos `head` y `tail` permiten extraer datos del inicio y del final de un data frame. \n",
    "\n",
    "De forma predeterminada, solo muestran las cinco filas superiores o cinco inferiores:"
   ]
  },
  {
   "cell_type": "code",
   "execution_count": null,
   "metadata": {},
   "outputs": [],
   "source": [
    "sales.head()"
   ]
  },
  {
   "cell_type": "code",
   "execution_count": null,
   "metadata": {},
   "outputs": [],
   "source": [
    "sales.tail(2)"
   ]
  },
  {
   "cell_type": "markdown",
   "metadata": {},
   "source": [
    "Los data frame también admiten el recorte en función de la posición del índice y la etiqueta.\n",
    "\n",
    "Usemos un índice basado en cadenas para que quede más claro qué hacen las opciones de recorte:"
   ]
  },
  {
   "cell_type": "code",
   "execution_count": null,
   "metadata": {},
   "outputs": [],
   "source": [
    "sales['new_index'] = list('abcdefg')\n",
    "df = sales.set_index('new_index')\n",
    "df"
   ]
  },
  {
   "cell_type": "code",
   "execution_count": null,
   "metadata": {},
   "outputs": [],
   "source": [
    "del sales['new_index']"
   ]
  },
  {
   "cell_type": "code",
   "execution_count": null,
   "metadata": {},
   "outputs": [],
   "source": [
    "df"
   ]
  },
  {
   "cell_type": "markdown",
   "metadata": {},
   "source": [
    "Para dividir por posición, usa el atributo `iloc`. Aquí tomamos filas en las posiciones dos hasta cuatro, pero sin incluirlas: "
   ]
  },
  {
   "cell_type": "code",
   "execution_count": null,
   "metadata": {},
   "outputs": [],
   "source": [
    "df.iloc[2:4]"
   ]
  },
  {
   "cell_type": "markdown",
   "metadata": {},
   "source": [
    "También podemos proporcionar posiciones de columna que también queremos mantener. Las posiciones de las columnas deben seguir una coma en la operación de índice. Aquí mantenemos las filas desde dos hasta pero sin incluir la fila cuatro. También tomamos solo la columna en la posición de índice cero.\n",
    "\n",
    "Esto se expresa en la siguiente figura:\n",
    "\n",
    "\n",
    "<img src=\"recorte-pandas.png\" alt=\"Drawing\" style=\"width: 400px;\"/>\n",
    "\n",
    "A continuación se muestra un resumen de las construcciones de  de data frame por posición y etiqueta.\n",
    "\n",
    "\n",
    "```\n",
    ".iloc [i: j]            Posición de filas i hasta pero sin incluir j (semiabierto)\n",
    ".iloc [:, i: j]         Posición de las columnas i hasta pero sin incluir j (semiabierto)\n",
    ".iloc [[i, k, m]]       Filas en i, k y m (no es un intervalo)\n",
    ".loc [a: b]             Filas desde la etiqueta de índice a hasta b (cerrado)\n",
    ".loc [:, c: d]          Columnas de la etiqueta de columna c a d (cerrado)\n",
    ".loc [: [b, d, f]]      Columnas en las etiquetas b, d y f (no es un intervalo) \n",
    "\n",
    "```\n",
    "\n",
    "<img src=\"recorte-ejemplo.png\" alt=\"Drawing\" style=\"width: 500px;\"/>"
   ]
  },
  {
   "cell_type": "code",
   "execution_count": null,
   "metadata": {},
   "outputs": [],
   "source": [
    "df = df.drop(['Category'], axis=1)\n",
    "df"
   ]
  },
  {
   "cell_type": "code",
   "execution_count": null,
   "metadata": {},
   "outputs": [],
   "source": [
    "df.iloc[2:4, 0:1]"
   ]
  },
  {
   "cell_type": "markdown",
   "metadata": {},
   "source": [
    "También hay soporte para dividir datos por etiquetas. Usando el atributo `loc`, podemos tomar valores de índice desde la `a` a la `d`:"
   ]
  },
  {
   "cell_type": "code",
   "execution_count": null,
   "metadata": {},
   "outputs": [],
   "source": [
    "df.loc['a':'d']"
   ]
  },
  {
   "cell_type": "markdown",
   "metadata": {},
   "source": [
    "Y al igual que `.iloc`, `.loc` tiene la capacidad de especificar columnas por etiqueta. En este ejemplo, solo tomamos la columna `Units` y, por lo tanto, devuelve una serie:"
   ]
  },
  {
   "cell_type": "code",
   "execution_count": null,
   "metadata": {},
   "outputs": [],
   "source": [
    "df.loc['d':, 'Units']"
   ]
  },
  {
   "cell_type": "markdown",
   "metadata": {},
   "source": [
    "Si deseas dividir las columnas por valor, pero las filas por posición, puedes encadenar operaciones\n",
    "de índice a `.iloc` o `.loc`  juntas. \n",
    "\n",
    "Sacamos las columnas `UPC` y `Sales`, pero con solo los últimos 4 valores:"
   ]
  },
  {
   "cell_type": "code",
   "execution_count": null,
   "metadata": {},
   "outputs": [],
   "source": [
    "df.loc[:,['UPC', 'Sales']].iloc[-4:]"
   ]
  },
  {
   "cell_type": "markdown",
   "metadata": {
    "id": "B7n_sZSRZAOZ"
   },
   "source": [
    "### Merge/Join\n",
    "Las operaciones de **Merge** y **Join** permiten combinar dos o más DataFrames basándose en columnas comunes o en sus índices. Estas operaciones son análogas a las uniones en bases de datos relacionales, donde se puede hacer un _inner join_, _outer join_, _left join_ o _right join_.  \n",
    "  \n",
    "- **Merge** es una función muy flexible de Pandas que permite combinar DataFrames especificando la(s) columna(s) o índice(s) clave.  \n",
    "- **Join** es un método que se utiliza en los DataFrames y que internamente usa la misma lógica de combinación.\n",
    "\n",
    "Estas operaciones son fundamentales cuando se tiene la información dividida en distintas tablas (por ejemplo, una tabla de empleados y otra de salarios) y se desea crear un conjunto de datos unificado.\n"
   ]
  },
  {
   "cell_type": "code",
   "execution_count": null,
   "metadata": {
    "colab": {
     "base_uri": "https://localhost:8080/"
    },
    "id": "E-2aVs4aY0Vr",
    "outputId": "94fbc09a-b0fc-48dd-962e-1f638690e811"
   },
   "outputs": [],
   "source": [
    "data = {\n",
    "        'emp_id': ['1', '2', '3', '4', '5'],\n",
    "        'primer_nombre': ['Jason', 'Andy', 'Allen', 'John', 'Amy'], \n",
    "        'ultimo_nombre': ['Larkin', 'Jacob', 'A', 'AA', 'Jackson']}\n",
    "df_1 = pd.DataFrame(data, columns = ['emp_id', 'primer_nombre', 'ultimo_nombre'])\n",
    "print (df_1)"
   ]
  },
  {
   "cell_type": "code",
   "execution_count": null,
   "metadata": {
    "colab": {
     "base_uri": "https://localhost:8080/"
    },
    "id": "jA72OR5JZZ6f",
    "outputId": "9fd59291-1f00-4bf7-bffb-afd5a9e3d263"
   },
   "outputs": [],
   "source": [
    "data = {\n",
    "        'emp_id': ['4', '5', '6', '7'],\n",
    "        'primer_nombre': ['James', 'Shize', 'Kim', 'Jose'], \n",
    "        'ultimo_nombre': ['Alexander', 'Suma', 'Mike', 'G']}\n",
    "df_2 = pd.DataFrame(data, columns = ['emp_id', 'primer_nombre', 'ultimo_nombre'])\n",
    "print (df_2)"
   ]
  },
  {
   "cell_type": "markdown",
   "metadata": {},
   "source": [
    "El primer método mostrado es la función `pd.concat`, que permite concatenar DataFrames uno debajo del otro (por defecto, axis=0) o a lo largo de las columnas (axis=1)."
   ]
  },
  {
   "cell_type": "code",
   "execution_count": null,
   "metadata": {
    "colab": {
     "base_uri": "https://localhost:8080/"
    },
    "id": "FR8uGPpNZlgO",
    "outputId": "653f5be4-4c59-4a44-d066-eb65b671c2af"
   },
   "outputs": [],
   "source": [
    "# usando concat\n",
    "df = pd.concat([df_1, df_2])\n",
    "print(df)"
   ]
  },
  {
   "cell_type": "code",
   "execution_count": null,
   "metadata": {
    "colab": {
     "base_uri": "https://localhost:8080/",
     "height": 206
    },
    "id": "IfJmK4rLZ5-X",
    "outputId": "0d193512-817e-4ba0-dcdd-d7aa9ab44dcb"
   },
   "outputs": [],
   "source": [
    "# Juntando dos dataframes a lo largo de las columnas\n",
    "pd.concat([df_1,df_2], axis=1)"
   ]
  },
  {
   "cell_type": "markdown",
   "metadata": {
    "id": "Dob92Mh8cy-Q"
   },
   "source": [
    "La operación `merge` combina DataFrames basándose en una o más columnas comunes. En el siguiente ejemplo, se combinan `df_1` y `df_2` utilizando la columna `emp_id`:"
   ]
  },
  {
   "cell_type": "code",
   "execution_count": null,
   "metadata": {
    "colab": {
     "base_uri": "https://localhost:8080/"
    },
    "id": "Qm6FdoJBbf8z",
    "outputId": "5fcca937-5d91-47c2-9532-a05820989945",
    "scrolled": true
   },
   "outputs": [],
   "source": [
    "print(pd.merge(df_1,df_2, on='emp_id'))"
   ]
  },
  {
   "cell_type": "code",
   "execution_count": null,
   "metadata": {},
   "outputs": [],
   "source": [
    "#pd.merge(df_1,df_2, on='emp_id', how='outer')\n",
    "#pd.merge(df1, df2, on='emp_id', how='left')"
   ]
  },
  {
   "cell_type": "markdown",
   "metadata": {
    "id": "0_0FPmAtm7l_"
   },
   "source": [
    "### Grouping\n",
    "El **grouping** (agrupación) es una técnica poderosa que permite segmentar los datos de un DataFrame en grupos basados en el valor de una o más columnas, para luego aplicar operaciones de agregación o transformación en cada grupo de forma independiente.  \n",
    "  \n",
    "Las operaciones comunes incluyen calcular promedios, medianas, sumas, contar elementos, etc.  \n",
    "- Permite dividir los datos según ciertos criterios (por ejemplo, agrupar por \"teacher\" o \"estado\") y realizar cálculos agregados para cada grupo.\n",
    "- Se usa a menudo en análisis estadísticos y en la preparación de informes.\n",
    "\n",
    "<img src=\"Groupby.png\" alt=\"Drawing\" style=\"width: 600px;\"/>\n",
    "\n",
    "Como ejemplo, en el data frame `scores`, calcularemos las puntuaciones medias de cada `teacher`. Primero llamamos a `groupby` y entonces invocamos a `median` en el resultado: "
   ]
  },
  {
   "cell_type": "code",
   "execution_count": null,
   "metadata": {
    "scrolled": true
   },
   "outputs": [],
   "source": [
    "import pandas as pd\n",
    "import numpy as np\n",
    "\n",
    "# Crear DataFrame\n",
    "scores = pd.DataFrame({\n",
    "    'name': ['Adam', 'Bob', 'Dave', 'Fred'],\n",
    "    'age': [15, 16, 16, 15],\n",
    "    'test1': [95, 81, 89, np.nan],  # np.nan en lugar de None\n",
    "    'test2': [80, 82, 84, 88],\n",
    "    'teacher': ['Ashby', 'Ashby', 'Jones', 'Jones']\n",
    "})\n",
    "\n",
    "# Agrupar por 'teacher' y calcular la mediana solo en columnas numéricas\n",
    "result = scores.groupby('teacher').median(numeric_only=True)\n",
    "\n",
    "# Mostrar el resultado\n",
    "print(result)\n"
   ]
  },
  {
   "cell_type": "markdown",
   "metadata": {},
   "source": [
    "Podemos agrupar `teacher` y calcular la mediana solo en columnas numéricas"
   ]
  },
  {
   "cell_type": "code",
   "execution_count": null,
   "metadata": {},
   "outputs": [],
   "source": [
    "scores.groupby('teacher').median(numeric_only=True)[['test1', 'test2']]"
   ]
  },
  {
   "cell_type": "markdown",
   "metadata": {},
   "source": [
    "La agrupación puede ser muy poderosa y también se puede utilizar para agrupar varias columnas. Para encontrar los valores medianos de cada grupo por edad para cada profesor: \n"
   ]
  },
  {
   "cell_type": "code",
   "execution_count": null,
   "metadata": {},
   "outputs": [],
   "source": [
    "scores.groupby(['teacher', 'age']).median(numeric_only=True)"
   ]
  },
  {
   "cell_type": "markdown",
   "metadata": {},
   "source": [
    "El método `agg` permite aplicar varias funciones de agregación al mismo tiempo. Por ejemplo, para obtener el puntaje mínimo y máximo de las pruebas por cada grupo de profesor y edad:"
   ]
  },
  {
   "cell_type": "code",
   "execution_count": null,
   "metadata": {},
   "outputs": [],
   "source": [
    "scores.groupby(['teacher','age']).agg([min, max])"
   ]
  },
  {
   "cell_type": "markdown",
   "metadata": {},
   "source": [
    "**Ejercicio**"
   ]
  },
  {
   "cell_type": "code",
   "execution_count": null,
   "metadata": {
    "id": "pK19Cxsgm0nh"
   },
   "outputs": [],
   "source": [
    "df = pd.DataFrame({'Nombre' : ['jack', 'jane', 'jack', 'jane', 'jack', 'jane', 'jack', 'jane'],\n",
    "                   'Estado' : ['SFO', 'SFO', 'NYK', 'CA', 'NYK', 'NYK', 'SFO', 'CA'],\n",
    "                   'Genero':['A','A','B','A','C','B','C','A'],\n",
    "                   'Edad' : np.random.uniform(24, 50, size=8),\n",
    "                   'Salario' : np.random.uniform(3000, 5000, size=8),})"
   ]
  },
  {
   "cell_type": "markdown",
   "metadata": {
    "id": "jHjOj4Zxnz8r"
   },
   "source": [
    "Ten en cuenta que las columnas se ordenan automáticamente en su orden alfabético para un orden personalizado, usa el siguiente código_\n",
    "\n",
    "`df = pd.DataFrame (data, columns = ['Nombre', 'Estado', 'Edad', 'Salario'])` \n",
    "\n",
    "* Calcula la suma por nombres.\n",
    "\n",
    "* Encuentra la edad máxima y el salario por nombre/ estado. Puedes usar todas las funciones agregadas, como mínimo, máximo, media, conteo, suma acumulada."
   ]
  },
  {
   "cell_type": "code",
   "execution_count": null,
   "metadata": {
    "colab": {
     "base_uri": "https://localhost:8080/",
     "height": 238
    },
    "id": "eVwMPRL7oWCp",
    "outputId": "54601a52-ff99-4b3a-8954-10ade8dcf1c7"
   },
   "outputs": [],
   "source": [
    "# Tus  respuestas"
   ]
  },
  {
   "cell_type": "markdown",
   "metadata": {
    "id": "kn_bSynhpVw9"
   },
   "source": [
    "#### Tablas pivot\n",
    "\n",
    "Pandas proporciona una función `pivot_table` para crear una tabla pivot (dinámica )de estilo de hoja de cálculo de MS-Excel. Puede tomar los siguientes argumentos:\n",
    "\n",
    "- `data`: objeto DataFrame\n",
    "- `values`: columna para agregar\n",
    "- `index`: etiquetas de fila\n",
    "- `columns`: etiquetas de columna\n",
    "- `aggfunc`: función de agregación que se usará en valores, el valor predeterminado es `NumPy.mean`. \n",
    "\n",
    "Usando una tabla pivot, podemos generalizar ciertos comportamientos grupales. Para obtener las puntuaciones medias de los profesores, podemos ejecutar lo siguiente: "
   ]
  },
  {
   "cell_type": "code",
   "execution_count": null,
   "metadata": {},
   "outputs": [],
   "source": [
    "scores.pivot_table(index='teacher',\n",
    "    values=['test1', 'test2'],\n",
    "    aggfunc='median')"
   ]
  },
  {
   "cell_type": "markdown",
   "metadata": {
    "id": "t1f2aUSTq8uL"
   },
   "source": [
    "Si queremos agregar por profesor y edad, simplemente usamos una lista con ambos para el parámetro `index`: "
   ]
  },
  {
   "cell_type": "code",
   "execution_count": null,
   "metadata": {},
   "outputs": [],
   "source": [
    "scores.pivot_table(index=['teacher', 'age'],\n",
    "                   values=['test1', 'test2'],\n",
    "                   aggfunc='median')"
   ]
  },
  {
   "cell_type": "markdown",
   "metadata": {},
   "source": [
    "Si queremos aplicar múltiples funciones, simplemente usa una lista de esas funciones. Aquí, analizamos los puntajes mínimos y máximos de las pruebas por profesor: "
   ]
  },
  {
   "cell_type": "code",
   "execution_count": null,
   "metadata": {},
   "outputs": [],
   "source": [
    "scores.pivot_table(index='teacher',\n",
    "                   values=['test1', 'test2'],\n",
    "                   aggfunc=[min, max])"
   ]
  },
  {
   "cell_type": "markdown",
   "metadata": {},
   "source": [
    "Podemos ver que la tabla pivot y de grupo por comportamiento son muy similares. Hay del estilo declarativo de ` pivot_table` y el estilo  semántico de los grupos.\n",
    "\n",
    "Una característica adicional de las tablas pivots es la capacidad de agregar filas de resumen. Simplemente estableciendo `margins= True` obtenemos esta funcionalidad:"
   ]
  },
  {
   "cell_type": "code",
   "execution_count": null,
   "metadata": {},
   "outputs": [],
   "source": [
    "scores.pivot_table(index='teacher',\n",
    "                   values=['test1', 'test2'],\n",
    "                   aggfunc='median', margins=True)"
   ]
  },
  {
   "cell_type": "markdown",
   "metadata": {},
   "source": [
    "<img src=\"pivot.png\" alt=\"Drawing\" style=\"width: 600px;\"/>"
   ]
  },
  {
   "cell_type": "code",
   "execution_count": null,
   "metadata": {},
   "outputs": [],
   "source": [
    "scores.pivot_table(index= ['teacher', 'age'],\n",
    "                   values=['test1', 'test2'],\n",
    "                   aggfunc=[len, sum], margins=True)"
   ]
  },
  {
   "cell_type": "markdown",
   "metadata": {},
   "source": [
    "<img src=\"pivot-parameters.png\" alt=\"Drawing\" style=\"width: 600px;\"/>"
   ]
  },
  {
   "cell_type": "markdown",
   "metadata": {},
   "source": [
    "**Ejercicio** Del dataframe anterior agrupa por estado y nombre y encuentre la edad media para cada grado.\n"
   ]
  },
  {
   "cell_type": "code",
   "execution_count": null,
   "metadata": {},
   "outputs": [],
   "source": [
    "## Tu respuesta"
   ]
  },
  {
   "cell_type": "markdown",
   "metadata": {},
   "source": [
    "#### Ejemplos adicionales y casos prácticos\n",
    "\n",
    "##### Ejemplo adicional de Merge/Join\n",
    "\n",
    "Imagina que tienes dos DataFrames con información complementaria sobre ventas. Uno tiene información de ventas diarias y otro tiene información de empleados responsables:"
   ]
  },
  {
   "cell_type": "code",
   "execution_count": null,
   "metadata": {},
   "outputs": [],
   "source": [
    "# DataFrame de ventas\n",
    "ventas = pd.DataFrame({\n",
    "    'venta_id': [101, 102, 103, 104],\n",
    "    'emp_id': ['1', '2', '3', '4'],\n",
    "    'monto': [200, 150, 300, 250],\n",
    "    'fecha': ['2021-01-01', '2021-01-02', '2021-01-02', '2021-01-03']\n",
    "})\n",
    "\n",
    "# DataFrame de empleados\n",
    "empleados = pd.DataFrame({\n",
    "    'emp_id': ['1', '2', '3', '5'],\n",
    "    'nombre': ['Ana', 'Luis', 'Carlos', 'Elena']\n",
    "})\n",
    "\n",
    "# Realizamos un merge para obtener la información del empleado en cada venta\n",
    "ventas_empleados = pd.merge(ventas, empleados, on='emp_id', how='left')\n",
    "print(\"Merge de ventas y empleados:\")\n",
    "print(ventas_empleados)"
   ]
  },
  {
   "cell_type": "markdown",
   "metadata": {},
   "source": [
    "##### Ejemplo adicional de grouping con agregaciones múltiples\n",
    "\n",
    "Supongamos que queremos analizar el rendimiento de ventas por empleado, obteniendo no solo la suma de las ventas, sino también la cantidad de ventas y la media:"
   ]
  },
  {
   "cell_type": "code",
   "execution_count": null,
   "metadata": {},
   "outputs": [],
   "source": [
    "# Agrupar por emp_id y calcular suma, cantidad y media de 'monto'\n",
    "agrupacion_ventas = ventas.groupby('emp_id').agg({\n",
    "    'monto': ['sum', 'count', 'mean']\n",
    "})\n",
    "print(\"Agregación de ventas por empleado:\")\n",
    "print(agrupacion_ventas)"
   ]
  },
  {
   "cell_type": "markdown",
   "metadata": {},
   "source": [
    "#### Ejercicios\n",
    "\n",
    "\n",
    "##### **Ejercicio 1: Agrupamiento y normalización de datos**\n",
    "Dado un dataset de puntuaciones de estudiantes en varias pruebas, queremos analizar los resultados normalizados por cada profesor.\n",
    "\n",
    "#### **Tareas:**\n",
    "1. Usa `groupby` para agrupar por `\"teacher\"`, y dentro de cada grupo, normaliza las columnas `\"test1\"` y `\"test2\"` usando **Z-score normalization**:\n",
    "   $$\n",
    "   X_{\\text{norm}} = \\frac{X - \\mu}{\\sigma}\n",
    "   $$\n",
    "2. Muestra las medias y desviaciones estándar antes y después de la normalización.\n",
    "3. Usa `agg()` para calcular estadísticas adicionales como `min`, `max`, `median`.\n",
    "\n",
    "#### **Código base:**\n",
    "```python\n",
    "import pandas as pd\n",
    "import numpy as np\n",
    "\n",
    "# Crear dataset\n",
    "scores = pd.DataFrame({\n",
    "    'name': ['Adam', 'Bob', 'Dave', 'Fred'],\n",
    "    'age': [15, 16, 16, 15],\n",
    "    'test1': [95, 81, 89, np.nan],  \n",
    "    'test2': [80, 82, 84, 88],\n",
    "    'teacher': ['Ashby', 'Ashby', 'Jones', 'Jones']\n",
    "})\n",
    "\n",
    "# Normalizar test1 y test2 por cada maestro usando Z-score\n",
    "def z_score_norm(x):\n",
    "    return (x - x.mean()) / x.std()\n",
    "\n",
    "normalized_scores = scores.groupby('teacher')[['test1', 'test2']].transform(z_score_norm)\n",
    "\n",
    "# Ver estadísticas antes y después\n",
    "print(\"Estadísticas antes de la normalización:\")\n",
    "print(scores.groupby('teacher')[['test1', 'test2']].agg(['mean', 'std']))\n",
    "\n",
    "print(\"\\nDatos normalizados:\")\n",
    "print(normalized_scores)\n",
    "```\n",
    "\n",
    "\n",
    "##### **Ejercicio 2: Construcción de una tabla dinámica para predicción de notas**\n",
    "Dado el dataset de puntuaciones, queremos construir una **tabla dinámica (`pivot_table`)** para analizar las tendencias por maestro y edad.\n",
    "\n",
    "#### **Tareas:**\n",
    "1. Usa `pivot_table` para agrupar por **\"teacher\"** y **\"age\"**, agregando `\"test1\"` y `\"test2\"` con funciones `mean`, `min`, y `max`.\n",
    "2. Usa `margins=True` para incluir los valores globales.\n",
    "3. Compara los valores obtenidos con los de un modelo de predicción simple (puedes usar interpolación con `fillna()`).\n",
    "\n",
    "#### **Código Base:**\n",
    "```python\n",
    "# Crear tabla dinámica\n",
    "pivot = scores.pivot_table(index=['teacher', 'age'], \n",
    "                           values=['test1', 'test2'], \n",
    "                           aggfunc=['mean', 'min', 'max'],\n",
    "                           margins=True)\n",
    "\n",
    "print(\"Tabla dinámica con estadísticas por maestro y edad:\")\n",
    "print(pivot)\n",
    "```\n",
    "\n",
    "###### **Ejercicio 3: Predicción de resultados faltantes usando `groupby` y `apply`**\n",
    "En muchas aplicaciones de IA, los datos incompletos deben predecirse antes de usarlos en modelos.\n",
    "\n",
    "#### **Tareas:**\n",
    "1. Usa `groupby` para agrupar por `\"teacher\"`.\n",
    "2. Usa `.apply(lambda x: x.fillna(x.mean()))` para completar los valores faltantes en `\"test1\"`.\n",
    "3. Agrega una nueva columna `\"score_category\"` donde:\n",
    "   - `\"Alto\"` si `test1 >= 85`\n",
    "   - `\"Medio\"` si `70 <= test1 < 85`\n",
    "   - `\"Bajo\"` si `test1 < 70`\n",
    "4. Usa `value_counts()` para contar cuántos estudiantes pertenecen a cada categoría.\n",
    "\n",
    "#### **Código base:**\n",
    "```python\n",
    "# Rellenar valores nulos por el promedio del grupo\n",
    "scores['test1'] = scores.groupby('teacher')['test1'].apply(lambda x: x.fillna(x.mean()))\n",
    "\n",
    "# Crear la categoría de desempeño\n",
    "def categorize_score(score):\n",
    "    if score >= 85:\n",
    "        return \"Alto\"\n",
    "    elif score >= 70:\n",
    "        return \"Medio\"\n",
    "    else:\n",
    "        return \"Bajo\"\n",
    "\n",
    "scores['score_category'] = scores['test1'].apply(categorize_score)\n",
    "\n",
    "# Contar la cantidad de estudiantes por categoría\n",
    "category_counts = scores['score_category'].value_counts()\n",
    "print(\"Cantidad de estudiantes por categoría de rendimiento:\")\n",
    "print(category_counts)\n",
    "```\n",
    "\n",
    "##### **Ejercicio 4: Detección de puntuaciones de estudiantes anómalas usando percentiles**\n",
    "Los estudiantes con puntuaciones **fuera del percentil 10 o por encima del percentil 90** pueden considerarse atípicos.\n",
    "\n",
    "#### **Tareas:**\n",
    "1. Usa `groupby` para calcular los **percentiles 10 y 90** de `\"test1\"` y `\"test2\"` para cada `\"teacher\"`.\n",
    "2. Filtra a los estudiantes cuya puntuación esté fuera de este rango.\n",
    "3. Usa `.merge()` para unir estos datos con el dataset original y visualizar los resultados.\n",
    "\n",
    "#### **Código base:**\n",
    "```python\n",
    "# Calcular percentiles 10 y 90 por maestro\n",
    "percentiles = scores.groupby('teacher')[['test1', 'test2']].quantile([0.10, 0.90]).unstack()\n",
    "low_test1 = percentiles.loc[0.10, 'test1']\n",
    "high_test1 = percentiles.loc[0.90, 'test1']\n",
    "\n",
    "# Filtrar estudiantes atípicos\n",
    "outliers = scores[(scores['test1'] < low_test1[scores['teacher']]) | \n",
    "                  (scores['test1'] > high_test1[scores['teacher']])]\n",
    "\n",
    "print(\"Estudiantes con puntajes atípicos:\")\n",
    "print(outliers)\n",
    "```\n",
    "\n",
    "##### **Ejercicio 5: Implementación de un mini-modelo de aprendizaje automático**\n",
    "Ahora crearemos una regresión simple para predecir `\"test1\"` en función de `\"test2\"`.\n",
    "\n",
    "#### **Tareas:**\n",
    "1. Usa `LinearRegression` de `sklearn` para ajustar un modelo simple `test1 = f(test2)`.\n",
    "2. Evalúa el modelo con un conjunto de prueba (`train_test_split`).\n",
    "3. Grafica los resultados con `matplotlib`.\n",
    "\n",
    "#### **Código base:**\n",
    "```python\n",
    "from sklearn.model_selection import train_test_split\n",
    "from sklearn.linear_model import LinearRegression\n",
    "import matplotlib.pyplot as plt\n",
    "\n",
    "# Eliminar filas con valores nulos\n",
    "data = scores.dropna(subset=['test1', 'test2'])\n",
    "\n",
    "# Separar datos de entrenamiento y prueba\n",
    "X_train, X_test, y_train, y_test = train_test_split(data[['test2']], data['test1'], test_size=0.3, random_state=42)\n",
    "\n",
    "# Entrenar modelo\n",
    "model = LinearRegression()\n",
    "model.fit(X_train, y_train)\n",
    "\n",
    "# Predecir valores\n",
    "y_pred = model.predict(X_test)\n",
    "\n",
    "# Visualizar la relación test1 vs test2\n",
    "plt.scatter(X_test, y_test, label=\"Actual\")\n",
    "plt.plot(X_test, y_pred, color='red', label=\"Predicted\")\n",
    "plt.xlabel(\"test2\")\n",
    "plt.ylabel(\"test1\")\n",
    "plt.legend()\n",
    "plt.title(\"Regresión lineal: test1 vs test2\")\n",
    "plt.show()\n",
    "```\n"
   ]
  },
  {
   "cell_type": "code",
   "execution_count": null,
   "metadata": {},
   "outputs": [],
   "source": [
    "## Tus respuestas"
   ]
  }
 ],
 "metadata": {
  "colab": {
   "collapsed_sections": [],
   "name": "Capitulo2B.ipynb",
   "provenance": []
  },
  "kernelspec": {
   "display_name": "Python 3 (ipykernel)",
   "language": "python",
   "name": "python3"
  },
  "language_info": {
   "codemirror_mode": {
    "name": "ipython",
    "version": 3
   },
   "file_extension": ".py",
   "mimetype": "text/x-python",
   "name": "python",
   "nbconvert_exporter": "python",
   "pygments_lexer": "ipython3",
   "version": "3.12.4"
  }
 },
 "nbformat": 4,
 "nbformat_minor": 4
}
